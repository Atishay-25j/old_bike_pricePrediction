{
 "cells": [
  {
   "cell_type": "markdown",
   "id": "5cf05d27",
   "metadata": {},
   "source": [
    ">>># Old BIkes price prediction project 🛵"
   ]
  },
  {
   "cell_type": "markdown",
   "id": "5508992e",
   "metadata": {},
   "source": [
    "### importing library"
   ]
  },
  {
   "cell_type": "code",
   "execution_count": 1,
   "id": "4e4833f2",
   "metadata": {},
   "outputs": [
    {
     "name": "stdout",
     "output_type": "stream",
     "text": [
      "library has been imported\n"
     ]
    }
   ],
   "source": [
    "import pandas as pd\n",
    "import numpy as np\n",
    "import seaborn as sns\n",
    "import plotly.express as exp\n",
    "import matplotlib.pyplot as plt\n",
    "from sklearn.ensemble import RandomForestRegressor\n",
    "from sklearn.linear_model import LinearRegression\n",
    "from sklearn.preprocessing import StandardScaler\n",
    "from sklearn.metrics import r2_score,mean_absolute_error,mean_squared_error\n",
    "from sklearn.model_selection import cross_val_score\n",
    "import pickle\n",
    "%matplotlib inline\n",
    "print('library has been imported')"
   ]
  },
  {
   "cell_type": "code",
   "execution_count": 2,
   "id": "9fdb900c",
   "metadata": {},
   "outputs": [],
   "source": [
    "import warnings\n",
    "warnings.filterwarnings('ignore')"
   ]
  },
  {
   "cell_type": "code",
   "execution_count": 88,
   "id": "d69c2cdb",
   "metadata": {},
   "outputs": [
    {
     "data": {
      "text/html": [
       "<div>\n",
       "<style scoped>\n",
       "    .dataframe tbody tr th:only-of-type {\n",
       "        vertical-align: middle;\n",
       "    }\n",
       "\n",
       "    .dataframe tbody tr th {\n",
       "        vertical-align: top;\n",
       "    }\n",
       "\n",
       "    .dataframe thead th {\n",
       "        text-align: right;\n",
       "    }\n",
       "</style>\n",
       "<table border=\"1\" class=\"dataframe\">\n",
       "  <thead>\n",
       "    <tr style=\"text-align: right;\">\n",
       "      <th></th>\n",
       "      <th>bike_name</th>\n",
       "      <th>price</th>\n",
       "      <th>city</th>\n",
       "      <th>kms_driven</th>\n",
       "      <th>owner</th>\n",
       "      <th>age</th>\n",
       "      <th>power</th>\n",
       "      <th>brand</th>\n",
       "    </tr>\n",
       "  </thead>\n",
       "  <tbody>\n",
       "    <tr>\n",
       "      <th>0</th>\n",
       "      <td>TVS Star City Plus Dual Tone 110cc</td>\n",
       "      <td>35000.0</td>\n",
       "      <td>Ahmedabad</td>\n",
       "      <td>17654.0</td>\n",
       "      <td>First Owner</td>\n",
       "      <td>3.0</td>\n",
       "      <td>110.0</td>\n",
       "      <td>TVS</td>\n",
       "    </tr>\n",
       "    <tr>\n",
       "      <th>1</th>\n",
       "      <td>Royal Enfield Classic 350cc</td>\n",
       "      <td>119900.0</td>\n",
       "      <td>Delhi</td>\n",
       "      <td>11000.0</td>\n",
       "      <td>First Owner</td>\n",
       "      <td>4.0</td>\n",
       "      <td>350.0</td>\n",
       "      <td>Royal Enfield</td>\n",
       "    </tr>\n",
       "    <tr>\n",
       "      <th>2</th>\n",
       "      <td>Triumph Daytona 675R</td>\n",
       "      <td>600000.0</td>\n",
       "      <td>Delhi</td>\n",
       "      <td>110.0</td>\n",
       "      <td>First Owner</td>\n",
       "      <td>8.0</td>\n",
       "      <td>675.0</td>\n",
       "      <td>Triumph</td>\n",
       "    </tr>\n",
       "    <tr>\n",
       "      <th>3</th>\n",
       "      <td>TVS Apache RTR 180cc</td>\n",
       "      <td>65000.0</td>\n",
       "      <td>Bangalore</td>\n",
       "      <td>16329.0</td>\n",
       "      <td>First Owner</td>\n",
       "      <td>4.0</td>\n",
       "      <td>180.0</td>\n",
       "      <td>TVS</td>\n",
       "    </tr>\n",
       "    <tr>\n",
       "      <th>4</th>\n",
       "      <td>Yamaha FZ S V 2.0 150cc-Ltd. Edition</td>\n",
       "      <td>80000.0</td>\n",
       "      <td>Bangalore</td>\n",
       "      <td>10000.0</td>\n",
       "      <td>First Owner</td>\n",
       "      <td>3.0</td>\n",
       "      <td>150.0</td>\n",
       "      <td>Yamaha</td>\n",
       "    </tr>\n",
       "  </tbody>\n",
       "</table>\n",
       "</div>"
      ],
      "text/plain": [
       "                              bike_name     price       city  kms_driven  \\\n",
       "0    TVS Star City Plus Dual Tone 110cc   35000.0  Ahmedabad     17654.0   \n",
       "1           Royal Enfield Classic 350cc  119900.0      Delhi     11000.0   \n",
       "2                  Triumph Daytona 675R  600000.0      Delhi       110.0   \n",
       "3                  TVS Apache RTR 180cc   65000.0  Bangalore     16329.0   \n",
       "4  Yamaha FZ S V 2.0 150cc-Ltd. Edition   80000.0  Bangalore     10000.0   \n",
       "\n",
       "         owner  age  power          brand  \n",
       "0  First Owner  3.0  110.0            TVS  \n",
       "1  First Owner  4.0  350.0  Royal Enfield  \n",
       "2  First Owner  8.0  675.0        Triumph  \n",
       "3  First Owner  4.0  180.0            TVS  \n",
       "4  First Owner  3.0  150.0         Yamaha  "
      ]
     },
     "execution_count": 88,
     "metadata": {},
     "output_type": "execute_result"
    }
   ],
   "source": [
    "df = pd.read_csv('Used_Bikes.csv')\n",
    "df.head()       "
   ]
  },
  {
   "cell_type": "code",
   "execution_count": 4,
   "id": "ca81f407",
   "metadata": {},
   "outputs": [
    {
     "data": {
      "text/plain": [
       "(32648, 8)"
      ]
     },
     "execution_count": 4,
     "metadata": {},
     "output_type": "execute_result"
    }
   ],
   "source": [
    "df.shape"
   ]
  },
  {
   "cell_type": "code",
   "execution_count": 5,
   "id": "e7cb7c09",
   "metadata": {},
   "outputs": [
    {
     "name": "stdout",
     "output_type": "stream",
     "text": [
      "<class 'pandas.core.frame.DataFrame'>\n",
      "RangeIndex: 32648 entries, 0 to 32647\n",
      "Data columns (total 8 columns):\n",
      " #   Column      Non-Null Count  Dtype  \n",
      "---  ------      --------------  -----  \n",
      " 0   bike_name   32648 non-null  object \n",
      " 1   price       32648 non-null  float64\n",
      " 2   city        32648 non-null  object \n",
      " 3   kms_driven  32648 non-null  float64\n",
      " 4   owner       32648 non-null  object \n",
      " 5   age         32648 non-null  float64\n",
      " 6   power       32648 non-null  float64\n",
      " 7   brand       32648 non-null  object \n",
      "dtypes: float64(4), object(4)\n",
      "memory usage: 2.0+ MB\n"
     ]
    }
   ],
   "source": [
    "df.info()"
   ]
  },
  {
   "cell_type": "code",
   "execution_count": 6,
   "id": "b12c95c9",
   "metadata": {},
   "outputs": [
    {
     "data": {
      "text/html": [
       "<div>\n",
       "<style scoped>\n",
       "    .dataframe tbody tr th:only-of-type {\n",
       "        vertical-align: middle;\n",
       "    }\n",
       "\n",
       "    .dataframe tbody tr th {\n",
       "        vertical-align: top;\n",
       "    }\n",
       "\n",
       "    .dataframe thead th {\n",
       "        text-align: right;\n",
       "    }\n",
       "</style>\n",
       "<table border=\"1\" class=\"dataframe\">\n",
       "  <thead>\n",
       "    <tr style=\"text-align: right;\">\n",
       "      <th></th>\n",
       "      <th>price</th>\n",
       "      <th>kms_driven</th>\n",
       "      <th>age</th>\n",
       "      <th>power</th>\n",
       "    </tr>\n",
       "  </thead>\n",
       "  <tbody>\n",
       "    <tr>\n",
       "      <th>count</th>\n",
       "      <td>3.264800e+04</td>\n",
       "      <td>32648.000000</td>\n",
       "      <td>32648.000000</td>\n",
       "      <td>32648.000000</td>\n",
       "    </tr>\n",
       "    <tr>\n",
       "      <th>mean</th>\n",
       "      <td>6.829542e+04</td>\n",
       "      <td>26344.625184</td>\n",
       "      <td>8.048211</td>\n",
       "      <td>213.511302</td>\n",
       "    </tr>\n",
       "    <tr>\n",
       "      <th>std</th>\n",
       "      <td>9.071860e+04</td>\n",
       "      <td>22208.527695</td>\n",
       "      <td>4.031700</td>\n",
       "      <td>134.428868</td>\n",
       "    </tr>\n",
       "    <tr>\n",
       "      <th>min</th>\n",
       "      <td>4.400000e+03</td>\n",
       "      <td>1.000000</td>\n",
       "      <td>1.000000</td>\n",
       "      <td>100.000000</td>\n",
       "    </tr>\n",
       "    <tr>\n",
       "      <th>25%</th>\n",
       "      <td>2.500000e+04</td>\n",
       "      <td>12000.000000</td>\n",
       "      <td>5.000000</td>\n",
       "      <td>150.000000</td>\n",
       "    </tr>\n",
       "    <tr>\n",
       "      <th>50%</th>\n",
       "      <td>4.300000e+04</td>\n",
       "      <td>20373.000000</td>\n",
       "      <td>7.000000</td>\n",
       "      <td>150.000000</td>\n",
       "    </tr>\n",
       "    <tr>\n",
       "      <th>75%</th>\n",
       "      <td>8.000000e+04</td>\n",
       "      <td>35000.000000</td>\n",
       "      <td>10.000000</td>\n",
       "      <td>220.000000</td>\n",
       "    </tr>\n",
       "    <tr>\n",
       "      <th>max</th>\n",
       "      <td>1.900000e+06</td>\n",
       "      <td>750000.000000</td>\n",
       "      <td>63.000000</td>\n",
       "      <td>1800.000000</td>\n",
       "    </tr>\n",
       "  </tbody>\n",
       "</table>\n",
       "</div>"
      ],
      "text/plain": [
       "              price     kms_driven           age         power\n",
       "count  3.264800e+04   32648.000000  32648.000000  32648.000000\n",
       "mean   6.829542e+04   26344.625184      8.048211    213.511302\n",
       "std    9.071860e+04   22208.527695      4.031700    134.428868\n",
       "min    4.400000e+03       1.000000      1.000000    100.000000\n",
       "25%    2.500000e+04   12000.000000      5.000000    150.000000\n",
       "50%    4.300000e+04   20373.000000      7.000000    150.000000\n",
       "75%    8.000000e+04   35000.000000     10.000000    220.000000\n",
       "max    1.900000e+06  750000.000000     63.000000   1800.000000"
      ]
     },
     "execution_count": 6,
     "metadata": {},
     "output_type": "execute_result"
    }
   ],
   "source": [
    "df.describe()"
   ]
  },
  {
   "cell_type": "code",
   "execution_count": 7,
   "id": "53971d94",
   "metadata": {},
   "outputs": [
    {
     "data": {
      "text/plain": [
       "43000.0"
      ]
     },
     "execution_count": 7,
     "metadata": {},
     "output_type": "execute_result"
    }
   ],
   "source": [
    "df['price'].median()"
   ]
  },
  {
   "cell_type": "code",
   "execution_count": 8,
   "id": "464577c3",
   "metadata": {},
   "outputs": [
    {
     "data": {
      "text/plain": [
       "68295.41763660868"
      ]
     },
     "execution_count": 8,
     "metadata": {},
     "output_type": "execute_result"
    }
   ],
   "source": [
    "df['price'].mean()"
   ]
  },
  {
   "cell_type": "code",
   "execution_count": 9,
   "id": "bdd3bdcd",
   "metadata": {},
   "outputs": [
    {
     "data": {
      "text/plain": [
       "0    Bajaj\n",
       "Name: brand, dtype: object"
      ]
     },
     "execution_count": 9,
     "metadata": {},
     "output_type": "execute_result"
    }
   ],
   "source": [
    "df['brand'].mode()"
   ]
  },
  {
   "cell_type": "code",
   "execution_count": 10,
   "id": "d29a13c2",
   "metadata": {},
   "outputs": [
    {
     "data": {
      "text/plain": [
       "Bajaj              11213\n",
       "Hero                6368\n",
       "Royal Enfield       4178\n",
       "Yamaha              3916\n",
       "Honda               2108\n",
       "Suzuki              1464\n",
       "TVS                 1247\n",
       "KTM                 1077\n",
       "Harley-Davidson      737\n",
       "Kawasaki              79\n",
       "Hyosung               64\n",
       "Benelli               56\n",
       "Mahindra              55\n",
       "Triumph               26\n",
       "Ducati                22\n",
       "BMW                   16\n",
       "Jawa                  10\n",
       "MV                     4\n",
       "Indian                 3\n",
       "Ideal                  2\n",
       "Rajdoot                1\n",
       "LML                    1\n",
       "Yezdi                  1\n",
       "Name: brand, dtype: int64"
      ]
     },
     "execution_count": 10,
     "metadata": {},
     "output_type": "execute_result"
    }
   ],
   "source": [
    "df['brand'].value_counts()"
   ]
  },
  {
   "cell_type": "code",
   "execution_count": 11,
   "id": "b4de04b4",
   "metadata": {},
   "outputs": [
    {
     "data": {
      "text/plain": [
       "First Owner             29964\n",
       "Second Owner             2564\n",
       "Third Owner               108\n",
       "Fourth Owner Or More       12\n",
       "Name: owner, dtype: int64"
      ]
     },
     "execution_count": 11,
     "metadata": {},
     "output_type": "execute_result"
    }
   ],
   "source": [
    "df['owner'].value_counts()"
   ]
  },
  {
   "cell_type": "markdown",
   "id": "2d34ec3f",
   "metadata": {},
   "source": [
    "### check the missing value"
   ]
  },
  {
   "cell_type": "code",
   "execution_count": 12,
   "id": "632fe8b4",
   "metadata": {},
   "outputs": [
    {
     "data": {
      "text/html": [
       "<div>\n",
       "<style scoped>\n",
       "    .dataframe tbody tr th:only-of-type {\n",
       "        vertical-align: middle;\n",
       "    }\n",
       "\n",
       "    .dataframe tbody tr th {\n",
       "        vertical-align: top;\n",
       "    }\n",
       "\n",
       "    .dataframe thead th {\n",
       "        text-align: right;\n",
       "    }\n",
       "</style>\n",
       "<table border=\"1\" class=\"dataframe\">\n",
       "  <thead>\n",
       "    <tr style=\"text-align: right;\">\n",
       "      <th></th>\n",
       "      <th>bike_name</th>\n",
       "      <th>price</th>\n",
       "      <th>city</th>\n",
       "      <th>kms_driven</th>\n",
       "      <th>owner</th>\n",
       "      <th>age</th>\n",
       "      <th>power</th>\n",
       "      <th>brand</th>\n",
       "    </tr>\n",
       "  </thead>\n",
       "  <tbody>\n",
       "    <tr>\n",
       "      <th>0</th>\n",
       "      <td>TVS Star City Plus Dual Tone 110cc</td>\n",
       "      <td>35000.0</td>\n",
       "      <td>Ahmedabad</td>\n",
       "      <td>17654.0</td>\n",
       "      <td>First Owner</td>\n",
       "      <td>3.0</td>\n",
       "      <td>110.0</td>\n",
       "      <td>TVS</td>\n",
       "    </tr>\n",
       "    <tr>\n",
       "      <th>1</th>\n",
       "      <td>Royal Enfield Classic 350cc</td>\n",
       "      <td>119900.0</td>\n",
       "      <td>Delhi</td>\n",
       "      <td>11000.0</td>\n",
       "      <td>First Owner</td>\n",
       "      <td>4.0</td>\n",
       "      <td>350.0</td>\n",
       "      <td>Royal Enfield</td>\n",
       "    </tr>\n",
       "  </tbody>\n",
       "</table>\n",
       "</div>"
      ],
      "text/plain": [
       "                            bike_name     price       city  kms_driven  \\\n",
       "0  TVS Star City Plus Dual Tone 110cc   35000.0  Ahmedabad     17654.0   \n",
       "1         Royal Enfield Classic 350cc  119900.0      Delhi     11000.0   \n",
       "\n",
       "         owner  age  power          brand  \n",
       "0  First Owner  3.0  110.0            TVS  \n",
       "1  First Owner  4.0  350.0  Royal Enfield  "
      ]
     },
     "execution_count": 12,
     "metadata": {},
     "output_type": "execute_result"
    }
   ],
   "source": [
    "df.head(2)"
   ]
  },
  {
   "cell_type": "code",
   "execution_count": 13,
   "id": "ec70be27",
   "metadata": {},
   "outputs": [
    {
     "data": {
      "text/plain": [
       "0"
      ]
     },
     "execution_count": 13,
     "metadata": {},
     "output_type": "execute_result"
    }
   ],
   "source": [
    "df.isnull().sum().sum()       # there is no missing value"
   ]
  },
  {
   "cell_type": "code",
   "execution_count": 14,
   "id": "af4ff174",
   "metadata": {},
   "outputs": [
    {
     "data": {
      "text/plain": [
       "23"
      ]
     },
     "execution_count": 14,
     "metadata": {},
     "output_type": "execute_result"
    }
   ],
   "source": [
    "df['brand'].nunique()         # total 23 brand"
   ]
  },
  {
   "cell_type": "code",
   "execution_count": 15,
   "id": "6a8ba777",
   "metadata": {},
   "outputs": [
    {
     "data": {
      "text/plain": [
       "array(['TVS', 'Royal Enfield', 'Triumph', 'Yamaha', 'Honda', 'Hero',\n",
       "       'Bajaj', 'Suzuki', 'Benelli', 'KTM', 'Mahindra', 'Kawasaki',\n",
       "       'Ducati', 'Hyosung', 'Harley-Davidson', 'Jawa', 'BMW', 'Indian',\n",
       "       'Rajdoot', 'LML', 'Yezdi', 'MV', 'Ideal'], dtype=object)"
      ]
     },
     "execution_count": 15,
     "metadata": {},
     "output_type": "execute_result"
    }
   ],
   "source": [
    "df['brand'].unique()"
   ]
  },
  {
   "cell_type": "code",
   "execution_count": 16,
   "id": "21360dd9",
   "metadata": {},
   "outputs": [
    {
     "data": {
      "text/plain": [
       "471"
      ]
     },
     "execution_count": 16,
     "metadata": {},
     "output_type": "execute_result"
    }
   ],
   "source": [
    "df['bike_name'].nunique()"
   ]
  },
  {
   "cell_type": "code",
   "execution_count": 17,
   "id": "6788520c",
   "metadata": {},
   "outputs": [
    {
     "data": {
      "text/plain": [
       "(6368, 8)"
      ]
     },
     "execution_count": 17,
     "metadata": {},
     "output_type": "execute_result"
    }
   ],
   "source": [
    "df[df['brand']=='Hero'].shape     # total Hero brand bike"
   ]
  },
  {
   "cell_type": "markdown",
   "id": "90a494da",
   "metadata": {},
   "source": [
    "## KTM bike analyses"
   ]
  },
  {
   "cell_type": "code",
   "execution_count": 18,
   "id": "92c7c558",
   "metadata": {},
   "outputs": [
    {
     "data": {
      "text/html": [
       "<div>\n",
       "<style scoped>\n",
       "    .dataframe tbody tr th:only-of-type {\n",
       "        vertical-align: middle;\n",
       "    }\n",
       "\n",
       "    .dataframe tbody tr th {\n",
       "        vertical-align: top;\n",
       "    }\n",
       "\n",
       "    .dataframe thead th {\n",
       "        text-align: right;\n",
       "    }\n",
       "</style>\n",
       "<table border=\"1\" class=\"dataframe\">\n",
       "  <thead>\n",
       "    <tr style=\"text-align: right;\">\n",
       "      <th></th>\n",
       "      <th>bike_name</th>\n",
       "      <th>price</th>\n",
       "      <th>city</th>\n",
       "      <th>kms_driven</th>\n",
       "      <th>owner</th>\n",
       "      <th>age</th>\n",
       "      <th>power</th>\n",
       "      <th>brand</th>\n",
       "    </tr>\n",
       "  </thead>\n",
       "  <tbody>\n",
       "    <tr>\n",
       "      <th>33</th>\n",
       "      <td>KTM RC 390cc</td>\n",
       "      <td>180000.0</td>\n",
       "      <td>Pune</td>\n",
       "      <td>17700.0</td>\n",
       "      <td>First Owner</td>\n",
       "      <td>4.0</td>\n",
       "      <td>390.0</td>\n",
       "      <td>KTM</td>\n",
       "    </tr>\n",
       "    <tr>\n",
       "      <th>35</th>\n",
       "      <td>KTM Duke 200cc</td>\n",
       "      <td>70000.0</td>\n",
       "      <td>Nashik</td>\n",
       "      <td>100000.0</td>\n",
       "      <td>Second Owner</td>\n",
       "      <td>8.0</td>\n",
       "      <td>200.0</td>\n",
       "      <td>KTM</td>\n",
       "    </tr>\n",
       "    <tr>\n",
       "      <th>39</th>\n",
       "      <td>KTM RC 200cc ABS</td>\n",
       "      <td>179000.0</td>\n",
       "      <td>Bangalore</td>\n",
       "      <td>3400.0</td>\n",
       "      <td>First Owner</td>\n",
       "      <td>2.0</td>\n",
       "      <td>200.0</td>\n",
       "      <td>KTM</td>\n",
       "    </tr>\n",
       "    <tr>\n",
       "      <th>65</th>\n",
       "      <td>KTM Duke 200cc</td>\n",
       "      <td>94700.0</td>\n",
       "      <td>Baripara</td>\n",
       "      <td>32700.0</td>\n",
       "      <td>First Owner</td>\n",
       "      <td>4.0</td>\n",
       "      <td>200.0</td>\n",
       "      <td>KTM</td>\n",
       "    </tr>\n",
       "    <tr>\n",
       "      <th>83</th>\n",
       "      <td>KTM Duke 250cc</td>\n",
       "      <td>130000.0</td>\n",
       "      <td>Gandhidham</td>\n",
       "      <td>17500.0</td>\n",
       "      <td>Second Owner</td>\n",
       "      <td>4.0</td>\n",
       "      <td>250.0</td>\n",
       "      <td>KTM</td>\n",
       "    </tr>\n",
       "  </tbody>\n",
       "</table>\n",
       "</div>"
      ],
      "text/plain": [
       "           bike_name     price        city  kms_driven         owner  age  \\\n",
       "33      KTM RC 390cc  180000.0        Pune     17700.0   First Owner  4.0   \n",
       "35    KTM Duke 200cc   70000.0      Nashik    100000.0  Second Owner  8.0   \n",
       "39  KTM RC 200cc ABS  179000.0   Bangalore      3400.0   First Owner  2.0   \n",
       "65    KTM Duke 200cc   94700.0    Baripara     32700.0   First Owner  4.0   \n",
       "83    KTM Duke 250cc  130000.0  Gandhidham     17500.0  Second Owner  4.0   \n",
       "\n",
       "    power brand  \n",
       "33  390.0   KTM  \n",
       "35  200.0   KTM  \n",
       "39  200.0   KTM  \n",
       "65  200.0   KTM  \n",
       "83  250.0   KTM  "
      ]
     },
     "execution_count": 18,
     "metadata": {},
     "output_type": "execute_result"
    }
   ],
   "source": [
    "ktm = df[df['brand']=='KTM']\n",
    "ktm.head()"
   ]
  },
  {
   "cell_type": "code",
   "execution_count": 19,
   "id": "8988d61b",
   "metadata": {},
   "outputs": [
    {
     "data": {
      "text/plain": [
       "1077"
      ]
     },
     "execution_count": 19,
     "metadata": {},
     "output_type": "execute_result"
    }
   ],
   "source": [
    "ktm.shape[0]          # total KTM bike"
   ]
  },
  {
   "cell_type": "code",
   "execution_count": 20,
   "id": "cae43358",
   "metadata": {},
   "outputs": [
    {
     "data": {
      "text/plain": [
       "10"
      ]
     },
     "execution_count": 20,
     "metadata": {},
     "output_type": "execute_result"
    }
   ],
   "source": [
    "ktm['bike_name'].nunique()    # 10 unique KTM bikes"
   ]
  },
  {
   "cell_type": "code",
   "execution_count": 21,
   "id": "b8b0e649",
   "metadata": {},
   "outputs": [
    {
     "data": {
      "text/plain": [
       "860000.0"
      ]
     },
     "execution_count": 21,
     "metadata": {},
     "output_type": "execute_result"
    }
   ],
   "source": [
    "ktm['price'].max()"
   ]
  },
  {
   "cell_type": "code",
   "execution_count": 22,
   "id": "6d53f204",
   "metadata": {},
   "outputs": [
    {
     "data": {
      "text/plain": [
       "First Owner     1040\n",
       "Second Owner      29\n",
       "Third Owner        8\n",
       "Name: owner, dtype: int64"
      ]
     },
     "execution_count": 22,
     "metadata": {},
     "output_type": "execute_result"
    }
   ],
   "source": [
    "ktm['owner'].value_counts()"
   ]
  },
  {
   "cell_type": "markdown",
   "id": "a9702da8",
   "metadata": {},
   "source": [
    "# cd delux bike analysis"
   ]
  },
  {
   "cell_type": "code",
   "execution_count": 23,
   "id": "4397c8a1",
   "metadata": {},
   "outputs": [
    {
     "data": {
      "text/html": [
       "<div>\n",
       "<style scoped>\n",
       "    .dataframe tbody tr th:only-of-type {\n",
       "        vertical-align: middle;\n",
       "    }\n",
       "\n",
       "    .dataframe tbody tr th {\n",
       "        vertical-align: top;\n",
       "    }\n",
       "\n",
       "    .dataframe thead th {\n",
       "        text-align: right;\n",
       "    }\n",
       "</style>\n",
       "<table border=\"1\" class=\"dataframe\">\n",
       "  <thead>\n",
       "    <tr style=\"text-align: right;\">\n",
       "      <th></th>\n",
       "      <th>bike_name</th>\n",
       "      <th>price</th>\n",
       "      <th>city</th>\n",
       "      <th>kms_driven</th>\n",
       "      <th>owner</th>\n",
       "      <th>age</th>\n",
       "      <th>power</th>\n",
       "      <th>brand</th>\n",
       "    </tr>\n",
       "  </thead>\n",
       "  <tbody>\n",
       "    <tr>\n",
       "      <th>7</th>\n",
       "      <td>Hero Splendor Plus Self Alloy 100cc</td>\n",
       "      <td>45000.0</td>\n",
       "      <td>Delhi</td>\n",
       "      <td>12645.0</td>\n",
       "      <td>First Owner</td>\n",
       "      <td>3.0</td>\n",
       "      <td>100.0</td>\n",
       "      <td>Hero</td>\n",
       "    </tr>\n",
       "    <tr>\n",
       "      <th>22</th>\n",
       "      <td>Hero Splendor iSmart Plus IBS 110cc</td>\n",
       "      <td>46500.0</td>\n",
       "      <td>Delhi</td>\n",
       "      <td>3500.0</td>\n",
       "      <td>First Owner</td>\n",
       "      <td>2.0</td>\n",
       "      <td>110.0</td>\n",
       "      <td>Hero</td>\n",
       "    </tr>\n",
       "    <tr>\n",
       "      <th>26</th>\n",
       "      <td>Hero Super Splendor 125cc</td>\n",
       "      <td>20000.0</td>\n",
       "      <td>Ahmedabad</td>\n",
       "      <td>29305.0</td>\n",
       "      <td>First Owner</td>\n",
       "      <td>16.0</td>\n",
       "      <td>125.0</td>\n",
       "      <td>Hero</td>\n",
       "    </tr>\n",
       "    <tr>\n",
       "      <th>48</th>\n",
       "      <td>Hero Hunk 150cc</td>\n",
       "      <td>37000.0</td>\n",
       "      <td>Mumbai</td>\n",
       "      <td>10800.0</td>\n",
       "      <td>First Owner</td>\n",
       "      <td>8.0</td>\n",
       "      <td>150.0</td>\n",
       "      <td>Hero</td>\n",
       "    </tr>\n",
       "    <tr>\n",
       "      <th>66</th>\n",
       "      <td>Hero CD Deluxe 100cc</td>\n",
       "      <td>12200.0</td>\n",
       "      <td>Agra</td>\n",
       "      <td>46643.0</td>\n",
       "      <td>First Owner</td>\n",
       "      <td>14.0</td>\n",
       "      <td>100.0</td>\n",
       "      <td>Hero</td>\n",
       "    </tr>\n",
       "  </tbody>\n",
       "</table>\n",
       "</div>"
      ],
      "text/plain": [
       "                              bike_name    price       city  kms_driven  \\\n",
       "7   Hero Splendor Plus Self Alloy 100cc  45000.0      Delhi     12645.0   \n",
       "22  Hero Splendor iSmart Plus IBS 110cc  46500.0      Delhi      3500.0   \n",
       "26            Hero Super Splendor 125cc  20000.0  Ahmedabad     29305.0   \n",
       "48                      Hero Hunk 150cc  37000.0     Mumbai     10800.0   \n",
       "66                 Hero CD Deluxe 100cc  12200.0       Agra     46643.0   \n",
       "\n",
       "          owner   age  power brand  \n",
       "7   First Owner   3.0  100.0  Hero  \n",
       "22  First Owner   2.0  110.0  Hero  \n",
       "26  First Owner  16.0  125.0  Hero  \n",
       "48  First Owner   8.0  150.0  Hero  \n",
       "66  First Owner  14.0  100.0  Hero  "
      ]
     },
     "execution_count": 23,
     "metadata": {},
     "output_type": "execute_result"
    }
   ],
   "source": [
    "hero = df[df['brand']=='Hero']\n",
    "hero.head()"
   ]
  },
  {
   "cell_type": "code",
   "execution_count": 24,
   "id": "69a07499",
   "metadata": {},
   "outputs": [
    {
     "data": {
      "text/plain": [
       "(6368, 8)"
      ]
     },
     "execution_count": 24,
     "metadata": {},
     "output_type": "execute_result"
    }
   ],
   "source": [
    "hero.shape"
   ]
  },
  {
   "cell_type": "code",
   "execution_count": 25,
   "id": "fd964d29",
   "metadata": {},
   "outputs": [
    {
     "data": {
      "text/plain": [
       "74"
      ]
     },
     "execution_count": 25,
     "metadata": {},
     "output_type": "execute_result"
    }
   ],
   "source": [
    "hero['bike_name'].nunique()"
   ]
  },
  {
   "cell_type": "code",
   "execution_count": 26,
   "id": "c264da52",
   "metadata": {},
   "outputs": [
    {
     "data": {
      "text/html": [
       "<div>\n",
       "<style scoped>\n",
       "    .dataframe tbody tr th:only-of-type {\n",
       "        vertical-align: middle;\n",
       "    }\n",
       "\n",
       "    .dataframe tbody tr th {\n",
       "        vertical-align: top;\n",
       "    }\n",
       "\n",
       "    .dataframe thead th {\n",
       "        text-align: right;\n",
       "    }\n",
       "</style>\n",
       "<table border=\"1\" class=\"dataframe\">\n",
       "  <thead>\n",
       "    <tr style=\"text-align: right;\">\n",
       "      <th></th>\n",
       "      <th>bike_name</th>\n",
       "      <th>price</th>\n",
       "      <th>city</th>\n",
       "      <th>kms_driven</th>\n",
       "      <th>owner</th>\n",
       "      <th>age</th>\n",
       "      <th>power</th>\n",
       "      <th>brand</th>\n",
       "    </tr>\n",
       "  </thead>\n",
       "  <tbody>\n",
       "    <tr>\n",
       "      <th>66</th>\n",
       "      <td>Hero CD Deluxe 100cc</td>\n",
       "      <td>12200.0</td>\n",
       "      <td>Agra</td>\n",
       "      <td>46643.0</td>\n",
       "      <td>First Owner</td>\n",
       "      <td>14.0</td>\n",
       "      <td>100.0</td>\n",
       "      <td>Hero</td>\n",
       "    </tr>\n",
       "    <tr>\n",
       "      <th>679</th>\n",
       "      <td>Hero CD Dawn 100cc</td>\n",
       "      <td>16000.0</td>\n",
       "      <td>Gurgaon</td>\n",
       "      <td>50000.0</td>\n",
       "      <td>First Owner</td>\n",
       "      <td>9.0</td>\n",
       "      <td>100.0</td>\n",
       "      <td>Hero</td>\n",
       "    </tr>\n",
       "    <tr>\n",
       "      <th>707</th>\n",
       "      <td>Hero CD Deluxe 100cc</td>\n",
       "      <td>29500.0</td>\n",
       "      <td>Kota</td>\n",
       "      <td>21017.0</td>\n",
       "      <td>First Owner</td>\n",
       "      <td>9.0</td>\n",
       "      <td>100.0</td>\n",
       "      <td>Hero</td>\n",
       "    </tr>\n",
       "    <tr>\n",
       "      <th>894</th>\n",
       "      <td>Hero CD Deluxe 100cc</td>\n",
       "      <td>29500.0</td>\n",
       "      <td>Kota</td>\n",
       "      <td>21017.0</td>\n",
       "      <td>First Owner</td>\n",
       "      <td>9.0</td>\n",
       "      <td>100.0</td>\n",
       "      <td>Hero</td>\n",
       "    </tr>\n",
       "    <tr>\n",
       "      <th>1137</th>\n",
       "      <td>Hero CD Deluxe 100cc</td>\n",
       "      <td>15200.0</td>\n",
       "      <td>Jhansi</td>\n",
       "      <td>36000.0</td>\n",
       "      <td>Second Owner</td>\n",
       "      <td>12.0</td>\n",
       "      <td>100.0</td>\n",
       "      <td>Hero</td>\n",
       "    </tr>\n",
       "  </tbody>\n",
       "</table>\n",
       "</div>"
      ],
      "text/plain": [
       "                 bike_name    price     city  kms_driven         owner   age  \\\n",
       "66    Hero CD Deluxe 100cc  12200.0     Agra     46643.0   First Owner  14.0   \n",
       "679     Hero CD Dawn 100cc  16000.0  Gurgaon     50000.0   First Owner   9.0   \n",
       "707   Hero CD Deluxe 100cc  29500.0     Kota     21017.0   First Owner   9.0   \n",
       "894   Hero CD Deluxe 100cc  29500.0     Kota     21017.0   First Owner   9.0   \n",
       "1137  Hero CD Deluxe 100cc  15200.0   Jhansi     36000.0  Second Owner  12.0   \n",
       "\n",
       "      power brand  \n",
       "66    100.0  Hero  \n",
       "679   100.0  Hero  \n",
       "707   100.0  Hero  \n",
       "894   100.0  Hero  \n",
       "1137  100.0  Hero  "
      ]
     },
     "execution_count": 26,
     "metadata": {},
     "output_type": "execute_result"
    }
   ],
   "source": [
    "cd_delux = hero[hero['bike_name'].str.contains('CD')]\n",
    "cd_delux.head()"
   ]
  },
  {
   "cell_type": "code",
   "execution_count": 27,
   "id": "bd007740",
   "metadata": {},
   "outputs": [
    {
     "data": {
      "text/plain": [
       "706"
      ]
     },
     "execution_count": 27,
     "metadata": {},
     "output_type": "execute_result"
    }
   ],
   "source": [
    "cd_delux.shape[0]           # 706 CD delux bike"
   ]
  },
  {
   "cell_type": "code",
   "execution_count": 28,
   "id": "7223547d",
   "metadata": {},
   "outputs": [
    {
     "data": {
      "text/plain": [
       "10000.0"
      ]
     },
     "execution_count": 28,
     "metadata": {},
     "output_type": "execute_result"
    }
   ],
   "source": [
    "cd_delux['price'].min()      # minimum price of cd delux bike"
   ]
  },
  {
   "cell_type": "code",
   "execution_count": 29,
   "id": "eced65bf",
   "metadata": {},
   "outputs": [
    {
     "data": {
      "text/plain": [
       "37500.0"
      ]
     },
     "execution_count": 29,
     "metadata": {},
     "output_type": "execute_result"
    }
   ],
   "source": [
    "hero[hero['bike_name'].str.contains('CD')]['price'].max()         # maximum price of CD Delux"
   ]
  },
  {
   "cell_type": "code",
   "execution_count": 30,
   "id": "84b7e582",
   "metadata": {},
   "outputs": [
    {
     "data": {
      "text/plain": [
       "443"
      ]
     },
     "execution_count": 30,
     "metadata": {},
     "output_type": "execute_result"
    }
   ],
   "source": [
    "df['city'].value_counts().keys().shape[0]          # 443 city record available "
   ]
  },
  {
   "cell_type": "code",
   "execution_count": 31,
   "id": "a6f3570a",
   "metadata": {},
   "outputs": [
    {
     "data": {
      "text/plain": [
       "63.0"
      ]
     },
     "execution_count": 31,
     "metadata": {},
     "output_type": "execute_result"
    }
   ],
   "source": [
    "df['age'].max()"
   ]
  },
  {
   "cell_type": "markdown",
   "id": "952e60d2",
   "metadata": {},
   "source": [
    "### analyse the data with groupby properties"
   ]
  },
  {
   "cell_type": "code",
   "execution_count": 32,
   "id": "cb0c3d10",
   "metadata": {},
   "outputs": [
    {
     "data": {
      "text/html": [
       "<div>\n",
       "<style scoped>\n",
       "    .dataframe tbody tr th:only-of-type {\n",
       "        vertical-align: middle;\n",
       "    }\n",
       "\n",
       "    .dataframe tbody tr th {\n",
       "        vertical-align: top;\n",
       "    }\n",
       "\n",
       "    .dataframe thead th {\n",
       "        text-align: right;\n",
       "    }\n",
       "</style>\n",
       "<table border=\"1\" class=\"dataframe\">\n",
       "  <thead>\n",
       "    <tr style=\"text-align: right;\">\n",
       "      <th></th>\n",
       "      <th>bike_name</th>\n",
       "      <th>price</th>\n",
       "      <th>city</th>\n",
       "      <th>kms_driven</th>\n",
       "      <th>owner</th>\n",
       "      <th>age</th>\n",
       "      <th>power</th>\n",
       "      <th>brand</th>\n",
       "    </tr>\n",
       "  </thead>\n",
       "  <tbody>\n",
       "    <tr>\n",
       "      <th>0</th>\n",
       "      <td>TVS Star City Plus Dual Tone 110cc</td>\n",
       "      <td>35000.0</td>\n",
       "      <td>Ahmedabad</td>\n",
       "      <td>17654.0</td>\n",
       "      <td>First Owner</td>\n",
       "      <td>3.0</td>\n",
       "      <td>110.0</td>\n",
       "      <td>TVS</td>\n",
       "    </tr>\n",
       "    <tr>\n",
       "      <th>1</th>\n",
       "      <td>Royal Enfield Classic 350cc</td>\n",
       "      <td>119900.0</td>\n",
       "      <td>Delhi</td>\n",
       "      <td>11000.0</td>\n",
       "      <td>First Owner</td>\n",
       "      <td>4.0</td>\n",
       "      <td>350.0</td>\n",
       "      <td>Royal Enfield</td>\n",
       "    </tr>\n",
       "  </tbody>\n",
       "</table>\n",
       "</div>"
      ],
      "text/plain": [
       "                            bike_name     price       city  kms_driven  \\\n",
       "0  TVS Star City Plus Dual Tone 110cc   35000.0  Ahmedabad     17654.0   \n",
       "1         Royal Enfield Classic 350cc  119900.0      Delhi     11000.0   \n",
       "\n",
       "         owner  age  power          brand  \n",
       "0  First Owner  3.0  110.0            TVS  \n",
       "1  First Owner  4.0  350.0  Royal Enfield  "
      ]
     },
     "execution_count": 32,
     "metadata": {},
     "output_type": "execute_result"
    }
   ],
   "source": [
    "df.head(2)"
   ]
  },
  {
   "cell_type": "code",
   "execution_count": 33,
   "id": "0d2f441a",
   "metadata": {},
   "outputs": [],
   "source": [
    "grouped=df.groupby(by='city')       # grouped the data by city columns"
   ]
  },
  {
   "cell_type": "code",
   "execution_count": 34,
   "id": "5f298457",
   "metadata": {},
   "outputs": [
    {
     "data": {
      "text/html": [
       "<div>\n",
       "<style scoped>\n",
       "    .dataframe tbody tr th:only-of-type {\n",
       "        vertical-align: middle;\n",
       "    }\n",
       "\n",
       "    .dataframe tbody tr th {\n",
       "        vertical-align: top;\n",
       "    }\n",
       "\n",
       "    .dataframe thead th {\n",
       "        text-align: right;\n",
       "    }\n",
       "</style>\n",
       "<table border=\"1\" class=\"dataframe\">\n",
       "  <thead>\n",
       "    <tr style=\"text-align: right;\">\n",
       "      <th></th>\n",
       "      <th>bike_name</th>\n",
       "      <th>price</th>\n",
       "      <th>city</th>\n",
       "      <th>kms_driven</th>\n",
       "      <th>owner</th>\n",
       "      <th>age</th>\n",
       "      <th>power</th>\n",
       "      <th>brand</th>\n",
       "    </tr>\n",
       "  </thead>\n",
       "  <tbody>\n",
       "    <tr>\n",
       "      <th>0</th>\n",
       "      <td>TVS Star City Plus Dual Tone 110cc</td>\n",
       "      <td>35000.0</td>\n",
       "      <td>Ahmedabad</td>\n",
       "      <td>17654.0</td>\n",
       "      <td>First Owner</td>\n",
       "      <td>3.0</td>\n",
       "      <td>110.0</td>\n",
       "      <td>TVS</td>\n",
       "    </tr>\n",
       "    <tr>\n",
       "      <th>26</th>\n",
       "      <td>Hero Super Splendor 125cc</td>\n",
       "      <td>20000.0</td>\n",
       "      <td>Ahmedabad</td>\n",
       "      <td>29305.0</td>\n",
       "      <td>First Owner</td>\n",
       "      <td>16.0</td>\n",
       "      <td>125.0</td>\n",
       "      <td>Hero</td>\n",
       "    </tr>\n",
       "    <tr>\n",
       "      <th>54</th>\n",
       "      <td>Bajaj Avenger 220cc</td>\n",
       "      <td>40000.0</td>\n",
       "      <td>Ahmedabad</td>\n",
       "      <td>64000.0</td>\n",
       "      <td>First Owner</td>\n",
       "      <td>7.0</td>\n",
       "      <td>220.0</td>\n",
       "      <td>Bajaj</td>\n",
       "    </tr>\n",
       "    <tr>\n",
       "      <th>56</th>\n",
       "      <td>Honda Dream Yuga 110cc</td>\n",
       "      <td>34500.0</td>\n",
       "      <td>Ahmedabad</td>\n",
       "      <td>17056.0</td>\n",
       "      <td>First Owner</td>\n",
       "      <td>5.0</td>\n",
       "      <td>110.0</td>\n",
       "      <td>Honda</td>\n",
       "    </tr>\n",
       "    <tr>\n",
       "      <th>168</th>\n",
       "      <td>Royal Enfield Classic 350cc</td>\n",
       "      <td>107000.0</td>\n",
       "      <td>Ahmedabad</td>\n",
       "      <td>17000.0</td>\n",
       "      <td>First Owner</td>\n",
       "      <td>4.0</td>\n",
       "      <td>350.0</td>\n",
       "      <td>Royal Enfield</td>\n",
       "    </tr>\n",
       "    <tr>\n",
       "      <th>...</th>\n",
       "      <td>...</td>\n",
       "      <td>...</td>\n",
       "      <td>...</td>\n",
       "      <td>...</td>\n",
       "      <td>...</td>\n",
       "      <td>...</td>\n",
       "      <td>...</td>\n",
       "      <td>...</td>\n",
       "    </tr>\n",
       "    <tr>\n",
       "      <th>32540</th>\n",
       "      <td>Suzuki Zeus 125cc</td>\n",
       "      <td>35000.0</td>\n",
       "      <td>Ahmedabad</td>\n",
       "      <td>11885.0</td>\n",
       "      <td>First Owner</td>\n",
       "      <td>12.0</td>\n",
       "      <td>125.0</td>\n",
       "      <td>Suzuki</td>\n",
       "    </tr>\n",
       "    <tr>\n",
       "      <th>32559</th>\n",
       "      <td>Suzuki Zeus 125cc</td>\n",
       "      <td>35000.0</td>\n",
       "      <td>Ahmedabad</td>\n",
       "      <td>11885.0</td>\n",
       "      <td>First Owner</td>\n",
       "      <td>12.0</td>\n",
       "      <td>125.0</td>\n",
       "      <td>Suzuki</td>\n",
       "    </tr>\n",
       "    <tr>\n",
       "      <th>32578</th>\n",
       "      <td>Suzuki Zeus 125cc</td>\n",
       "      <td>35000.0</td>\n",
       "      <td>Ahmedabad</td>\n",
       "      <td>11885.0</td>\n",
       "      <td>First Owner</td>\n",
       "      <td>12.0</td>\n",
       "      <td>125.0</td>\n",
       "      <td>Suzuki</td>\n",
       "    </tr>\n",
       "    <tr>\n",
       "      <th>32597</th>\n",
       "      <td>Suzuki Zeus 125cc</td>\n",
       "      <td>35000.0</td>\n",
       "      <td>Ahmedabad</td>\n",
       "      <td>11885.0</td>\n",
       "      <td>First Owner</td>\n",
       "      <td>12.0</td>\n",
       "      <td>125.0</td>\n",
       "      <td>Suzuki</td>\n",
       "    </tr>\n",
       "    <tr>\n",
       "      <th>32635</th>\n",
       "      <td>Suzuki Zeus 125cc</td>\n",
       "      <td>35000.0</td>\n",
       "      <td>Ahmedabad</td>\n",
       "      <td>11885.0</td>\n",
       "      <td>First Owner</td>\n",
       "      <td>12.0</td>\n",
       "      <td>125.0</td>\n",
       "      <td>Suzuki</td>\n",
       "    </tr>\n",
       "  </tbody>\n",
       "</table>\n",
       "<p>905 rows × 8 columns</p>\n",
       "</div>"
      ],
      "text/plain": [
       "                                bike_name     price       city  kms_driven  \\\n",
       "0      TVS Star City Plus Dual Tone 110cc   35000.0  Ahmedabad     17654.0   \n",
       "26              Hero Super Splendor 125cc   20000.0  Ahmedabad     29305.0   \n",
       "54                    Bajaj Avenger 220cc   40000.0  Ahmedabad     64000.0   \n",
       "56                 Honda Dream Yuga 110cc   34500.0  Ahmedabad     17056.0   \n",
       "168           Royal Enfield Classic 350cc  107000.0  Ahmedabad     17000.0   \n",
       "...                                   ...       ...        ...         ...   \n",
       "32540                   Suzuki Zeus 125cc   35000.0  Ahmedabad     11885.0   \n",
       "32559                   Suzuki Zeus 125cc   35000.0  Ahmedabad     11885.0   \n",
       "32578                   Suzuki Zeus 125cc   35000.0  Ahmedabad     11885.0   \n",
       "32597                   Suzuki Zeus 125cc   35000.0  Ahmedabad     11885.0   \n",
       "32635                   Suzuki Zeus 125cc   35000.0  Ahmedabad     11885.0   \n",
       "\n",
       "             owner   age  power          brand  \n",
       "0      First Owner   3.0  110.0            TVS  \n",
       "26     First Owner  16.0  125.0           Hero  \n",
       "54     First Owner   7.0  220.0          Bajaj  \n",
       "56     First Owner   5.0  110.0          Honda  \n",
       "168    First Owner   4.0  350.0  Royal Enfield  \n",
       "...            ...   ...    ...            ...  \n",
       "32540  First Owner  12.0  125.0         Suzuki  \n",
       "32559  First Owner  12.0  125.0         Suzuki  \n",
       "32578  First Owner  12.0  125.0         Suzuki  \n",
       "32597  First Owner  12.0  125.0         Suzuki  \n",
       "32635  First Owner  12.0  125.0         Suzuki  \n",
       "\n",
       "[905 rows x 8 columns]"
      ]
     },
     "execution_count": 34,
     "metadata": {},
     "output_type": "execute_result"
    }
   ],
   "source": [
    "grouped.get_group('Ahmedabad')"
   ]
  },
  {
   "cell_type": "code",
   "execution_count": 35,
   "id": "17762758",
   "metadata": {},
   "outputs": [
    {
     "data": {
      "text/plain": [
       "'bikes available in Delhi :- 7318'"
      ]
     },
     "execution_count": 35,
     "metadata": {},
     "output_type": "execute_result"
    }
   ],
   "source": [
    "f\"bikes available in Delhi :- {grouped.get_group('Delhi').shape[0]}\"          "
   ]
  },
  {
   "cell_type": "code",
   "execution_count": 36,
   "id": "9d59a4af",
   "metadata": {},
   "outputs": [
    {
     "data": {
      "text/html": [
       "<div>\n",
       "<style scoped>\n",
       "    .dataframe tbody tr th:only-of-type {\n",
       "        vertical-align: middle;\n",
       "    }\n",
       "\n",
       "    .dataframe tbody tr th {\n",
       "        vertical-align: top;\n",
       "    }\n",
       "\n",
       "    .dataframe thead th {\n",
       "        text-align: right;\n",
       "    }\n",
       "</style>\n",
       "<table border=\"1\" class=\"dataframe\">\n",
       "  <thead>\n",
       "    <tr style=\"text-align: right;\">\n",
       "      <th></th>\n",
       "      <th>age</th>\n",
       "    </tr>\n",
       "  </thead>\n",
       "  <tbody>\n",
       "    <tr>\n",
       "      <th>1</th>\n",
       "      <td>4.0</td>\n",
       "    </tr>\n",
       "    <tr>\n",
       "      <th>2</th>\n",
       "      <td>8.0</td>\n",
       "    </tr>\n",
       "    <tr>\n",
       "      <th>5</th>\n",
       "      <td>6.0</td>\n",
       "    </tr>\n",
       "    <tr>\n",
       "      <th>6</th>\n",
       "      <td>3.0</td>\n",
       "    </tr>\n",
       "    <tr>\n",
       "      <th>7</th>\n",
       "      <td>3.0</td>\n",
       "    </tr>\n",
       "  </tbody>\n",
       "</table>\n",
       "</div>"
      ],
      "text/plain": [
       "   age\n",
       "1  4.0\n",
       "2  8.0\n",
       "5  6.0\n",
       "6  3.0\n",
       "7  3.0"
      ]
     },
     "execution_count": 36,
     "metadata": {},
     "output_type": "execute_result"
    }
   ],
   "source": [
    "grouped.get_group('Delhi')[['age']].head()       # get a particular column from the grouped data"
   ]
  },
  {
   "cell_type": "code",
   "execution_count": 37,
   "id": "b56e393a",
   "metadata": {},
   "outputs": [
    {
     "data": {
      "text/plain": [
       "age    63.0\n",
       "dtype: float64"
      ]
     },
     "execution_count": 37,
     "metadata": {},
     "output_type": "execute_result"
    }
   ],
   "source": [
    "grouped.get_group('Delhi')[['age']].max()        #maximum old bike in delhi"
   ]
  },
  {
   "cell_type": "code",
   "execution_count": 38,
   "id": "fe38f009",
   "metadata": {},
   "outputs": [
    {
     "data": {
      "text/plain": [
       "age    1.0\n",
       "dtype: float64"
      ]
     },
     "execution_count": 38,
     "metadata": {},
     "output_type": "execute_result"
    }
   ],
   "source": [
    "grouped.get_group('Delhi')[['age']].min()        #minimum old bike in delhi"
   ]
  },
  {
   "cell_type": "code",
   "execution_count": 39,
   "id": "b0353e79",
   "metadata": {},
   "outputs": [
    {
     "data": {
      "text/html": [
       "<div>\n",
       "<style scoped>\n",
       "    .dataframe tbody tr th:only-of-type {\n",
       "        vertical-align: middle;\n",
       "    }\n",
       "\n",
       "    .dataframe tbody tr th {\n",
       "        vertical-align: top;\n",
       "    }\n",
       "\n",
       "    .dataframe thead th {\n",
       "        text-align: right;\n",
       "    }\n",
       "</style>\n",
       "<table border=\"1\" class=\"dataframe\">\n",
       "  <thead>\n",
       "    <tr style=\"text-align: right;\">\n",
       "      <th></th>\n",
       "      <th>bike_name</th>\n",
       "      <th>price</th>\n",
       "      <th>city</th>\n",
       "      <th>kms_driven</th>\n",
       "      <th>owner</th>\n",
       "      <th>age</th>\n",
       "      <th>power</th>\n",
       "      <th>brand</th>\n",
       "    </tr>\n",
       "  </thead>\n",
       "  <tbody>\n",
       "    <tr>\n",
       "      <th>7235</th>\n",
       "      <td>Honda Livo 110cc</td>\n",
       "      <td>60000.0</td>\n",
       "      <td>Delhi</td>\n",
       "      <td>74.0</td>\n",
       "      <td>First Owner</td>\n",
       "      <td>1.0</td>\n",
       "      <td>110.0</td>\n",
       "      <td>Honda</td>\n",
       "    </tr>\n",
       "  </tbody>\n",
       "</table>\n",
       "</div>"
      ],
      "text/plain": [
       "             bike_name    price   city  kms_driven        owner  age  power  \\\n",
       "7235  Honda Livo 110cc  60000.0  Delhi        74.0  First Owner  1.0  110.0   \n",
       "\n",
       "      brand  \n",
       "7235  Honda  "
      ]
     },
     "execution_count": 39,
     "metadata": {},
     "output_type": "execute_result"
    }
   ],
   "source": [
    "df[(df['city']=='Delhi') & (df['age']==1)]         #[['bike_name','brand']]"
   ]
  },
  {
   "cell_type": "code",
   "execution_count": 40,
   "id": "3925875e",
   "metadata": {},
   "outputs": [
    {
     "data": {
      "text/plain": [
       "Index(['Bajaj', 'Hero', 'Royal Enfield', 'Yamaha', 'TVS', 'Honda', 'Suzuki',\n",
       "       'KTM', 'Harley-Davidson', 'Hyosung', 'Mahindra', 'Triumph', 'Benelli',\n",
       "       'Kawasaki', 'Ducati', 'BMW', 'Rajdoot', 'MV'],\n",
       "      dtype='object')"
      ]
     },
     "execution_count": 40,
     "metadata": {},
     "output_type": "execute_result"
    }
   ],
   "source": [
    "grouped.get_group('Delhi')['brand'].value_counts().keys()         # all brand available in Delhi "
   ]
  },
  {
   "cell_type": "code",
   "execution_count": 41,
   "id": "3189c1fd",
   "metadata": {},
   "outputs": [
    {
     "data": {
      "text/plain": [
       "owner\n",
       "First Owner             6516\n",
       "Second Owner             787\n",
       "Third Owner               13\n",
       "Fourth Owner Or More       2\n",
       "Name: owner, dtype: int64"
      ]
     },
     "execution_count": 41,
     "metadata": {},
     "output_type": "execute_result"
    }
   ],
   "source": [
    "grouped['owner'].value_counts()['Delhi']           # mostly first handed used bikes availabel in delhi"
   ]
  },
  {
   "cell_type": "markdown",
   "id": "ddba165e",
   "metadata": {},
   "source": [
    "## divide the data based on the data types"
   ]
  },
  {
   "cell_type": "code",
   "execution_count": 42,
   "id": "82cd838f",
   "metadata": {},
   "outputs": [
    {
     "data": {
      "text/plain": [
       "bike_name      object\n",
       "price         float64\n",
       "city           object\n",
       "kms_driven    float64\n",
       "owner          object\n",
       "age           float64\n",
       "power         float64\n",
       "brand          object\n",
       "dtype: object"
      ]
     },
     "execution_count": 42,
     "metadata": {},
     "output_type": "execute_result"
    }
   ],
   "source": [
    "df.dtypes"
   ]
  },
  {
   "cell_type": "code",
   "execution_count": 43,
   "id": "2d444add",
   "metadata": {},
   "outputs": [
    {
     "data": {
      "text/html": [
       "<div>\n",
       "<style scoped>\n",
       "    .dataframe tbody tr th:only-of-type {\n",
       "        vertical-align: middle;\n",
       "    }\n",
       "\n",
       "    .dataframe tbody tr th {\n",
       "        vertical-align: top;\n",
       "    }\n",
       "\n",
       "    .dataframe thead th {\n",
       "        text-align: right;\n",
       "    }\n",
       "</style>\n",
       "<table border=\"1\" class=\"dataframe\">\n",
       "  <thead>\n",
       "    <tr style=\"text-align: right;\">\n",
       "      <th></th>\n",
       "      <th>bike_name</th>\n",
       "      <th>price</th>\n",
       "      <th>city</th>\n",
       "      <th>kms_driven</th>\n",
       "      <th>owner</th>\n",
       "      <th>age</th>\n",
       "      <th>power</th>\n",
       "      <th>brand</th>\n",
       "    </tr>\n",
       "  </thead>\n",
       "  <tbody>\n",
       "    <tr>\n",
       "      <th>0</th>\n",
       "      <td>TVS Star City Plus Dual Tone 110cc</td>\n",
       "      <td>35000.0</td>\n",
       "      <td>Ahmedabad</td>\n",
       "      <td>17654.0</td>\n",
       "      <td>First Owner</td>\n",
       "      <td>3.0</td>\n",
       "      <td>110.0</td>\n",
       "      <td>TVS</td>\n",
       "    </tr>\n",
       "    <tr>\n",
       "      <th>1</th>\n",
       "      <td>Royal Enfield Classic 350cc</td>\n",
       "      <td>119900.0</td>\n",
       "      <td>Delhi</td>\n",
       "      <td>11000.0</td>\n",
       "      <td>First Owner</td>\n",
       "      <td>4.0</td>\n",
       "      <td>350.0</td>\n",
       "      <td>Royal Enfield</td>\n",
       "    </tr>\n",
       "    <tr>\n",
       "      <th>2</th>\n",
       "      <td>Triumph Daytona 675R</td>\n",
       "      <td>600000.0</td>\n",
       "      <td>Delhi</td>\n",
       "      <td>110.0</td>\n",
       "      <td>First Owner</td>\n",
       "      <td>8.0</td>\n",
       "      <td>675.0</td>\n",
       "      <td>Triumph</td>\n",
       "    </tr>\n",
       "    <tr>\n",
       "      <th>3</th>\n",
       "      <td>TVS Apache RTR 180cc</td>\n",
       "      <td>65000.0</td>\n",
       "      <td>Bangalore</td>\n",
       "      <td>16329.0</td>\n",
       "      <td>First Owner</td>\n",
       "      <td>4.0</td>\n",
       "      <td>180.0</td>\n",
       "      <td>TVS</td>\n",
       "    </tr>\n",
       "    <tr>\n",
       "      <th>4</th>\n",
       "      <td>Yamaha FZ S V 2.0 150cc-Ltd. Edition</td>\n",
       "      <td>80000.0</td>\n",
       "      <td>Bangalore</td>\n",
       "      <td>10000.0</td>\n",
       "      <td>First Owner</td>\n",
       "      <td>3.0</td>\n",
       "      <td>150.0</td>\n",
       "      <td>Yamaha</td>\n",
       "    </tr>\n",
       "  </tbody>\n",
       "</table>\n",
       "</div>"
      ],
      "text/plain": [
       "                              bike_name     price       city  kms_driven  \\\n",
       "0    TVS Star City Plus Dual Tone 110cc   35000.0  Ahmedabad     17654.0   \n",
       "1           Royal Enfield Classic 350cc  119900.0      Delhi     11000.0   \n",
       "2                  Triumph Daytona 675R  600000.0      Delhi       110.0   \n",
       "3                  TVS Apache RTR 180cc   65000.0  Bangalore     16329.0   \n",
       "4  Yamaha FZ S V 2.0 150cc-Ltd. Edition   80000.0  Bangalore     10000.0   \n",
       "\n",
       "         owner  age  power          brand  \n",
       "0  First Owner  3.0  110.0            TVS  \n",
       "1  First Owner  4.0  350.0  Royal Enfield  \n",
       "2  First Owner  8.0  675.0        Triumph  \n",
       "3  First Owner  4.0  180.0            TVS  \n",
       "4  First Owner  3.0  150.0         Yamaha  "
      ]
     },
     "execution_count": 43,
     "metadata": {},
     "output_type": "execute_result"
    }
   ],
   "source": [
    "df.head()"
   ]
  },
  {
   "cell_type": "code",
   "execution_count": 44,
   "id": "6bdedb74",
   "metadata": {},
   "outputs": [
    {
     "data": {
      "text/html": [
       "<div>\n",
       "<style scoped>\n",
       "    .dataframe tbody tr th:only-of-type {\n",
       "        vertical-align: middle;\n",
       "    }\n",
       "\n",
       "    .dataframe tbody tr th {\n",
       "        vertical-align: top;\n",
       "    }\n",
       "\n",
       "    .dataframe thead th {\n",
       "        text-align: right;\n",
       "    }\n",
       "</style>\n",
       "<table border=\"1\" class=\"dataframe\">\n",
       "  <thead>\n",
       "    <tr style=\"text-align: right;\">\n",
       "      <th></th>\n",
       "      <th>bike_name</th>\n",
       "      <th>city</th>\n",
       "      <th>owner</th>\n",
       "      <th>brand</th>\n",
       "    </tr>\n",
       "  </thead>\n",
       "  <tbody>\n",
       "    <tr>\n",
       "      <th>0</th>\n",
       "      <td>TVS Star City Plus Dual Tone 110cc</td>\n",
       "      <td>Ahmedabad</td>\n",
       "      <td>First Owner</td>\n",
       "      <td>TVS</td>\n",
       "    </tr>\n",
       "    <tr>\n",
       "      <th>1</th>\n",
       "      <td>Royal Enfield Classic 350cc</td>\n",
       "      <td>Delhi</td>\n",
       "      <td>First Owner</td>\n",
       "      <td>Royal Enfield</td>\n",
       "    </tr>\n",
       "    <tr>\n",
       "      <th>2</th>\n",
       "      <td>Triumph Daytona 675R</td>\n",
       "      <td>Delhi</td>\n",
       "      <td>First Owner</td>\n",
       "      <td>Triumph</td>\n",
       "    </tr>\n",
       "    <tr>\n",
       "      <th>3</th>\n",
       "      <td>TVS Apache RTR 180cc</td>\n",
       "      <td>Bangalore</td>\n",
       "      <td>First Owner</td>\n",
       "      <td>TVS</td>\n",
       "    </tr>\n",
       "    <tr>\n",
       "      <th>4</th>\n",
       "      <td>Yamaha FZ S V 2.0 150cc-Ltd. Edition</td>\n",
       "      <td>Bangalore</td>\n",
       "      <td>First Owner</td>\n",
       "      <td>Yamaha</td>\n",
       "    </tr>\n",
       "  </tbody>\n",
       "</table>\n",
       "</div>"
      ],
      "text/plain": [
       "                              bike_name       city        owner          brand\n",
       "0    TVS Star City Plus Dual Tone 110cc  Ahmedabad  First Owner            TVS\n",
       "1           Royal Enfield Classic 350cc      Delhi  First Owner  Royal Enfield\n",
       "2                  Triumph Daytona 675R      Delhi  First Owner        Triumph\n",
       "3                  TVS Apache RTR 180cc  Bangalore  First Owner            TVS\n",
       "4  Yamaha FZ S V 2.0 150cc-Ltd. Edition  Bangalore  First Owner         Yamaha"
      ]
     },
     "execution_count": 44,
     "metadata": {},
     "output_type": "execute_result"
    }
   ],
   "source": [
    "catigorical_data = df.select_dtypes(include='O')\n",
    "catigorical_data.head()"
   ]
  },
  {
   "cell_type": "code",
   "execution_count": 45,
   "id": "36784215",
   "metadata": {},
   "outputs": [
    {
     "data": {
      "text/html": [
       "<div>\n",
       "<style scoped>\n",
       "    .dataframe tbody tr th:only-of-type {\n",
       "        vertical-align: middle;\n",
       "    }\n",
       "\n",
       "    .dataframe tbody tr th {\n",
       "        vertical-align: top;\n",
       "    }\n",
       "\n",
       "    .dataframe thead th {\n",
       "        text-align: right;\n",
       "    }\n",
       "</style>\n",
       "<table border=\"1\" class=\"dataframe\">\n",
       "  <thead>\n",
       "    <tr style=\"text-align: right;\">\n",
       "      <th></th>\n",
       "      <th>price</th>\n",
       "      <th>kms_driven</th>\n",
       "      <th>age</th>\n",
       "      <th>power</th>\n",
       "    </tr>\n",
       "  </thead>\n",
       "  <tbody>\n",
       "    <tr>\n",
       "      <th>0</th>\n",
       "      <td>35000.0</td>\n",
       "      <td>17654.0</td>\n",
       "      <td>3.0</td>\n",
       "      <td>110.0</td>\n",
       "    </tr>\n",
       "    <tr>\n",
       "      <th>1</th>\n",
       "      <td>119900.0</td>\n",
       "      <td>11000.0</td>\n",
       "      <td>4.0</td>\n",
       "      <td>350.0</td>\n",
       "    </tr>\n",
       "    <tr>\n",
       "      <th>2</th>\n",
       "      <td>600000.0</td>\n",
       "      <td>110.0</td>\n",
       "      <td>8.0</td>\n",
       "      <td>675.0</td>\n",
       "    </tr>\n",
       "    <tr>\n",
       "      <th>3</th>\n",
       "      <td>65000.0</td>\n",
       "      <td>16329.0</td>\n",
       "      <td>4.0</td>\n",
       "      <td>180.0</td>\n",
       "    </tr>\n",
       "    <tr>\n",
       "      <th>4</th>\n",
       "      <td>80000.0</td>\n",
       "      <td>10000.0</td>\n",
       "      <td>3.0</td>\n",
       "      <td>150.0</td>\n",
       "    </tr>\n",
       "  </tbody>\n",
       "</table>\n",
       "</div>"
      ],
      "text/plain": [
       "      price  kms_driven  age  power\n",
       "0   35000.0     17654.0  3.0  110.0\n",
       "1  119900.0     11000.0  4.0  350.0\n",
       "2  600000.0       110.0  8.0  675.0\n",
       "3   65000.0     16329.0  4.0  180.0\n",
       "4   80000.0     10000.0  3.0  150.0"
      ]
     },
     "execution_count": 45,
     "metadata": {},
     "output_type": "execute_result"
    }
   ],
   "source": [
    "numerical_data = df.select_dtypes(exclude='O')\n",
    "numerical_data.head()"
   ]
  },
  {
   "cell_type": "code",
   "execution_count": 46,
   "id": "770d2e9d",
   "metadata": {},
   "outputs": [
    {
     "data": {
      "text/html": [
       "<div>\n",
       "<style scoped>\n",
       "    .dataframe tbody tr th:only-of-type {\n",
       "        vertical-align: middle;\n",
       "    }\n",
       "\n",
       "    .dataframe tbody tr th {\n",
       "        vertical-align: top;\n",
       "    }\n",
       "\n",
       "    .dataframe thead th {\n",
       "        text-align: right;\n",
       "    }\n",
       "</style>\n",
       "<table border=\"1\" class=\"dataframe\">\n",
       "  <thead>\n",
       "    <tr style=\"text-align: right;\">\n",
       "      <th></th>\n",
       "      <th>price</th>\n",
       "      <th>kms_driven</th>\n",
       "      <th>age</th>\n",
       "      <th>power</th>\n",
       "    </tr>\n",
       "  </thead>\n",
       "  <tbody>\n",
       "    <tr>\n",
       "      <th>count</th>\n",
       "      <td>3.264800e+04</td>\n",
       "      <td>32648.000000</td>\n",
       "      <td>32648.000000</td>\n",
       "      <td>32648.000000</td>\n",
       "    </tr>\n",
       "    <tr>\n",
       "      <th>mean</th>\n",
       "      <td>6.829542e+04</td>\n",
       "      <td>26344.625184</td>\n",
       "      <td>8.048211</td>\n",
       "      <td>213.511302</td>\n",
       "    </tr>\n",
       "    <tr>\n",
       "      <th>std</th>\n",
       "      <td>9.071860e+04</td>\n",
       "      <td>22208.527695</td>\n",
       "      <td>4.031700</td>\n",
       "      <td>134.428868</td>\n",
       "    </tr>\n",
       "    <tr>\n",
       "      <th>min</th>\n",
       "      <td>4.400000e+03</td>\n",
       "      <td>1.000000</td>\n",
       "      <td>1.000000</td>\n",
       "      <td>100.000000</td>\n",
       "    </tr>\n",
       "    <tr>\n",
       "      <th>25%</th>\n",
       "      <td>2.500000e+04</td>\n",
       "      <td>12000.000000</td>\n",
       "      <td>5.000000</td>\n",
       "      <td>150.000000</td>\n",
       "    </tr>\n",
       "    <tr>\n",
       "      <th>50%</th>\n",
       "      <td>4.300000e+04</td>\n",
       "      <td>20373.000000</td>\n",
       "      <td>7.000000</td>\n",
       "      <td>150.000000</td>\n",
       "    </tr>\n",
       "    <tr>\n",
       "      <th>75%</th>\n",
       "      <td>8.000000e+04</td>\n",
       "      <td>35000.000000</td>\n",
       "      <td>10.000000</td>\n",
       "      <td>220.000000</td>\n",
       "    </tr>\n",
       "    <tr>\n",
       "      <th>max</th>\n",
       "      <td>1.900000e+06</td>\n",
       "      <td>750000.000000</td>\n",
       "      <td>63.000000</td>\n",
       "      <td>1800.000000</td>\n",
       "    </tr>\n",
       "  </tbody>\n",
       "</table>\n",
       "</div>"
      ],
      "text/plain": [
       "              price     kms_driven           age         power\n",
       "count  3.264800e+04   32648.000000  32648.000000  32648.000000\n",
       "mean   6.829542e+04   26344.625184      8.048211    213.511302\n",
       "std    9.071860e+04   22208.527695      4.031700    134.428868\n",
       "min    4.400000e+03       1.000000      1.000000    100.000000\n",
       "25%    2.500000e+04   12000.000000      5.000000    150.000000\n",
       "50%    4.300000e+04   20373.000000      7.000000    150.000000\n",
       "75%    8.000000e+04   35000.000000     10.000000    220.000000\n",
       "max    1.900000e+06  750000.000000     63.000000   1800.000000"
      ]
     },
     "execution_count": 46,
     "metadata": {},
     "output_type": "execute_result"
    }
   ],
   "source": [
    "numerical_data.describe()"
   ]
  },
  {
   "cell_type": "code",
   "execution_count": 47,
   "id": "8da164dd",
   "metadata": {},
   "outputs": [
    {
     "data": {
      "text/html": [
       "<div>\n",
       "<style scoped>\n",
       "    .dataframe tbody tr th:only-of-type {\n",
       "        vertical-align: middle;\n",
       "    }\n",
       "\n",
       "    .dataframe tbody tr th {\n",
       "        vertical-align: top;\n",
       "    }\n",
       "\n",
       "    .dataframe thead th {\n",
       "        text-align: right;\n",
       "    }\n",
       "</style>\n",
       "<table border=\"1\" class=\"dataframe\">\n",
       "  <thead>\n",
       "    <tr style=\"text-align: right;\">\n",
       "      <th></th>\n",
       "      <th>bike_name</th>\n",
       "      <th>city</th>\n",
       "      <th>owner</th>\n",
       "      <th>brand</th>\n",
       "    </tr>\n",
       "  </thead>\n",
       "  <tbody>\n",
       "    <tr>\n",
       "      <th>count</th>\n",
       "      <td>32648</td>\n",
       "      <td>32648</td>\n",
       "      <td>32648</td>\n",
       "      <td>32648</td>\n",
       "    </tr>\n",
       "    <tr>\n",
       "      <th>unique</th>\n",
       "      <td>471</td>\n",
       "      <td>443</td>\n",
       "      <td>4</td>\n",
       "      <td>23</td>\n",
       "    </tr>\n",
       "    <tr>\n",
       "      <th>top</th>\n",
       "      <td>Bajaj Pulsar 150cc</td>\n",
       "      <td>Delhi</td>\n",
       "      <td>First Owner</td>\n",
       "      <td>Bajaj</td>\n",
       "    </tr>\n",
       "    <tr>\n",
       "      <th>freq</th>\n",
       "      <td>2776</td>\n",
       "      <td>7318</td>\n",
       "      <td>29964</td>\n",
       "      <td>11213</td>\n",
       "    </tr>\n",
       "  </tbody>\n",
       "</table>\n",
       "</div>"
      ],
      "text/plain": [
       "                 bike_name   city        owner  brand\n",
       "count                32648  32648        32648  32648\n",
       "unique                 471    443            4     23\n",
       "top     Bajaj Pulsar 150cc  Delhi  First Owner  Bajaj\n",
       "freq                  2776   7318        29964  11213"
      ]
     },
     "execution_count": 47,
     "metadata": {},
     "output_type": "execute_result"
    }
   ],
   "source": [
    "catigorical_data.describe()"
   ]
  },
  {
   "cell_type": "code",
   "execution_count": 48,
   "id": "78361a73",
   "metadata": {},
   "outputs": [
    {
     "data": {
      "text/html": [
       "<div>\n",
       "<style scoped>\n",
       "    .dataframe tbody tr th:only-of-type {\n",
       "        vertical-align: middle;\n",
       "    }\n",
       "\n",
       "    .dataframe tbody tr th {\n",
       "        vertical-align: top;\n",
       "    }\n",
       "\n",
       "    .dataframe thead th {\n",
       "        text-align: right;\n",
       "    }\n",
       "</style>\n",
       "<table border=\"1\" class=\"dataframe\">\n",
       "  <thead>\n",
       "    <tr style=\"text-align: right;\">\n",
       "      <th></th>\n",
       "      <th>price</th>\n",
       "      <th>city</th>\n",
       "      <th>kms_driven</th>\n",
       "      <th>owner</th>\n",
       "      <th>age</th>\n",
       "      <th>power</th>\n",
       "      <th>brand</th>\n",
       "    </tr>\n",
       "  </thead>\n",
       "  <tbody>\n",
       "    <tr>\n",
       "      <th>0</th>\n",
       "      <td>35000.0</td>\n",
       "      <td>Ahmedabad</td>\n",
       "      <td>17654.0</td>\n",
       "      <td>First Owner</td>\n",
       "      <td>3.0</td>\n",
       "      <td>110.0</td>\n",
       "      <td>TVS</td>\n",
       "    </tr>\n",
       "    <tr>\n",
       "      <th>1</th>\n",
       "      <td>119900.0</td>\n",
       "      <td>Delhi</td>\n",
       "      <td>11000.0</td>\n",
       "      <td>First Owner</td>\n",
       "      <td>4.0</td>\n",
       "      <td>350.0</td>\n",
       "      <td>Royal Enfield</td>\n",
       "    </tr>\n",
       "  </tbody>\n",
       "</table>\n",
       "</div>"
      ],
      "text/plain": [
       "      price       city  kms_driven        owner  age  power          brand\n",
       "0   35000.0  Ahmedabad     17654.0  First Owner  3.0  110.0            TVS\n",
       "1  119900.0      Delhi     11000.0  First Owner  4.0  350.0  Royal Enfield"
      ]
     },
     "execution_count": 48,
     "metadata": {},
     "output_type": "execute_result"
    }
   ],
   "source": [
    "# to remove the \"bike_name\" feature\n",
    "df=df.drop('bike_name',axis=1)\n",
    "df.head(2)"
   ]
  },
  {
   "cell_type": "markdown",
   "id": "4b0342d9",
   "metadata": {},
   "source": [
    "## Data Visualization"
   ]
  },
  {
   "cell_type": "code",
   "execution_count": 49,
   "id": "ffa682e2",
   "metadata": {},
   "outputs": [
    {
     "data": {
      "image/png": "[encoded data removed]",
      "text/plain": [
       "<Figure size 1080x576 with 1 Axes>"
      ]
     },
     "metadata": {},
     "output_type": "display_data"
    }
   ],
   "source": [
    "sns.set(rc={'figure.figsize':(15,8)})\n",
    "sns.barplot(x=df['brand'],y=df['price'])\n",
    "plt.xticks(rotation=20)\n",
    "plt.show()"
   ]
  },
  {
   "cell_type": "code",
   "execution_count": 50,
   "id": "ca4ebe3e",
   "metadata": {},
   "outputs": [
    {
     "data": {
      "image/png": "[encoded data removed]",
      "text/plain": [
       "<Figure size 360x360 with 1 Axes>"
      ]
     },
     "metadata": {},
     "output_type": "display_data"
    }
   ],
   "source": [
    "sns.catplot(x='owner',y='price',kind='bar',data=df)   \n",
    "plt.xticks(rotation=20)\n",
    "plt.show()"
   ]
  },
  {
   "cell_type": "code",
   "execution_count": 51,
   "id": "618217d3",
   "metadata": {},
   "outputs": [
    {
     "data": {
      "image/png": "[encoded data removed]",
      "text/plain": [
       "<Figure size 360x360 with 1 Axes>"
      ]
     },
     "metadata": {},
     "output_type": "display_data"
    }
   ],
   "source": [
    "sns.catplot(x='owner',y='price',kind='bar',data=ktm)   # for ktm bike\n",
    "plt.xticks(rotation=20)\n",
    "plt.show()"
   ]
  },
  {
   "cell_type": "code",
   "execution_count": 52,
   "id": "a7c26111",
   "metadata": {},
   "outputs": [
    {
     "data": {
      "text/plain": [
       "<AxesSubplot:xlabel='owner', ylabel='count'>"
      ]
     },
     "execution_count": 52,
     "metadata": {},
     "output_type": "execute_result"
    },
    {
     "data": {
      "image/png": "[encoded data removed]",
      "text/plain": [
       "<Figure size 720x576 with 1 Axes>"
      ]
     },
     "metadata": {},
     "output_type": "display_data"
    }
   ],
   "source": [
    "plt.figure(figsize=(10,8))\n",
    "sns.countplot(x='owner',data=df.query(\"brand=='KTM'\"))"
   ]
  },
  {
   "cell_type": "code",
   "execution_count": 53,
   "id": "6d635f0d",
   "metadata": {},
   "outputs": [
    {
     "data": {
      "image/png": "[encoded data removed]",
      "text/plain": [
       "<Figure size 1080x576 with 1 Axes>"
      ]
     },
     "metadata": {},
     "output_type": "display_data"
    }
   ],
   "source": [
    "# sns.set(rc={'figure.figsize':(18,10)})\n",
    "plt.bar(x=df['age'],height=df['kms_driven'])\n",
    "plt.show()"
   ]
  },
  {
   "cell_type": "code",
   "execution_count": 54,
   "id": "8bd6d88f",
   "metadata": {},
   "outputs": [
    {
     "data": {
      "text/html": [
       "<div>\n",
       "<style scoped>\n",
       "    .dataframe tbody tr th:only-of-type {\n",
       "        vertical-align: middle;\n",
       "    }\n",
       "\n",
       "    .dataframe tbody tr th {\n",
       "        vertical-align: top;\n",
       "    }\n",
       "\n",
       "    .dataframe thead th {\n",
       "        text-align: right;\n",
       "    }\n",
       "</style>\n",
       "<table border=\"1\" class=\"dataframe\">\n",
       "  <thead>\n",
       "    <tr style=\"text-align: right;\">\n",
       "      <th></th>\n",
       "      <th>price</th>\n",
       "      <th>city</th>\n",
       "      <th>kms_driven</th>\n",
       "      <th>owner</th>\n",
       "      <th>age</th>\n",
       "      <th>power</th>\n",
       "      <th>brand</th>\n",
       "    </tr>\n",
       "  </thead>\n",
       "  <tbody>\n",
       "    <tr>\n",
       "      <th>6689</th>\n",
       "      <td>70000.0</td>\n",
       "      <td>Delhi</td>\n",
       "      <td>32000.0</td>\n",
       "      <td>Second Owner</td>\n",
       "      <td>63.0</td>\n",
       "      <td>350.0</td>\n",
       "      <td>Royal Enfield</td>\n",
       "    </tr>\n",
       "    <tr>\n",
       "      <th>6818</th>\n",
       "      <td>70000.0</td>\n",
       "      <td>Delhi</td>\n",
       "      <td>32000.0</td>\n",
       "      <td>Second Owner</td>\n",
       "      <td>63.0</td>\n",
       "      <td>350.0</td>\n",
       "      <td>Royal Enfield</td>\n",
       "    </tr>\n",
       "  </tbody>\n",
       "</table>\n",
       "</div>"
      ],
      "text/plain": [
       "        price   city  kms_driven         owner   age  power          brand\n",
       "6689  70000.0  Delhi     32000.0  Second Owner  63.0  350.0  Royal Enfield\n",
       "6818  70000.0  Delhi     32000.0  Second Owner  63.0  350.0  Royal Enfield"
      ]
     },
     "execution_count": 54,
     "metadata": {},
     "output_type": "execute_result"
    }
   ],
   "source": [
    "df[df['age']>60]"
   ]
  },
  {
   "cell_type": "code",
   "execution_count": 55,
   "id": "4df8bec9",
   "metadata": {},
   "outputs": [
    {
     "data": {
      "text/html": [
       "<div>\n",
       "<style scoped>\n",
       "    .dataframe tbody tr th:only-of-type {\n",
       "        vertical-align: middle;\n",
       "    }\n",
       "\n",
       "    .dataframe tbody tr th {\n",
       "        vertical-align: top;\n",
       "    }\n",
       "\n",
       "    .dataframe thead th {\n",
       "        text-align: right;\n",
       "    }\n",
       "</style>\n",
       "<table border=\"1\" class=\"dataframe\">\n",
       "  <thead>\n",
       "    <tr style=\"text-align: right;\">\n",
       "      <th></th>\n",
       "      <th>price</th>\n",
       "      <th>city</th>\n",
       "      <th>kms_driven</th>\n",
       "      <th>owner</th>\n",
       "      <th>age</th>\n",
       "      <th>power</th>\n",
       "      <th>brand</th>\n",
       "    </tr>\n",
       "  </thead>\n",
       "  <tbody>\n",
       "  </tbody>\n",
       "</table>\n",
       "</div>"
      ],
      "text/plain": [
       "Empty DataFrame\n",
       "Columns: [price, city, kms_driven, owner, age, power, brand]\n",
       "Index: []"
      ]
     },
     "execution_count": 55,
     "metadata": {},
     "output_type": "execute_result"
    }
   ],
   "source": [
    "df[(df['age']>=44)&(df['age']<=60)]      # there is no record in between this range"
   ]
  },
  {
   "cell_type": "code",
   "execution_count": 56,
   "id": "11e742e8",
   "metadata": {},
   "outputs": [
    {
     "data": {
      "text/plain": [
       "Index(['price', 'kms_driven', 'age', 'power'], dtype='object')"
      ]
     },
     "execution_count": 56,
     "metadata": {},
     "output_type": "execute_result"
    }
   ],
   "source": [
    "numerical_data.columns"
   ]
  },
  {
   "cell_type": "code",
   "execution_count": 57,
   "id": "8ed5c089",
   "metadata": {},
   "outputs": [
    {
     "data": {
      "text/plain": [
       "<AxesSubplot:xlabel='price'>"
      ]
     },
     "execution_count": 57,
     "metadata": {},
     "output_type": "execute_result"
    },
    {
     "data": {
      "image/png": "[encoded data removed]",
      "text/plain": [
       "<Figure size 1080x576 with 1 Axes>"
      ]
     },
     "metadata": {},
     "output_type": "display_data"
    }
   ],
   "source": [
    "sns.boxplot(df['price'])"
   ]
  },
  {
   "cell_type": "code",
   "execution_count": 58,
   "id": "26afbe29",
   "metadata": {},
   "outputs": [
    {
     "data": {
      "image/png": "[encoded data removed]",
      "text/plain": [
       "<Figure size 1080x576 with 4 Axes>"
      ]
     },
     "metadata": {},
     "output_type": "display_data"
    }
   ],
   "source": [
    "for i , colum in enumerate(numerical_data.columns):\n",
    "    plt.subplot(2,2,i+1)\n",
    "    sns.boxplot(df[colum])\n",
    "    plt.title(colum)\n",
    "#     print(i,colum)"
   ]
  },
  {
   "cell_type": "code",
   "execution_count": 59,
   "id": "e20e7ba4",
   "metadata": {},
   "outputs": [
    {
     "data": {
      "text/plain": [
       "63.0"
      ]
     },
     "execution_count": 59,
     "metadata": {},
     "output_type": "execute_result"
    }
   ],
   "source": [
    "numerical_data['age'].max()"
   ]
  },
  {
   "cell_type": "code",
   "execution_count": null,
   "id": "16380ea9",
   "metadata": {},
   "outputs": [],
   "source": []
  },
  {
   "cell_type": "markdown",
   "id": "1e7c1f5f",
   "metadata": {},
   "source": [
    "## data cleaning "
   ]
  },
  {
   "cell_type": "code",
   "execution_count": 65,
   "id": "daab2c5a",
   "metadata": {},
   "outputs": [
    {
     "data": {
      "text/plain": [
       "price         float64\n",
       "city           object\n",
       "kms_driven    float64\n",
       "owner           int64\n",
       "age           float64\n",
       "power         float64\n",
       "brand          object\n",
       "dtype: object"
      ]
     },
     "execution_count": 65,
     "metadata": {},
     "output_type": "execute_result"
    }
   ],
   "source": [
    "df.dtypes"
   ]
  },
  {
   "cell_type": "code",
   "execution_count": 66,
   "id": "8c070d55",
   "metadata": {},
   "outputs": [],
   "source": [
    "df['age']=df['age'].astype(int)"
   ]
  },
  {
   "cell_type": "code",
   "execution_count": 67,
   "id": "76f89ef7",
   "metadata": {},
   "outputs": [
    {
     "data": {
      "text/plain": [
       "price         float64\n",
       "city           object\n",
       "kms_driven    float64\n",
       "owner           int64\n",
       "age             int32\n",
       "power         float64\n",
       "brand          object\n",
       "dtype: object"
      ]
     },
     "execution_count": 67,
     "metadata": {},
     "output_type": "execute_result"
    }
   ],
   "source": [
    "df.dtypes"
   ]
  },
  {
   "cell_type": "code",
   "execution_count": null,
   "id": "6c62d3e0",
   "metadata": {},
   "outputs": [],
   "source": [
    "df['owner'].value_counts()"
   ]
  },
  {
   "cell_type": "code",
   "execution_count": null,
   "id": "8a973112",
   "metadata": {},
   "outputs": [],
   "source": [
    "df.head()"
   ]
  },
  {
   "cell_type": "code",
   "execution_count": 90,
   "id": "1a985655",
   "metadata": {},
   "outputs": [],
   "source": [
    "dic={'First Owner':1,'Second Owner':2,'Third Owner':3,'Fourth Owner Or More':4}\n",
    "\n",
    "df['owner']=df['owner'].map(dic)"
   ]
  },
  {
   "cell_type": "code",
   "execution_count": null,
   "id": "0db5f67a",
   "metadata": {},
   "outputs": [],
   "source": [
    "df['owner']"
   ]
  },
  {
   "cell_type": "code",
   "execution_count": null,
   "id": "c7f6bc99",
   "metadata": {},
   "outputs": [],
   "source": [
    "df['owner'].value_counts()"
   ]
  },
  {
   "cell_type": "code",
   "execution_count": null,
   "id": "a3c570d6",
   "metadata": {},
   "outputs": [],
   "source": [
    "ser=df['city'].value_counts()\n",
    "ser[ser>10].keys()"
   ]
  },
  {
   "cell_type": "code",
   "execution_count": null,
   "id": "43c8a8cf",
   "metadata": {},
   "outputs": [],
   "source": [
    "city_name=['Delhi', 'Bangalore', 'Mumbai', 'Hyderabad', 'Pune', 'Chennai',\n",
    "       'Lucknow', 'Jaipur', 'Ghaziabad', 'Ahmedabad', 'Noida', 'Bhopal',\n",
    "       'Gautam Buddha Nagar', 'Kanchipuram', 'Jodhpur', 'Karnal', 'Allahabad',\n",
    "       'Rupnagar', 'Gurgaon', 'Godhara', 'Faridabad', 'Perumbavoor', 'Kadapa',\n",
    "       'Ludhiana', 'Kolkata', 'Thane', 'Jhansi', 'Vadodara', 'Surat',\n",
    "       'Jalandhar', 'Chandigarh', 'Rajkot', 'Indore', 'Dehradun', 'Patna',\n",
    "       'Navi Mumbai', 'Nagpur', 'Coimbatore', 'Guwahati', 'Tiruvallur',\n",
    "       'Bhubaneshwar', 'Howrah', 'Kanpur', 'Aurangabad', 'Cuttack',\n",
    "       'Visakhapatnam', 'Alibag', 'Alipore', 'Nashik', 'Ranchi', 'Kalyan',\n",
    "       'Rohtak', 'Udaipur', 'Gorakhpur', 'Agra', 'Kota', '24 Pargana',\n",
    "       'Meerut', 'Gandhinagar', 'Ernakulam']\n",
    "maxc_ten_bike = df[df['city'].isin(city_name)]\n",
    "maxc_ten_bike.head() \n",
    "# these are all city data that having at least 10 bikes"
   ]
  },
  {
   "cell_type": "code",
   "execution_count": null,
   "id": "ce2a9eea",
   "metadata": {},
   "outputs": [],
   "source": [
    "maxc_ten_bike['city'].value_counts().shape[0]              # total 60 city available in my data"
   ]
  },
  {
   "cell_type": "code",
   "execution_count": null,
   "id": "3bdf8b4c",
   "metadata": {},
   "outputs": [],
   "source": [
    "bikes_name=df2['brand'].value_counts()\n",
    "most_available_bikes=bikes_name[bikes_name>10].keys()\n",
    "greater_than_ten_bike=maxc_ten_bike[maxc_ten_bike['brand'].isin(most_available_bikes)]\n",
    "greater_than_ten_bike.head()\n",
    "# these are all bikes records that available numbers of greater than 10"
   ]
  },
  {
   "cell_type": "code",
   "execution_count": null,
   "id": "48e53cf7",
   "metadata": {},
   "outputs": [],
   "source": [
    "df.head()"
   ]
  },
  {
   "cell_type": "code",
   "execution_count": 89,
   "id": "2382204f",
   "metadata": {},
   "outputs": [
    {
     "data": {
      "text/html": [
       "<div>\n",
       "<style scoped>\n",
       "    .dataframe tbody tr th:only-of-type {\n",
       "        vertical-align: middle;\n",
       "    }\n",
       "\n",
       "    .dataframe tbody tr th {\n",
       "        vertical-align: top;\n",
       "    }\n",
       "\n",
       "    .dataframe thead th {\n",
       "        text-align: right;\n",
       "    }\n",
       "</style>\n",
       "<table border=\"1\" class=\"dataframe\">\n",
       "  <thead>\n",
       "    <tr style=\"text-align: right;\">\n",
       "      <th></th>\n",
       "      <th>bike_name</th>\n",
       "      <th>price</th>\n",
       "      <th>city</th>\n",
       "      <th>kms_driven</th>\n",
       "      <th>owner</th>\n",
       "      <th>age</th>\n",
       "      <th>power</th>\n",
       "      <th>brand</th>\n",
       "    </tr>\n",
       "  </thead>\n",
       "  <tbody>\n",
       "    <tr>\n",
       "      <th>0</th>\n",
       "      <td>TVS Star City Plus Dual Tone 110cc</td>\n",
       "      <td>35000.0</td>\n",
       "      <td>Ahmedabad</td>\n",
       "      <td>17654.0</td>\n",
       "      <td>First Owner</td>\n",
       "      <td>3.0</td>\n",
       "      <td>110.0</td>\n",
       "      <td>8.0</td>\n",
       "    </tr>\n",
       "    <tr>\n",
       "      <th>1</th>\n",
       "      <td>Royal Enfield Classic 350cc</td>\n",
       "      <td>119900.0</td>\n",
       "      <td>Delhi</td>\n",
       "      <td>11000.0</td>\n",
       "      <td>First Owner</td>\n",
       "      <td>4.0</td>\n",
       "      <td>350.0</td>\n",
       "      <td>1.0</td>\n",
       "    </tr>\n",
       "    <tr>\n",
       "      <th>2</th>\n",
       "      <td>Triumph Daytona 675R</td>\n",
       "      <td>600000.0</td>\n",
       "      <td>Delhi</td>\n",
       "      <td>110.0</td>\n",
       "      <td>First Owner</td>\n",
       "      <td>8.0</td>\n",
       "      <td>675.0</td>\n",
       "      <td>13.0</td>\n",
       "    </tr>\n",
       "    <tr>\n",
       "      <th>3</th>\n",
       "      <td>TVS Apache RTR 180cc</td>\n",
       "      <td>65000.0</td>\n",
       "      <td>Bangalore</td>\n",
       "      <td>16329.0</td>\n",
       "      <td>First Owner</td>\n",
       "      <td>4.0</td>\n",
       "      <td>180.0</td>\n",
       "      <td>8.0</td>\n",
       "    </tr>\n",
       "    <tr>\n",
       "      <th>4</th>\n",
       "      <td>Yamaha FZ S V 2.0 150cc-Ltd. Edition</td>\n",
       "      <td>80000.0</td>\n",
       "      <td>Bangalore</td>\n",
       "      <td>10000.0</td>\n",
       "      <td>First Owner</td>\n",
       "      <td>3.0</td>\n",
       "      <td>150.0</td>\n",
       "      <td>5.0</td>\n",
       "    </tr>\n",
       "  </tbody>\n",
       "</table>\n",
       "</div>"
      ],
      "text/plain": [
       "                              bike_name     price       city  kms_driven  \\\n",
       "0    TVS Star City Plus Dual Tone 110cc   35000.0  Ahmedabad     17654.0   \n",
       "1           Royal Enfield Classic 350cc  119900.0      Delhi     11000.0   \n",
       "2                  Triumph Daytona 675R  600000.0      Delhi       110.0   \n",
       "3                  TVS Apache RTR 180cc   65000.0  Bangalore     16329.0   \n",
       "4  Yamaha FZ S V 2.0 150cc-Ltd. Edition   80000.0  Bangalore     10000.0   \n",
       "\n",
       "         owner  age  power  brand  \n",
       "0  First Owner  3.0  110.0    8.0  \n",
       "1  First Owner  4.0  350.0    1.0  \n",
       "2  First Owner  8.0  675.0   13.0  \n",
       "3  First Owner  4.0  180.0    8.0  \n",
       "4  First Owner  3.0  150.0    5.0  "
      ]
     },
     "execution_count": 89,
     "metadata": {},
     "output_type": "execute_result"
    }
   ],
   "source": [
    "bike_encoding_dict={'Bajaj':3, 'Hero':16, 'Royal Enfield':1, 'Yamaha':5, 'Honda':6, 'Suzuki':7, 'TVS':8,\n",
    "       'KTM':2, 'Harley-Davidson':4, 'Kawasaki':9, 'Hyosung':10, 'Benelli':11, 'Mahindra':12,\n",
    "       'Triumph':13, 'Ducati':14, 'BMW':15}\n",
    "df['brand']=df['brand'].map(bike_encoding_dict)\n",
    "df.head()"
   ]
  },
  {
   "cell_type": "code",
   "execution_count": null,
   "id": "0885a94b",
   "metadata": {},
   "outputs": [],
   "source": [
    "df[df['brand']==12].head()"
   ]
  },
  {
   "cell_type": "markdown",
   "id": "ff8e3b26",
   "metadata": {},
   "source": [
    "# TO check the correlation in between independent and dependent feature"
   ]
  },
  {
   "cell_type": "code",
   "execution_count": null,
   "id": "3ee0f248",
   "metadata": {
    "scrolled": true
   },
   "outputs": [],
   "source": [
    "sns.relplot(x='kms_driven',y='price',data=df,color='black')            #,hue='age',\n",
    "plt.title('kms_driven',fontdict={'fontsize':22,'color':'blue'})\n",
    "plt.show()"
   ]
  },
  {
   "cell_type": "code",
   "execution_count": null,
   "id": "66680602",
   "metadata": {},
   "outputs": [],
   "source": [
    "numerical_data.columns"
   ]
  },
  {
   "cell_type": "code",
   "execution_count": null,
   "id": "588a043c",
   "metadata": {},
   "outputs": [],
   "source": [
    "sns.relplot(x='age',y='price',data=df,color='black')            \n",
    "plt.title('age',fontdict={'fontsize':22,'color':'blue'})\n",
    "plt.show()"
   ]
  },
  {
   "cell_type": "code",
   "execution_count": null,
   "id": "9f852157",
   "metadata": {},
   "outputs": [],
   "source": [
    "# positive relation\n",
    "sns.relplot(x='power',y='price',data=df,color='black')            #,hue='age',\n",
    "plt.title('power',fontdict={'fontsize':22,'color':'blue'})\n",
    "plt.show()"
   ]
  },
  {
   "cell_type": "code",
   "execution_count": null,
   "id": "9425005a",
   "metadata": {},
   "outputs": [],
   "source": [
    "df.corr()"
   ]
  },
  {
   "cell_type": "code",
   "execution_count": null,
   "id": "ac1429f4",
   "metadata": {},
   "outputs": [],
   "source": [
    "sns.heatmap(df.corr(),annot=True,cmap='coolwarm')"
   ]
  },
  {
   "cell_type": "code",
   "execution_count": null,
   "id": "07cebae9",
   "metadata": {},
   "outputs": [],
   "source": [
    "sns.barplot(x = df.corr()['price'].keys(),y=df.corr()['price'].values)"
   ]
  },
  {
   "cell_type": "code",
   "execution_count": null,
   "id": "17789db9",
   "metadata": {},
   "outputs": [],
   "source": [
    "sns.scatterplot(x='power',y='power',data=df)"
   ]
  },
  {
   "cell_type": "code",
   "execution_count": null,
   "id": "adfe2027",
   "metadata": {},
   "outputs": [],
   "source": [
    "sns.scatterplot(x='age',y='power',data=df)"
   ]
  },
  {
   "cell_type": "code",
   "execution_count": null,
   "id": "081a0183",
   "metadata": {},
   "outputs": [],
   "source": [
    "sns.pairplot(df)"
   ]
  },
  {
   "cell_type": "code",
   "execution_count": null,
   "id": "acdc3855",
   "metadata": {},
   "outputs": [],
   "source": []
  },
  {
   "cell_type": "code",
   "execution_count": null,
   "id": "40375c93",
   "metadata": {},
   "outputs": [],
   "source": []
  },
  {
   "cell_type": "code",
   "execution_count": null,
   "id": "fe51d5ef",
   "metadata": {},
   "outputs": [],
   "source": []
  },
  {
   "cell_type": "markdown",
   "id": "fb5ddd59",
   "metadata": {},
   "source": [
    "## to remove the outliers by IQR method"
   ]
  },
  {
   "cell_type": "code",
   "execution_count": null,
   "id": "0cb392a3",
   "metadata": {},
   "outputs": [],
   "source": [
    "# from kms_driven feature\n",
    "lower_limit = dict()\n",
    "uper_limit = dict()\n",
    "\n",
    "for colum in numerical_data.columns:\n",
    "    q1,q3=df[colum].quantile([.25,.75])\n",
    "    IQR=q3-q1\n",
    "    LL=q1-1.5*(IQR)\n",
    "    UL=q3+1.5*(IQR)\n",
    "    lower_limit[colum]=LL\n",
    "    uper_limit[colum]=UL\n",
    "    "
   ]
  },
  {
   "cell_type": "code",
   "execution_count": null,
   "id": "ab9d7396",
   "metadata": {},
   "outputs": [],
   "source": [
    "lower_limit"
   ]
  },
  {
   "cell_type": "code",
   "execution_count": null,
   "id": "e3c737e5",
   "metadata": {},
   "outputs": [],
   "source": [
    "uper_limit"
   ]
  },
  {
   "cell_type": "code",
   "execution_count": null,
   "id": "62223131",
   "metadata": {},
   "outputs": [],
   "source": [
    "removed_outliers = df[(df['price']>-57500.0)&(df['price']<162500.0)]\n",
    "removed_outliers.shape[0]"
   ]
  },
  {
   "cell_type": "code",
   "execution_count": null,
   "id": "70e1cd26",
   "metadata": {},
   "outputs": [],
   "source": [
    "sns.boxplot(removed_outliers['price'])"
   ]
  },
  {
   "cell_type": "code",
   "execution_count": null,
   "id": "4ad6a839",
   "metadata": {},
   "outputs": [],
   "source": [
    "df[(df['age']>2.5)&(df['age']<17.5)].shape"
   ]
  },
  {
   "cell_type": "code",
   "execution_count": null,
   "id": "9c23afcf",
   "metadata": {},
   "outputs": [],
   "source": [
    "df.shape"
   ]
  },
  {
   "cell_type": "code",
   "execution_count": null,
   "id": "f5073494",
   "metadata": {},
   "outputs": [],
   "source": [
    "sns.boxplot(df[df['price']>-57500.0]['price'])"
   ]
  },
  {
   "cell_type": "code",
   "execution_count": null,
   "id": "38836cb9",
   "metadata": {},
   "outputs": [],
   "source": [
    "df[df['age']<57500.0]['price']"
   ]
  },
  {
   "cell_type": "code",
   "execution_count": null,
   "id": "87d4e6a5",
   "metadata": {},
   "outputs": [],
   "source": [
    "df3[df3['price']<uL]"
   ]
  },
  {
   "cell_type": "code",
   "execution_count": null,
   "id": "622d30cd",
   "metadata": {},
   "outputs": [],
   "source": [
    "LL"
   ]
  },
  {
   "cell_type": "code",
   "execution_count": null,
   "id": "c1e7c001",
   "metadata": {},
   "outputs": [],
   "source": [
    "uL"
   ]
  },
  {
   "cell_type": "code",
   "execution_count": 132,
   "id": "786e534a",
   "metadata": {},
   "outputs": [
    {
     "name": "stderr",
     "output_type": "stream",
     "text": [
      "c:\\users\\dell\\appdata\\local\\programs\\python\\python39\\lib\\site-packages\\seaborn\\_decorators.py:36: FutureWarning: Pass the following variable as a keyword arg: x. From version 0.12, the only valid positional argument will be `data`, and passing other arguments without an explicit keyword will result in an error or misinterpretation.\n",
      "  warnings.warn(\n"
     ]
    },
    {
     "data": {
      "text/plain": [
       "<AxesSubplot:xlabel='kms_driven'>"
      ]
     },
     "execution_count": 132,
     "metadata": {},
     "output_type": "execute_result"
    },
    {
     "data": {
      "image/png": "[encoded data removed]",
      "text/plain": [
       "<Figure size 720x576 with 1 Axes>"
      ]
     },
     "metadata": {},
     "output_type": "display_data"
    }
   ],
   "source": [
    "sns.boxplot(df3[df3['kms_driven']<uL]['kms_driven'])"
   ]
  },
  {
   "cell_type": "code",
   "execution_count": 108,
   "id": "da82174b",
   "metadata": {},
   "outputs": [
    {
     "data": {
      "text/html": [
       "<div>\n",
       "<style scoped>\n",
       "    .dataframe tbody tr th:only-of-type {\n",
       "        vertical-align: middle;\n",
       "    }\n",
       "\n",
       "    .dataframe tbody tr th {\n",
       "        vertical-align: top;\n",
       "    }\n",
       "\n",
       "    .dataframe thead th {\n",
       "        text-align: right;\n",
       "    }\n",
       "</style>\n",
       "<table border=\"1\" class=\"dataframe\">\n",
       "  <thead>\n",
       "    <tr style=\"text-align: right;\">\n",
       "      <th></th>\n",
       "      <th>price</th>\n",
       "      <th>city</th>\n",
       "      <th>kms_driven</th>\n",
       "      <th>owner</th>\n",
       "      <th>age</th>\n",
       "      <th>power</th>\n",
       "      <th>brand</th>\n",
       "    </tr>\n",
       "  </thead>\n",
       "  <tbody>\n",
       "    <tr>\n",
       "      <th>0</th>\n",
       "      <td>35000.0</td>\n",
       "      <td>Ahmedabad</td>\n",
       "      <td>17654.0</td>\n",
       "      <td>First Owner</td>\n",
       "      <td>3.0</td>\n",
       "      <td>110.0</td>\n",
       "      <td>8.0</td>\n",
       "    </tr>\n",
       "    <tr>\n",
       "      <th>1</th>\n",
       "      <td>119900.0</td>\n",
       "      <td>Delhi</td>\n",
       "      <td>11000.0</td>\n",
       "      <td>First Owner</td>\n",
       "      <td>4.0</td>\n",
       "      <td>350.0</td>\n",
       "      <td>1.0</td>\n",
       "    </tr>\n",
       "    <tr>\n",
       "      <th>2</th>\n",
       "      <td>600000.0</td>\n",
       "      <td>Delhi</td>\n",
       "      <td>110.0</td>\n",
       "      <td>First Owner</td>\n",
       "      <td>8.0</td>\n",
       "      <td>675.0</td>\n",
       "      <td>13.0</td>\n",
       "    </tr>\n",
       "    <tr>\n",
       "      <th>3</th>\n",
       "      <td>65000.0</td>\n",
       "      <td>Bangalore</td>\n",
       "      <td>16329.0</td>\n",
       "      <td>First Owner</td>\n",
       "      <td>4.0</td>\n",
       "      <td>180.0</td>\n",
       "      <td>8.0</td>\n",
       "    </tr>\n",
       "    <tr>\n",
       "      <th>4</th>\n",
       "      <td>80000.0</td>\n",
       "      <td>Bangalore</td>\n",
       "      <td>10000.0</td>\n",
       "      <td>First Owner</td>\n",
       "      <td>3.0</td>\n",
       "      <td>150.0</td>\n",
       "      <td>5.0</td>\n",
       "    </tr>\n",
       "  </tbody>\n",
       "</table>\n",
       "</div>"
      ],
      "text/plain": [
       "      price       city  kms_driven        owner  age  power  brand\n",
       "0   35000.0  Ahmedabad     17654.0  First Owner  3.0  110.0    8.0\n",
       "1  119900.0      Delhi     11000.0  First Owner  4.0  350.0    1.0\n",
       "2  600000.0      Delhi       110.0  First Owner  8.0  675.0   13.0\n",
       "3   65000.0  Bangalore     16329.0  First Owner  4.0  180.0    8.0\n",
       "4   80000.0  Bangalore     10000.0  First Owner  3.0  150.0    5.0"
      ]
     },
     "execution_count": 108,
     "metadata": {},
     "output_type": "execute_result"
    }
   ],
   "source": [
    "df4_rm_outlrs_in_driven=df[df['kms_driven']<uper_limit['kms_driven']]\n",
    "df4_rm_outlrs_in_driven.head()"
   ]
  },
  {
   "cell_type": "code",
   "execution_count": 109,
   "id": "19aef747",
   "metadata": {},
   "outputs": [
    {
     "data": {
      "text/plain": [
       "(31763, 7)"
      ]
     },
     "execution_count": 109,
     "metadata": {},
     "output_type": "execute_result"
    }
   ],
   "source": [
    "df4_rm_outlrs_in_driven.shape"
   ]
  },
  {
   "cell_type": "code",
   "execution_count": 31,
   "id": "50c5dad8",
   "metadata": {},
   "outputs": [
    {
     "data": {
      "text/plain": [
       "<seaborn.axisgrid.FacetGrid at 0x25d04d862b0>"
      ]
     },
     "execution_count": 31,
     "metadata": {},
     "output_type": "execute_result"
    },
    {
     "data": {
      "image/png": "[encoded data removed]",
      "text/plain": [
       "<Figure size 360x360 with 1 Axes>"
      ]
     },
     "metadata": {
      "needs_background": "light"
     },
     "output_type": "display_data"
    }
   ],
   "source": [
    "sns.relplot(x='kms_driven',y='price',data=df4_rm_outlrs_in_driven)\n",
    "# you can see now"
   ]
  },
  {
   "cell_type": "code",
   "execution_count": 32,
   "id": "cc8382e6",
   "metadata": {},
   "outputs": [
    {
     "data": {
      "text/plain": [
       "(30825, 7)"
      ]
     },
     "execution_count": 32,
     "metadata": {},
     "output_type": "execute_result"
    }
   ],
   "source": [
    "df4_rm_outlrs_in_driven.shape"
   ]
  },
  {
   "cell_type": "code",
   "execution_count": 134,
   "id": "83d67960",
   "metadata": {},
   "outputs": [
    {
     "name": "stderr",
     "output_type": "stream",
     "text": [
      "c:\\users\\dell\\appdata\\local\\programs\\python\\python39\\lib\\site-packages\\seaborn\\_decorators.py:36: FutureWarning: Pass the following variable as a keyword arg: x. From version 0.12, the only valid positional argument will be `data`, and passing other arguments without an explicit keyword will result in an error or misinterpretation.\n",
      "  warnings.warn(\n"
     ]
    },
    {
     "data": {
      "text/plain": [
       "<AxesSubplot:xlabel='price'>"
      ]
     },
     "execution_count": 134,
     "metadata": {},
     "output_type": "execute_result"
    },
    {
     "data": {
      "image/png": "[encoded data removed]",
      "text/plain": [
       "<Figure size 720x576 with 1 Axes>"
      ]
     },
     "metadata": {},
     "output_type": "display_data"
    }
   ],
   "source": [
    "sns.boxplot(df4_rm_outlrs_in_driven['price'])\n",
    "# i am going to remove outliers in price feature"
   ]
  },
  {
   "cell_type": "code",
   "execution_count": 33,
   "id": "528af11b",
   "metadata": {},
   "outputs": [],
   "source": [
    "q1,q3=df4_rm_outlrs_in_driven['price'].quantile([.25,.75])\n",
    "IQR=q3-q1\n",
    "LL=q1-1.5*(IQR)\n",
    "UL=q3+1.5*(IQR)"
   ]
  },
  {
   "cell_type": "code",
   "execution_count": 34,
   "id": "b0d58454",
   "metadata": {},
   "outputs": [
    {
     "data": {
      "text/plain": [
       "-57500.0"
      ]
     },
     "execution_count": 34,
     "metadata": {},
     "output_type": "execute_result"
    }
   ],
   "source": [
    "LL"
   ]
  },
  {
   "cell_type": "code",
   "execution_count": 35,
   "id": "de07f58a",
   "metadata": {},
   "outputs": [
    {
     "data": {
      "text/plain": [
       "162500.0"
      ]
     },
     "execution_count": 35,
     "metadata": {},
     "output_type": "execute_result"
    }
   ],
   "source": [
    "UL"
   ]
  },
  {
   "cell_type": "code",
   "execution_count": 36,
   "id": "901d8a60",
   "metadata": {},
   "outputs": [
    {
     "name": "stderr",
     "output_type": "stream",
     "text": [
      "c:\\users\\dell\\appdata\\local\\programs\\python\\python39\\lib\\site-packages\\seaborn\\_decorators.py:36: FutureWarning: Pass the following variable as a keyword arg: x. From version 0.12, the only valid positional argument will be `data`, and passing other arguments without an explicit keyword will result in an error or misinterpretation.\n",
      "  warnings.warn(\n"
     ]
    },
    {
     "data": {
      "text/plain": [
       "<AxesSubplot:xlabel='price'>"
      ]
     },
     "execution_count": 36,
     "metadata": {},
     "output_type": "execute_result"
    },
    {
     "data": {
      "image/png": "[encoded data removed]",
      "text/plain": [
       "<Figure size 432x288 with 1 Axes>"
      ]
     },
     "metadata": {
      "needs_background": "light"
     },
     "output_type": "display_data"
    }
   ],
   "source": [
    "sns.boxplot(df4_rm_outlrs_in_driven[df4_rm_outlrs_in_driven['price']<UL]['price'])"
   ]
  },
  {
   "cell_type": "code",
   "execution_count": 37,
   "id": "3b509893",
   "metadata": {},
   "outputs": [
    {
     "data": {
      "text/html": [
       "<div>\n",
       "<style scoped>\n",
       "    .dataframe tbody tr th:only-of-type {\n",
       "        vertical-align: middle;\n",
       "    }\n",
       "\n",
       "    .dataframe tbody tr th {\n",
       "        vertical-align: top;\n",
       "    }\n",
       "\n",
       "    .dataframe thead th {\n",
       "        text-align: right;\n",
       "    }\n",
       "</style>\n",
       "<table border=\"1\" class=\"dataframe\">\n",
       "  <thead>\n",
       "    <tr style=\"text-align: right;\">\n",
       "      <th></th>\n",
       "      <th>price</th>\n",
       "      <th>city</th>\n",
       "      <th>kms_driven</th>\n",
       "      <th>owner</th>\n",
       "      <th>age</th>\n",
       "      <th>power</th>\n",
       "      <th>brand</th>\n",
       "    </tr>\n",
       "  </thead>\n",
       "  <tbody>\n",
       "    <tr>\n",
       "      <th>0</th>\n",
       "      <td>35000.0</td>\n",
       "      <td>Ahmedabad</td>\n",
       "      <td>17654.0</td>\n",
       "      <td>1</td>\n",
       "      <td>3</td>\n",
       "      <td>110.0</td>\n",
       "      <td>8</td>\n",
       "    </tr>\n",
       "    <tr>\n",
       "      <th>1</th>\n",
       "      <td>119900.0</td>\n",
       "      <td>Delhi</td>\n",
       "      <td>11000.0</td>\n",
       "      <td>1</td>\n",
       "      <td>4</td>\n",
       "      <td>350.0</td>\n",
       "      <td>1</td>\n",
       "    </tr>\n",
       "    <tr>\n",
       "      <th>3</th>\n",
       "      <td>65000.0</td>\n",
       "      <td>Bangalore</td>\n",
       "      <td>16329.0</td>\n",
       "      <td>1</td>\n",
       "      <td>4</td>\n",
       "      <td>180.0</td>\n",
       "      <td>8</td>\n",
       "    </tr>\n",
       "    <tr>\n",
       "      <th>4</th>\n",
       "      <td>80000.0</td>\n",
       "      <td>Bangalore</td>\n",
       "      <td>10000.0</td>\n",
       "      <td>1</td>\n",
       "      <td>3</td>\n",
       "      <td>150.0</td>\n",
       "      <td>5</td>\n",
       "    </tr>\n",
       "    <tr>\n",
       "      <th>5</th>\n",
       "      <td>53499.0</td>\n",
       "      <td>Delhi</td>\n",
       "      <td>25000.0</td>\n",
       "      <td>1</td>\n",
       "      <td>6</td>\n",
       "      <td>150.0</td>\n",
       "      <td>5</td>\n",
       "    </tr>\n",
       "  </tbody>\n",
       "</table>\n",
       "</div>"
      ],
      "text/plain": [
       "      price       city  kms_driven  owner  age  power  brand\n",
       "0   35000.0  Ahmedabad     17654.0      1    3  110.0      8\n",
       "1  119900.0      Delhi     11000.0      1    4  350.0      1\n",
       "3   65000.0  Bangalore     16329.0      1    4  180.0      8\n",
       "4   80000.0  Bangalore     10000.0      1    3  150.0      5\n",
       "5   53499.0      Delhi     25000.0      1    6  150.0      5"
      ]
     },
     "execution_count": 37,
     "metadata": {},
     "output_type": "execute_result"
    }
   ],
   "source": [
    "df5=df4_rm_outlrs_in_driven[df4_rm_outlrs_in_driven['price']<UL]\n",
    "df5.head()"
   ]
  },
  {
   "cell_type": "markdown",
   "id": "e6c9456a",
   "metadata": {},
   "source": [
    "## set the variable for ML model"
   ]
  },
  {
   "cell_type": "code",
   "execution_count": null,
   "id": "a30db747",
   "metadata": {},
   "outputs": [],
   "source": []
  },
  {
   "cell_type": "code",
   "execution_count": 70,
   "id": "b64e52a9",
   "metadata": {},
   "outputs": [
    {
     "data": {
      "text/html": [
       "<div>\n",
       "<style scoped>\n",
       "    .dataframe tbody tr th:only-of-type {\n",
       "        vertical-align: middle;\n",
       "    }\n",
       "\n",
       "    .dataframe tbody tr th {\n",
       "        vertical-align: top;\n",
       "    }\n",
       "\n",
       "    .dataframe thead th {\n",
       "        text-align: right;\n",
       "    }\n",
       "</style>\n",
       "<table border=\"1\" class=\"dataframe\">\n",
       "  <thead>\n",
       "    <tr style=\"text-align: right;\">\n",
       "      <th></th>\n",
       "      <th>price</th>\n",
       "      <th>city</th>\n",
       "      <th>kms_driven</th>\n",
       "      <th>owner</th>\n",
       "      <th>age</th>\n",
       "      <th>power</th>\n",
       "      <th>brand</th>\n",
       "    </tr>\n",
       "  </thead>\n",
       "  <tbody>\n",
       "    <tr>\n",
       "      <th>0</th>\n",
       "      <td>35000.0</td>\n",
       "      <td>Ahmedabad</td>\n",
       "      <td>17654.0</td>\n",
       "      <td>1</td>\n",
       "      <td>3</td>\n",
       "      <td>110.0</td>\n",
       "      <td>8.0</td>\n",
       "    </tr>\n",
       "    <tr>\n",
       "      <th>1</th>\n",
       "      <td>119900.0</td>\n",
       "      <td>Delhi</td>\n",
       "      <td>11000.0</td>\n",
       "      <td>1</td>\n",
       "      <td>4</td>\n",
       "      <td>350.0</td>\n",
       "      <td>1.0</td>\n",
       "    </tr>\n",
       "    <tr>\n",
       "      <th>2</th>\n",
       "      <td>600000.0</td>\n",
       "      <td>Delhi</td>\n",
       "      <td>110.0</td>\n",
       "      <td>1</td>\n",
       "      <td>8</td>\n",
       "      <td>675.0</td>\n",
       "      <td>13.0</td>\n",
       "    </tr>\n",
       "    <tr>\n",
       "      <th>3</th>\n",
       "      <td>65000.0</td>\n",
       "      <td>Bangalore</td>\n",
       "      <td>16329.0</td>\n",
       "      <td>1</td>\n",
       "      <td>4</td>\n",
       "      <td>180.0</td>\n",
       "      <td>8.0</td>\n",
       "    </tr>\n",
       "    <tr>\n",
       "      <th>4</th>\n",
       "      <td>80000.0</td>\n",
       "      <td>Bangalore</td>\n",
       "      <td>10000.0</td>\n",
       "      <td>1</td>\n",
       "      <td>3</td>\n",
       "      <td>150.0</td>\n",
       "      <td>5.0</td>\n",
       "    </tr>\n",
       "  </tbody>\n",
       "</table>\n",
       "</div>"
      ],
      "text/plain": [
       "      price       city  kms_driven  owner  age  power  brand\n",
       "0   35000.0  Ahmedabad     17654.0      1    3  110.0    8.0\n",
       "1  119900.0      Delhi     11000.0      1    4  350.0    1.0\n",
       "2  600000.0      Delhi       110.0      1    8  675.0   13.0\n",
       "3   65000.0  Bangalore     16329.0      1    4  180.0    8.0\n",
       "4   80000.0  Bangalore     10000.0      1    3  150.0    5.0"
      ]
     },
     "execution_count": 70,
     "metadata": {},
     "output_type": "execute_result"
    }
   ],
   "source": [
    "df.head()"
   ]
  },
  {
   "cell_type": "code",
   "execution_count": null,
   "id": "1935cf51",
   "metadata": {},
   "outputs": [],
   "source": []
  },
  {
   "cell_type": "code",
   "execution_count": 91,
   "id": "9fc2c17e",
   "metadata": {},
   "outputs": [
    {
     "data": {
      "text/html": [
       "<div>\n",
       "<style scoped>\n",
       "    .dataframe tbody tr th:only-of-type {\n",
       "        vertical-align: middle;\n",
       "    }\n",
       "\n",
       "    .dataframe tbody tr th {\n",
       "        vertical-align: top;\n",
       "    }\n",
       "\n",
       "    .dataframe thead th {\n",
       "        text-align: right;\n",
       "    }\n",
       "</style>\n",
       "<table border=\"1\" class=\"dataframe\">\n",
       "  <thead>\n",
       "    <tr style=\"text-align: right;\">\n",
       "      <th></th>\n",
       "      <th>bike_name</th>\n",
       "      <th>price</th>\n",
       "      <th>kms_driven</th>\n",
       "      <th>owner</th>\n",
       "      <th>age</th>\n",
       "      <th>power</th>\n",
       "      <th>brand</th>\n",
       "    </tr>\n",
       "  </thead>\n",
       "  <tbody>\n",
       "    <tr>\n",
       "      <th>0</th>\n",
       "      <td>TVS Star City Plus Dual Tone 110cc</td>\n",
       "      <td>35000.0</td>\n",
       "      <td>17654.0</td>\n",
       "      <td>1</td>\n",
       "      <td>3.0</td>\n",
       "      <td>110.0</td>\n",
       "      <td>8.0</td>\n",
       "    </tr>\n",
       "    <tr>\n",
       "      <th>1</th>\n",
       "      <td>Royal Enfield Classic 350cc</td>\n",
       "      <td>119900.0</td>\n",
       "      <td>11000.0</td>\n",
       "      <td>1</td>\n",
       "      <td>4.0</td>\n",
       "      <td>350.0</td>\n",
       "      <td>1.0</td>\n",
       "    </tr>\n",
       "    <tr>\n",
       "      <th>2</th>\n",
       "      <td>Triumph Daytona 675R</td>\n",
       "      <td>600000.0</td>\n",
       "      <td>110.0</td>\n",
       "      <td>1</td>\n",
       "      <td>8.0</td>\n",
       "      <td>675.0</td>\n",
       "      <td>13.0</td>\n",
       "    </tr>\n",
       "    <tr>\n",
       "      <th>3</th>\n",
       "      <td>TVS Apache RTR 180cc</td>\n",
       "      <td>65000.0</td>\n",
       "      <td>16329.0</td>\n",
       "      <td>1</td>\n",
       "      <td>4.0</td>\n",
       "      <td>180.0</td>\n",
       "      <td>8.0</td>\n",
       "    </tr>\n",
       "    <tr>\n",
       "      <th>4</th>\n",
       "      <td>Yamaha FZ S V 2.0 150cc-Ltd. Edition</td>\n",
       "      <td>80000.0</td>\n",
       "      <td>10000.0</td>\n",
       "      <td>1</td>\n",
       "      <td>3.0</td>\n",
       "      <td>150.0</td>\n",
       "      <td>5.0</td>\n",
       "    </tr>\n",
       "  </tbody>\n",
       "</table>\n",
       "</div>"
      ],
      "text/plain": [
       "                              bike_name     price  kms_driven  owner  age  \\\n",
       "0    TVS Star City Plus Dual Tone 110cc   35000.0     17654.0      1  3.0   \n",
       "1           Royal Enfield Classic 350cc  119900.0     11000.0      1  4.0   \n",
       "2                  Triumph Daytona 675R  600000.0       110.0      1  8.0   \n",
       "3                  TVS Apache RTR 180cc   65000.0     16329.0      1  4.0   \n",
       "4  Yamaha FZ S V 2.0 150cc-Ltd. Edition   80000.0     10000.0      1  3.0   \n",
       "\n",
       "   power  brand  \n",
       "0  110.0    8.0  \n",
       "1  350.0    1.0  \n",
       "2  675.0   13.0  \n",
       "3  180.0    8.0  \n",
       "4  150.0    5.0  "
      ]
     },
     "execution_count": 91,
     "metadata": {},
     "output_type": "execute_result"
    }
   ],
   "source": [
    "df = df.drop(['city'],axis=1)\n",
    "df.head()"
   ]
  },
  {
   "cell_type": "code",
   "execution_count": 92,
   "id": "9f78ee5f",
   "metadata": {},
   "outputs": [
    {
     "data": {
      "text/plain": [
       "22"
      ]
     },
     "execution_count": 92,
     "metadata": {},
     "output_type": "execute_result"
    }
   ],
   "source": [
    "df.isnull().sum().sum()"
   ]
  },
  {
   "cell_type": "code",
   "execution_count": 94,
   "id": "87b7cc0a",
   "metadata": {},
   "outputs": [],
   "source": [
    "df = df.dropna()"
   ]
  },
  {
   "cell_type": "code",
   "execution_count": 95,
   "id": "f50466d6",
   "metadata": {},
   "outputs": [
    {
     "data": {
      "text/plain": [
       "0"
      ]
     },
     "execution_count": 95,
     "metadata": {},
     "output_type": "execute_result"
    }
   ],
   "source": [
    "df.isnull().sum().sum()"
   ]
  },
  {
   "cell_type": "code",
   "execution_count": 96,
   "id": "1341be50",
   "metadata": {},
   "outputs": [],
   "source": [
    "x =df.drop(['bike_name','price'],axis=1)       # independent variable  or input\n",
    "y =df['price']                      # dependent variable   or output"
   ]
  },
  {
   "cell_type": "code",
   "execution_count": 83,
   "id": "12668403",
   "metadata": {},
   "outputs": [
    {
     "data": {
      "text/html": [
       "<div>\n",
       "<style scoped>\n",
       "    .dataframe tbody tr th:only-of-type {\n",
       "        vertical-align: middle;\n",
       "    }\n",
       "\n",
       "    .dataframe tbody tr th {\n",
       "        vertical-align: top;\n",
       "    }\n",
       "\n",
       "    .dataframe thead th {\n",
       "        text-align: right;\n",
       "    }\n",
       "</style>\n",
       "<table border=\"1\" class=\"dataframe\">\n",
       "  <thead>\n",
       "    <tr style=\"text-align: right;\">\n",
       "      <th></th>\n",
       "      <th>kms_driven</th>\n",
       "      <th>owner</th>\n",
       "      <th>age</th>\n",
       "      <th>power</th>\n",
       "      <th>brand</th>\n",
       "    </tr>\n",
       "  </thead>\n",
       "  <tbody>\n",
       "    <tr>\n",
       "      <th>0</th>\n",
       "      <td>17654.0</td>\n",
       "      <td>1</td>\n",
       "      <td>3</td>\n",
       "      <td>110.0</td>\n",
       "      <td>8.0</td>\n",
       "    </tr>\n",
       "    <tr>\n",
       "      <th>1</th>\n",
       "      <td>11000.0</td>\n",
       "      <td>1</td>\n",
       "      <td>4</td>\n",
       "      <td>350.0</td>\n",
       "      <td>1.0</td>\n",
       "    </tr>\n",
       "    <tr>\n",
       "      <th>2</th>\n",
       "      <td>110.0</td>\n",
       "      <td>1</td>\n",
       "      <td>8</td>\n",
       "      <td>675.0</td>\n",
       "      <td>13.0</td>\n",
       "    </tr>\n",
       "    <tr>\n",
       "      <th>3</th>\n",
       "      <td>16329.0</td>\n",
       "      <td>1</td>\n",
       "      <td>4</td>\n",
       "      <td>180.0</td>\n",
       "      <td>8.0</td>\n",
       "    </tr>\n",
       "    <tr>\n",
       "      <th>4</th>\n",
       "      <td>10000.0</td>\n",
       "      <td>1</td>\n",
       "      <td>3</td>\n",
       "      <td>150.0</td>\n",
       "      <td>5.0</td>\n",
       "    </tr>\n",
       "    <tr>\n",
       "      <th>...</th>\n",
       "      <td>...</td>\n",
       "      <td>...</td>\n",
       "      <td>...</td>\n",
       "      <td>...</td>\n",
       "      <td>...</td>\n",
       "    </tr>\n",
       "    <tr>\n",
       "      <th>32643</th>\n",
       "      <td>22000.0</td>\n",
       "      <td>1</td>\n",
       "      <td>4</td>\n",
       "      <td>100.0</td>\n",
       "      <td>16.0</td>\n",
       "    </tr>\n",
       "    <tr>\n",
       "      <th>32644</th>\n",
       "      <td>6639.0</td>\n",
       "      <td>1</td>\n",
       "      <td>9</td>\n",
       "      <td>180.0</td>\n",
       "      <td>8.0</td>\n",
       "    </tr>\n",
       "    <tr>\n",
       "      <th>32645</th>\n",
       "      <td>20373.0</td>\n",
       "      <td>1</td>\n",
       "      <td>6</td>\n",
       "      <td>220.0</td>\n",
       "      <td>3.0</td>\n",
       "    </tr>\n",
       "    <tr>\n",
       "      <th>32646</th>\n",
       "      <td>84186.0</td>\n",
       "      <td>1</td>\n",
       "      <td>16</td>\n",
       "      <td>125.0</td>\n",
       "      <td>16.0</td>\n",
       "    </tr>\n",
       "    <tr>\n",
       "      <th>32647</th>\n",
       "      <td>60857.0</td>\n",
       "      <td>1</td>\n",
       "      <td>13</td>\n",
       "      <td>150.0</td>\n",
       "      <td>3.0</td>\n",
       "    </tr>\n",
       "  </tbody>\n",
       "</table>\n",
       "<p>32648 rows × 5 columns</p>\n",
       "</div>"
      ],
      "text/plain": [
       "       kms_driven  owner  age  power  brand\n",
       "0         17654.0      1    3  110.0    8.0\n",
       "1         11000.0      1    4  350.0    1.0\n",
       "2           110.0      1    8  675.0   13.0\n",
       "3         16329.0      1    4  180.0    8.0\n",
       "4         10000.0      1    3  150.0    5.0\n",
       "...           ...    ...  ...    ...    ...\n",
       "32643     22000.0      1    4  100.0   16.0\n",
       "32644      6639.0      1    9  180.0    8.0\n",
       "32645     20373.0      1    6  220.0    3.0\n",
       "32646     84186.0      1   16  125.0   16.0\n",
       "32647     60857.0      1   13  150.0    3.0\n",
       "\n",
       "[32648 rows x 5 columns]"
      ]
     },
     "execution_count": 83,
     "metadata": {},
     "output_type": "execute_result"
    }
   ],
   "source": [
    "x"
   ]
  },
  {
   "cell_type": "code",
   "execution_count": 84,
   "id": "2ea5ef82",
   "metadata": {},
   "outputs": [
    {
     "data": {
      "text/plain": [
       "0         35000.0\n",
       "1        119900.0\n",
       "2        600000.0\n",
       "3         65000.0\n",
       "4         80000.0\n",
       "           ...   \n",
       "32643     39000.0\n",
       "32644     30000.0\n",
       "32645     60000.0\n",
       "32646     15600.0\n",
       "32647     22000.0\n",
       "Name: price, Length: 32648, dtype: float64"
      ]
     },
     "execution_count": 84,
     "metadata": {},
     "output_type": "execute_result"
    }
   ],
   "source": [
    "y"
   ]
  },
  {
   "cell_type": "code",
   "execution_count": 42,
   "id": "842dc9be",
   "metadata": {},
   "outputs": [
    {
     "data": {
      "text/html": [
       "<div>\n",
       "<style scoped>\n",
       "    .dataframe tbody tr th:only-of-type {\n",
       "        vertical-align: middle;\n",
       "    }\n",
       "\n",
       "    .dataframe tbody tr th {\n",
       "        vertical-align: top;\n",
       "    }\n",
       "\n",
       "    .dataframe thead th {\n",
       "        text-align: right;\n",
       "    }\n",
       "</style>\n",
       "<table border=\"1\" class=\"dataframe\">\n",
       "  <thead>\n",
       "    <tr style=\"text-align: right;\">\n",
       "      <th></th>\n",
       "      <th>kms_driven</th>\n",
       "      <th>owner</th>\n",
       "      <th>age</th>\n",
       "      <th>power</th>\n",
       "      <th>brand</th>\n",
       "    </tr>\n",
       "  </thead>\n",
       "  <tbody>\n",
       "    <tr>\n",
       "      <th>0</th>\n",
       "      <td>17654.0</td>\n",
       "      <td>1</td>\n",
       "      <td>3</td>\n",
       "      <td>110.0</td>\n",
       "      <td>8</td>\n",
       "    </tr>\n",
       "    <tr>\n",
       "      <th>1</th>\n",
       "      <td>11000.0</td>\n",
       "      <td>1</td>\n",
       "      <td>4</td>\n",
       "      <td>350.0</td>\n",
       "      <td>1</td>\n",
       "    </tr>\n",
       "    <tr>\n",
       "      <th>3</th>\n",
       "      <td>16329.0</td>\n",
       "      <td>1</td>\n",
       "      <td>4</td>\n",
       "      <td>180.0</td>\n",
       "      <td>8</td>\n",
       "    </tr>\n",
       "    <tr>\n",
       "      <th>4</th>\n",
       "      <td>10000.0</td>\n",
       "      <td>1</td>\n",
       "      <td>3</td>\n",
       "      <td>150.0</td>\n",
       "      <td>5</td>\n",
       "    </tr>\n",
       "    <tr>\n",
       "      <th>5</th>\n",
       "      <td>25000.0</td>\n",
       "      <td>1</td>\n",
       "      <td>6</td>\n",
       "      <td>150.0</td>\n",
       "      <td>5</td>\n",
       "    </tr>\n",
       "  </tbody>\n",
       "</table>\n",
       "</div>"
      ],
      "text/plain": [
       "   kms_driven  owner  age  power  brand\n",
       "0     17654.0      1    3  110.0      8\n",
       "1     11000.0      1    4  350.0      1\n",
       "3     16329.0      1    4  180.0      8\n",
       "4     10000.0      1    3  150.0      5\n",
       "5     25000.0      1    6  150.0      5"
      ]
     },
     "execution_count": 42,
     "metadata": {},
     "output_type": "execute_result"
    }
   ],
   "source": [
    "x.head()"
   ]
  },
  {
   "cell_type": "code",
   "execution_count": 73,
   "id": "e5c1580b",
   "metadata": {},
   "outputs": [
    {
     "data": {
      "text/plain": [
       "(32648, 6)"
      ]
     },
     "execution_count": 73,
     "metadata": {},
     "output_type": "execute_result"
    }
   ],
   "source": [
    "df.shape"
   ]
  },
  {
   "cell_type": "code",
   "execution_count": 74,
   "id": "b44e722f",
   "metadata": {},
   "outputs": [
    {
     "data": {
      "text/plain": [
       "((32648, 5), (32648,))"
      ]
     },
     "execution_count": 74,
     "metadata": {},
     "output_type": "execute_result"
    }
   ],
   "source": [
    "x.shape,y.shape"
   ]
  },
  {
   "cell_type": "code",
   "execution_count": 97,
   "id": "49b314a7",
   "metadata": {},
   "outputs": [],
   "source": [
    "from sklearn.model_selection import train_test_split\n",
    "\n",
    "\n",
    "x_train  ,x_test,   y_train,  y_test =  train_test_split(x,y,test_size=0.2,random_state=31)"
   ]
  },
  {
   "cell_type": "code",
   "execution_count": 98,
   "id": "8e99cd71",
   "metadata": {},
   "outputs": [
    {
     "data": {
      "text/plain": [
       "((26100, 5), (6526, 5), (26100,), (6526,))"
      ]
     },
     "execution_count": 98,
     "metadata": {},
     "output_type": "execute_result"
    }
   ],
   "source": [
    "x_train.shape,  x_test.shape,   y_train.shape,   y_test.shape"
   ]
  },
  {
   "cell_type": "code",
   "execution_count": 85,
   "id": "43e35419",
   "metadata": {},
   "outputs": [
    {
     "data": {
      "text/html": [
       "<div>\n",
       "<style scoped>\n",
       "    .dataframe tbody tr th:only-of-type {\n",
       "        vertical-align: middle;\n",
       "    }\n",
       "\n",
       "    .dataframe tbody tr th {\n",
       "        vertical-align: top;\n",
       "    }\n",
       "\n",
       "    .dataframe thead th {\n",
       "        text-align: right;\n",
       "    }\n",
       "</style>\n",
       "<table border=\"1\" class=\"dataframe\">\n",
       "  <thead>\n",
       "    <tr style=\"text-align: right;\">\n",
       "      <th></th>\n",
       "      <th>kms_driven</th>\n",
       "      <th>owner</th>\n",
       "      <th>age</th>\n",
       "      <th>power</th>\n",
       "      <th>brand</th>\n",
       "    </tr>\n",
       "  </thead>\n",
       "  <tbody>\n",
       "    <tr>\n",
       "      <th>8793</th>\n",
       "      <td>7289.0</td>\n",
       "      <td>1</td>\n",
       "      <td>3</td>\n",
       "      <td>110.0</td>\n",
       "      <td>6.0</td>\n",
       "    </tr>\n",
       "    <tr>\n",
       "      <th>4914</th>\n",
       "      <td>32000.0</td>\n",
       "      <td>1</td>\n",
       "      <td>5</td>\n",
       "      <td>180.0</td>\n",
       "      <td>8.0</td>\n",
       "    </tr>\n",
       "    <tr>\n",
       "      <th>25502</th>\n",
       "      <td>21300.0</td>\n",
       "      <td>1</td>\n",
       "      <td>4</td>\n",
       "      <td>400.0</td>\n",
       "      <td>3.0</td>\n",
       "    </tr>\n",
       "    <tr>\n",
       "      <th>27560</th>\n",
       "      <td>20000.0</td>\n",
       "      <td>1</td>\n",
       "      <td>4</td>\n",
       "      <td>350.0</td>\n",
       "      <td>1.0</td>\n",
       "    </tr>\n",
       "    <tr>\n",
       "      <th>16770</th>\n",
       "      <td>41939.0</td>\n",
       "      <td>1</td>\n",
       "      <td>8</td>\n",
       "      <td>200.0</td>\n",
       "      <td>3.0</td>\n",
       "    </tr>\n",
       "    <tr>\n",
       "      <th>...</th>\n",
       "      <td>...</td>\n",
       "      <td>...</td>\n",
       "      <td>...</td>\n",
       "      <td>...</td>\n",
       "      <td>...</td>\n",
       "    </tr>\n",
       "    <tr>\n",
       "      <th>14946</th>\n",
       "      <td>41939.0</td>\n",
       "      <td>1</td>\n",
       "      <td>8</td>\n",
       "      <td>200.0</td>\n",
       "      <td>3.0</td>\n",
       "    </tr>\n",
       "    <tr>\n",
       "      <th>27518</th>\n",
       "      <td>20000.0</td>\n",
       "      <td>1</td>\n",
       "      <td>6</td>\n",
       "      <td>100.0</td>\n",
       "      <td>3.0</td>\n",
       "    </tr>\n",
       "    <tr>\n",
       "      <th>26640</th>\n",
       "      <td>6639.0</td>\n",
       "      <td>1</td>\n",
       "      <td>9</td>\n",
       "      <td>180.0</td>\n",
       "      <td>8.0</td>\n",
       "    </tr>\n",
       "    <tr>\n",
       "      <th>32343</th>\n",
       "      <td>60857.0</td>\n",
       "      <td>1</td>\n",
       "      <td>13</td>\n",
       "      <td>150.0</td>\n",
       "      <td>3.0</td>\n",
       "    </tr>\n",
       "    <tr>\n",
       "      <th>21202</th>\n",
       "      <td>64955.0</td>\n",
       "      <td>1</td>\n",
       "      <td>15</td>\n",
       "      <td>150.0</td>\n",
       "      <td>3.0</td>\n",
       "    </tr>\n",
       "  </tbody>\n",
       "</table>\n",
       "<p>26118 rows × 5 columns</p>\n",
       "</div>"
      ],
      "text/plain": [
       "       kms_driven  owner  age  power  brand\n",
       "8793       7289.0      1    3  110.0    6.0\n",
       "4914      32000.0      1    5  180.0    8.0\n",
       "25502     21300.0      1    4  400.0    3.0\n",
       "27560     20000.0      1    4  350.0    1.0\n",
       "16770     41939.0      1    8  200.0    3.0\n",
       "...           ...    ...  ...    ...    ...\n",
       "14946     41939.0      1    8  200.0    3.0\n",
       "27518     20000.0      1    6  100.0    3.0\n",
       "26640      6639.0      1    9  180.0    8.0\n",
       "32343     60857.0      1   13  150.0    3.0\n",
       "21202     64955.0      1   15  150.0    3.0\n",
       "\n",
       "[26118 rows x 5 columns]"
      ]
     },
     "execution_count": 85,
     "metadata": {},
     "output_type": "execute_result"
    }
   ],
   "source": [
    "x_train"
   ]
  },
  {
   "cell_type": "code",
   "execution_count": 86,
   "id": "f2e376a4",
   "metadata": {},
   "outputs": [
    {
     "data": {
      "text/plain": [
       "8793      50000.0\n",
       "4914      59900.0\n",
       "25502    139000.0\n",
       "27560    105000.0\n",
       "16770     48000.0\n",
       "           ...   \n",
       "14946     48000.0\n",
       "27518     23000.0\n",
       "26640     30000.0\n",
       "32343     22000.0\n",
       "21202     10000.0\n",
       "Name: price, Length: 26118, dtype: float64"
      ]
     },
     "execution_count": 86,
     "metadata": {},
     "output_type": "execute_result"
    }
   ],
   "source": [
    "y_train"
   ]
  },
  {
   "cell_type": "code",
   "execution_count": null,
   "id": "5f64c54c",
   "metadata": {},
   "outputs": [],
   "source": []
  },
  {
   "cell_type": "code",
   "execution_count": 80,
   "id": "8530f1c5",
   "metadata": {},
   "outputs": [
    {
     "data": {
      "text/plain": [
       "80"
      ]
     },
     "execution_count": 80,
     "metadata": {},
     "output_type": "execute_result"
    }
   ],
   "source": [
    "round(x_train.shape[0]/df.shape[0]*100)           # percentage of training data"
   ]
  },
  {
   "cell_type": "code",
   "execution_count": 81,
   "id": "8403a694",
   "metadata": {},
   "outputs": [
    {
     "data": {
      "text/plain": [
       "20"
      ]
     },
     "execution_count": 81,
     "metadata": {},
     "output_type": "execute_result"
    }
   ],
   "source": [
    "round(x_test.shape[0]/df.shape[0]*100)           # percentage of testing data"
   ]
  },
  {
   "cell_type": "markdown",
   "id": "d414e4c2",
   "metadata": {},
   "source": [
    "### LinearRegression"
   ]
  },
  {
   "cell_type": "code",
   "execution_count": 102,
   "id": "7b190846",
   "metadata": {},
   "outputs": [],
   "source": [
    "def sum(a=10 ,b):\n",
    "   \n",
    "    c = a+b\n",
    "    print(c)"
   ]
  },
  {
   "cell_type": "code",
   "execution_count": 107,
   "id": "17fb0bf8",
   "metadata": {},
   "outputs": [
    {
     "name": "stdout",
     "output_type": "stream",
     "text": [
      "20\n"
     ]
    }
   ],
   "source": [
    "sum(10,10)"
   ]
  },
  {
   "cell_type": "code",
   "execution_count": 99,
   "id": "cdc492a0",
   "metadata": {},
   "outputs": [
    {
     "data": {
      "text/html": [
       "<style>#sk-container-id-1 {color: black;background-color: white;}#sk-container-id-1 pre{padding: 0;}#sk-container-id-1 div.sk-toggleable {background-color: white;}#sk-container-id-1 label.sk-toggleable__label {cursor: pointer;display: block;width: 100%;margin-bottom: 0;padding: 0.3em;box-sizing: border-box;text-align: center;}#sk-container-id-1 label.sk-toggleable__label-arrow:before {content: \"▸\";float: left;margin-right: 0.25em;color: #696969;}#sk-container-id-1 label.sk-toggleable__label-arrow:hover:before {color: black;}#sk-container-id-1 div.sk-estimator:hover label.sk-toggleable__label-arrow:before {color: black;}#sk-container-id-1 div.sk-toggleable__content {max-height: 0;max-width: 0;overflow: hidden;text-align: left;background-color: #f0f8ff;}#sk-container-id-1 div.sk-toggleable__content pre {margin: 0.2em;color: black;border-radius: 0.25em;background-color: #f0f8ff;}#sk-container-id-1 input.sk-toggleable__control:checked~div.sk-toggleable__content {max-height: 200px;max-width: 100%;overflow: auto;}#sk-container-id-1 input.sk-toggleable__control:checked~label.sk-toggleable__label-arrow:before {content: \"▾\";}#sk-container-id-1 div.sk-estimator input.sk-toggleable__control:checked~label.sk-toggleable__label {background-color: #d4ebff;}#sk-container-id-1 div.sk-label input.sk-toggleable__control:checked~label.sk-toggleable__label {background-color: #d4ebff;}#sk-container-id-1 input.sk-hidden--visually {border: 0;clip: rect(1px 1px 1px 1px);clip: rect(1px, 1px, 1px, 1px);height: 1px;margin: -1px;overflow: hidden;padding: 0;position: absolute;width: 1px;}#sk-container-id-1 div.sk-estimator {font-family: monospace;background-color: #f0f8ff;border: 1px dotted black;border-radius: 0.25em;box-sizing: border-box;margin-bottom: 0.5em;}#sk-container-id-1 div.sk-estimator:hover {background-color: #d4ebff;}#sk-container-id-1 div.sk-parallel-item::after {content: \"\";width: 100%;border-bottom: 1px solid gray;flex-grow: 1;}#sk-container-id-1 div.sk-label:hover label.sk-toggleable__label {background-color: #d4ebff;}#sk-container-id-1 div.sk-serial::before {content: \"\";position: absolute;border-left: 1px solid gray;box-sizing: border-box;top: 0;bottom: 0;left: 50%;z-index: 0;}#sk-container-id-1 div.sk-serial {display: flex;flex-direction: column;align-items: center;background-color: white;padding-right: 0.2em;padding-left: 0.2em;position: relative;}#sk-container-id-1 div.sk-item {position: relative;z-index: 1;}#sk-container-id-1 div.sk-parallel {display: flex;align-items: stretch;justify-content: center;background-color: white;position: relative;}#sk-container-id-1 div.sk-item::before, #sk-container-id-1 div.sk-parallel-item::before {content: \"\";position: absolute;border-left: 1px solid gray;box-sizing: border-box;top: 0;bottom: 0;left: 50%;z-index: -1;}#sk-container-id-1 div.sk-parallel-item {display: flex;flex-direction: column;z-index: 1;position: relative;background-color: white;}#sk-container-id-1 div.sk-parallel-item:first-child::after {align-self: flex-end;width: 50%;}#sk-container-id-1 div.sk-parallel-item:last-child::after {align-self: flex-start;width: 50%;}#sk-container-id-1 div.sk-parallel-item:only-child::after {width: 0;}#sk-container-id-1 div.sk-dashed-wrapped {border: 1px dashed gray;margin: 0 0.4em 0.5em 0.4em;box-sizing: border-box;padding-bottom: 0.4em;background-color: white;}#sk-container-id-1 div.sk-label label {font-family: monospace;font-weight: bold;display: inline-block;line-height: 1.2em;}#sk-container-id-1 div.sk-label-container {text-align: center;}#sk-container-id-1 div.sk-container {/* jupyter's `normalize.less` sets `[hidden] { display: none; }` but bootstrap.min.css set `[hidden] { display: none !important; }` so we also need the `!important` here to be able to override the default hidden behavior on the sphinx rendered scikit-learn.org. See: https://github.com/scikit-learn/scikit-learn/issues/21755 */display: inline-block !important;position: relative;}#sk-container-id-1 div.sk-text-repr-fallback {display: none;}</style><div id=\"sk-container-id-1\" class=\"sk-top-container\"><div class=\"sk-text-repr-fallback\"><pre>LinearRegression()</pre><b>In a Jupyter environment, please rerun this cell to show the HTML representation or trust the notebook. <br />On GitHub, the HTML representation is unable to render, please try loading this page with nbviewer.org.</b></div><div class=\"sk-container\" hidden><div class=\"sk-item\"><div class=\"sk-estimator sk-toggleable\"><input class=\"sk-toggleable__control sk-hidden--visually\" id=\"sk-estimator-id-1\" type=\"checkbox\" checked><label for=\"sk-estimator-id-1\" class=\"sk-toggleable__label sk-toggleable__label-arrow\">LinearRegression</label><div class=\"sk-toggleable__content\"><pre>LinearRegression()</pre></div></div></div></div></div>"
      ],
      "text/plain": [
       "LinearRegression()"
      ]
     },
     "execution_count": 99,
     "metadata": {},
     "output_type": "execute_result"
    }
   ],
   "source": [
    "from sklearn.linear_model import LinearRegression\n",
    "\n",
    "lr   =     LinearRegression()\n",
    "\n",
    "lr.fit(x_train,y_train)         # training\n"
   ]
  },
  {
   "cell_type": "code",
   "execution_count": 108,
   "id": "bc310c1d",
   "metadata": {},
   "outputs": [
    {
     "data": {
      "text/plain": [
       "0.8010273251969532"
      ]
     },
     "execution_count": 108,
     "metadata": {},
     "output_type": "execute_result"
    }
   ],
   "source": [
    "lr.score(x_test,y_test)"
   ]
  },
  {
   "cell_type": "markdown",
   "id": "07b4255b",
   "metadata": {},
   "source": [
    "### Lasso"
   ]
  },
  {
   "cell_type": "code",
   "execution_count": 153,
   "id": "212ddf55",
   "metadata": {},
   "outputs": [
    {
     "data": {
      "text/plain": [
       "0.8006829111272524"
      ]
     },
     "execution_count": 153,
     "metadata": {},
     "output_type": "execute_result"
    }
   ],
   "source": [
    "from sklearn.linear_model import Lasso\n",
    "ls=Lasso()\n",
    "ls.fit(x_train,y_train)\n",
    "ls.score(x_test,y_test)"
   ]
  },
  {
   "cell_type": "markdown",
   "id": "24623827",
   "metadata": {},
   "source": [
    "### Ridge"
   ]
  },
  {
   "cell_type": "code",
   "execution_count": 154,
   "id": "77f2412a",
   "metadata": {},
   "outputs": [
    {
     "data": {
      "text/plain": [
       "0.8006829936667712"
      ]
     },
     "execution_count": 154,
     "metadata": {},
     "output_type": "execute_result"
    }
   ],
   "source": [
    "from sklearn.linear_model import Ridge\n",
    "rd=Ridge()\n",
    "rd.fit(x_train,y_train)\n",
    "rd.score(x_test,y_test)"
   ]
  },
  {
   "cell_type": "markdown",
   "id": "a2c9ed62",
   "metadata": {},
   "source": [
    "### DecisionTreeRegressor"
   ]
  },
  {
   "cell_type": "code",
   "execution_count": 111,
   "id": "00791746",
   "metadata": {},
   "outputs": [
    {
     "data": {
      "text/plain": [
       "0.9477594716827125"
      ]
     },
     "execution_count": 111,
     "metadata": {},
     "output_type": "execute_result"
    }
   ],
   "source": [
    "from sklearn.tree import DecisionTreeRegressor\n",
    "\n",
    "dtr=DecisionTreeRegressor()\n",
    "dtr.fit(x_train,y_train)\n",
    "dtr.score(x_test,y_test)"
   ]
  },
  {
   "cell_type": "code",
   "execution_count": 109,
   "id": "b28b0af4",
   "metadata": {},
   "outputs": [],
   "source": [
    "from sklearn import tree"
   ]
  },
  {
   "cell_type": "code",
   "execution_count": 112,
   "id": "faebd485",
   "metadata": {},
   "outputs": [
    {
     "data": {
      "text/plain": [
       "[Text(0.7903691465470253, 0.984375, 'X[3] <= 567.5\\nsquared_error = 7935507057.109\\nsamples = 26100\\nvalue = 68286.779'),\n",
       " Text(0.5964746713514546, 0.953125, 'X[3] <= 236.5\\nsquared_error = 1920318240.781\\nsamples = 25347\\nvalue = 55820.079'),\n",
       " Text(0.3279456604171668, 0.921875, 'X[2] <= 5.5\\nsquared_error = 616858530.642\\nsamples = 19987\\nvalue = 38880.889'),\n",
       " Text(0.07435898873838617, 0.890625, 'X[3] <= 142.0\\nsquared_error = 937272100.96\\nsamples = 4632\\nvalue = 65842.964'),\n",
       " Text(0.02051225843372298, 0.859375, 'X[4] <= 2.5\\nsquared_error = 1130840390.773\\nsamples = 1140\\nvalue = 41094.931'),\n",
       " Text(0.0007261525544401676, 0.828125, 'X[0] <= 575.0\\nsquared_error = 274224100.0\\nsamples = 10\\nvalue = 138930.0'),\n",
       " Text(0.0003630762772200838, 0.796875, 'X[2] <= 1.5\\nsquared_error = 169000000.0\\nsamples = 2\\nvalue = 165000.0'),\n",
       " Text(0.0001815381386100419, 0.765625, 'squared_error = 0.0\\nsamples = 1\\nvalue = 178000.0'),\n",
       " Text(0.0005446144158301257, 0.765625, 'squared_error = 0.0\\nsamples = 1\\nvalue = 152000.0'),\n",
       " Text(0.0010892288316602513, 0.796875, 'X[0] <= 7000.0\\nsquared_error = 88141093.75\\nsamples = 8\\nvalue = 132412.5'),\n",
       " Text(0.0009076906930502095, 0.765625, 'X[0] <= 1799.5\\nsquared_error = 27959183.673\\nsamples = 7\\nvalue = 135428.571'),\n",
       " Text(0.0005446144158301257, 0.734375, 'X[0] <= 1086.5\\nsquared_error = 8000000.0\\nsamples = 3\\nvalue = 131000.0'),\n",
       " Text(0.0003630762772200838, 0.703125, 'squared_error = 0.0\\nsamples = 1\\nvalue = 135000.0'),\n",
       " Text(0.0007261525544401676, 0.703125, 'squared_error = 0.0\\nsamples = 2\\nvalue = 129000.0'),\n",
       " Text(0.0012707669702702934, 0.734375, 'X[0] <= 3512.5\\nsquared_error = 17187500.0\\nsamples = 4\\nvalue = 138750.0'),\n",
       " Text(0.0010892288316602513, 0.703125, 'squared_error = 0.0\\nsamples = 1\\nvalue = 145000.0'),\n",
       " Text(0.0014523051088803352, 0.703125, 'X[0] <= 5500.0\\nsquared_error = 5555555.556\\nsamples = 3\\nvalue = 136666.667'),\n",
       " Text(0.0012707669702702934, 0.671875, 'squared_error = 0.0\\nsamples = 2\\nvalue = 135000.0'),\n",
       " Text(0.001633843247490377, 0.671875, 'squared_error = 0.0\\nsamples = 1\\nvalue = 140000.0'),\n",
       " Text(0.0012707669702702934, 0.765625, 'squared_error = 0.0\\nsamples = 1\\nvalue = 111300.0'),\n",
       " Text(0.04029836431300579, 0.828125, 'X[3] <= 103.5\\nsquared_error = 1052966144.663\\nsamples = 1130\\nvalue = 40229.134'),\n",
       " Text(0.021863822285508434, 0.796875, 'X[2] <= 4.5\\nsquared_error = 35902699.836\\nsamples = 830\\nvalue = 37921.866'),\n",
       " Text(0.009567272644755391, 0.765625, 'X[0] <= 5505.5\\nsquared_error = 23283198.393\\nsamples = 697\\nvalue = 39311.141'),\n",
       " Text(0.003664801173190221, 0.734375, 'X[4] <= 12.0\\nsquared_error = 57552530.509\\nsamples = 47\\nvalue = 49226.957'),\n",
       " Text(0.0021784576633205027, 0.703125, 'X[2] <= 3.5\\nsquared_error = 12049135.802\\nsamples = 9\\nvalue = 39344.444'),\n",
       " Text(0.001996919524710461, 0.671875, 'X[0] <= 4938.5\\nsquared_error = 7894843.75\\nsamples = 8\\nvalue = 40137.5'),\n",
       " Text(0.001815381386100419, 0.640625, 'X[4] <= 5.5\\nsquared_error = 7134722.222\\nsamples = 6\\nvalue = 39216.667'),\n",
       " Text(0.001633843247490377, 0.609375, 'X[2] <= 2.5\\nsquared_error = 2030400.0\\nsamples = 5\\nvalue = 40260.0'),\n",
       " Text(0.0012707669702702934, 0.578125, 'X[0] <= 2032.5\\nsquared_error = 388888.889\\nsamples = 3\\nvalue = 39166.667'),\n",
       " Text(0.0010892288316602513, 0.546875, 'squared_error = 0.0\\nsamples = 1\\nvalue = 40000.0'),\n",
       " Text(0.0014523051088803352, 0.546875, 'X[0] <= 3720.5\\nsquared_error = 62500.0\\nsamples = 2\\nvalue = 38750.0'),\n",
       " Text(0.0012707669702702934, 0.515625, 'squared_error = 0.0\\nsamples = 1\\nvalue = 39000.0'),\n",
       " Text(0.001633843247490377, 0.515625, 'squared_error = 0.0\\nsamples = 1\\nvalue = 38500.0'),\n",
       " Text(0.001996919524710461, 0.578125, 'X[0] <= 2530.0\\nsquared_error = 10000.0\\nsamples = 2\\nvalue = 41900.0'),\n",
       " Text(0.001815381386100419, 0.546875, 'squared_error = 0.0\\nsamples = 1\\nvalue = 42000.0'),\n",
       " Text(0.0021784576633205027, 0.546875, 'squared_error = 0.0\\nsamples = 1\\nvalue = 41800.0'),\n",
       " Text(0.001996919524710461, 0.609375, 'squared_error = 0.0\\nsamples = 1\\nvalue = 34000.0'),\n",
       " Text(0.0021784576633205027, 0.640625, 'squared_error = 0.0\\nsamples = 2\\nvalue = 42900.0'),\n",
       " Text(0.0023599958019305447, 0.671875, 'squared_error = 0.0\\nsamples = 1\\nvalue = 33000.0'),\n",
       " Text(0.005151144683059939, 0.703125, 'X[0] <= 4477.5\\nsquared_error = 39720302.142\\nsamples = 38\\nvalue = 51567.553'),\n",
       " Text(0.0039030699801159007, 0.671875, 'X[2] <= 2.5\\nsquared_error = 31517633.136\\nsamples = 26\\nvalue = 53792.308'),\n",
       " Text(0.003267686494980754, 0.640625, 'X[0] <= 2700.0\\nsquared_error = 16894556.213\\nsamples = 13\\nvalue = 57507.692'),\n",
       " Text(0.0029046102177606704, 0.609375, 'X[0] <= 2454.5\\nsquared_error = 11984375.0\\nsamples = 8\\nvalue = 59375.0'),\n",
       " Text(0.0027230720791506283, 0.578125, 'X[0] <= 2093.0\\nsquared_error = 8530612.245\\nsamples = 7\\nvalue = 58571.429'),\n",
       " Text(0.0025415339405405867, 0.546875, 'X[0] <= 1772.5\\nsquared_error = 4800000.0\\nsamples = 5\\nvalue = 60000.0'),\n",
       " Text(0.0023599958019305447, 0.515625, 'squared_error = 0.0\\nsamples = 1\\nvalue = 56000.0'),\n",
       " Text(0.0027230720791506283, 0.515625, 'X[0] <= 1838.5\\nsquared_error = 1000000.0\\nsamples = 4\\nvalue = 61000.0'),\n",
       " Text(0.0025415339405405867, 0.484375, 'squared_error = 0.0\\nsamples = 2\\nvalue = 62000.0'),\n",
       " Text(0.0029046102177606704, 0.484375, 'squared_error = 0.0\\nsamples = 2\\nvalue = 60000.0'),\n",
       " Text(0.0029046102177606704, 0.546875, 'squared_error = 0.0\\nsamples = 2\\nvalue = 55000.0'),\n",
       " Text(0.0030861483563707124, 0.578125, 'squared_error = 0.0\\nsamples = 1\\nvalue = 65000.0'),\n",
       " Text(0.003630762772200838, 0.609375, 'X[0] <= 3400.0\\nsquared_error = 10245600.0\\nsamples = 5\\nvalue = 54520.0'),\n",
       " Text(0.003449224633590796, 0.578125, 'squared_error = 0.0\\nsamples = 2\\nvalue = 51300.0'),\n",
       " Text(0.0038123009108108796, 0.578125, 'X[0] <= 4097.5\\nsquared_error = 5555555.556\\nsamples = 3\\nvalue = 56666.667'),\n",
       " Text(0.003630762772200838, 0.546875, 'squared_error = 0.0\\nsamples = 1\\nvalue = 60000.0'),\n",
       " Text(0.003993839049420922, 0.546875, 'squared_error = 0.0\\nsamples = 2\\nvalue = 55000.0'),\n",
       " Text(0.004538453465251047, 0.640625, 'X[0] <= 2398.5\\nsquared_error = 18532544.379\\nsamples = 13\\nvalue = 50076.923'),\n",
       " Text(0.004356915326641005, 0.609375, 'squared_error = 0.0\\nsamples = 4\\nvalue = 45000.0'),\n",
       " Text(0.004719991603861089, 0.609375, 'X[0] <= 4381.0\\nsquared_error = 10222222.222\\nsamples = 9\\nvalue = 52333.333'),\n",
       " Text(0.004538453465251047, 0.578125, 'X[0] <= 3875.5\\nsquared_error = 8204081.633\\nsamples = 7\\nvalue = 51285.714'),\n",
       " Text(0.004356915326641005, 0.546875, 'X[0] <= 3350.0\\nsquared_error = 1888888.889\\nsamples = 6\\nvalue = 52333.333'),\n",
       " Text(0.004175377188030963, 0.515625, 'X[0] <= 3250.0\\nsquared_error = 960000.0\\nsamples = 5\\nvalue = 52800.0'),\n",
       " Text(0.003993839049420922, 0.484375, 'squared_error = 0.0\\nsamples = 3\\nvalue = 52000.0'),\n",
       " Text(0.004356915326641005, 0.484375, 'squared_error = 0.0\\nsamples = 2\\nvalue = 54000.0'),\n",
       " Text(0.004538453465251047, 0.515625, 'squared_error = 0.0\\nsamples = 1\\nvalue = 50000.0'),\n",
       " Text(0.004719991603861089, 0.546875, 'squared_error = 0.0\\nsamples = 1\\nvalue = 45000.0'),\n",
       " Text(0.004901529742471131, 0.578125, 'squared_error = 0.0\\nsamples = 2\\nvalue = 56000.0'),\n",
       " Text(0.0063992193860039764, 0.671875, 'X[2] <= 3.5\\nsquared_error = 23533441.521\\nsamples = 12\\nvalue = 46747.25'),\n",
       " Text(0.005899989504826362, 0.640625, 'X[2] <= 2.5\\nsquared_error = 15639130.01\\nsamples = 10\\nvalue = 47716.7'),\n",
       " Text(0.005446144158301257, 0.609375, 'X[0] <= 5474.0\\nsquared_error = 14880729.188\\nsamples = 4\\nvalue = 44041.75'),\n",
       " Text(0.005264606019691215, 0.578125, 'X[0] <= 5056.0\\nsquared_error = 11007197.556\\nsamples = 3\\nvalue = 42555.667'),\n",
       " Text(0.0050830678810811734, 0.546875, 'X[0] <= 4604.0\\nsquared_error = 9507972.25\\nsamples = 2\\nvalue = 44083.5'),\n",
       " Text(0.004901529742471131, 0.515625, 'squared_error = 0.0\\nsamples = 1\\nvalue = 41000.0'),\n",
       " Text(0.005264606019691215, 0.515625, 'squared_error = 0.0\\nsamples = 1\\nvalue = 47167.0'),\n",
       " Text(0.005446144158301257, 0.546875, 'squared_error = 0.0\\nsamples = 1\\nvalue = 39500.0'),\n",
       " Text(0.005627682296911299, 0.578125, 'squared_error = 0.0\\nsamples = 1\\nvalue = 48500.0'),\n",
       " Text(0.006353834851351466, 0.609375, 'X[0] <= 5294.5\\nsquared_error = 1138888.889\\nsamples = 6\\nvalue = 50166.667'),\n",
       " Text(0.005990758574131383, 0.578125, 'X[0] <= 4865.0\\nsquared_error = 250000.0\\nsamples = 2\\nvalue = 51500.0'),\n",
       " Text(0.005809220435521341, 0.546875, 'squared_error = 0.0\\nsamples = 1\\nvalue = 52000.0'),\n",
       " Text(0.006172296712741425, 0.546875, 'squared_error = 0.0\\nsamples = 1\\nvalue = 51000.0'),\n",
       " Text(0.00671691112857155, 0.578125, 'X[0] <= 5484.5\\nsquared_error = 250000.0\\nsamples = 4\\nvalue = 49500.0'),\n",
       " Text(0.006535372989961508, 0.546875, 'squared_error = 0.0\\nsamples = 2\\nvalue = 49000.0'),\n",
       " Text(0.006898449267181592, 0.546875, 'squared_error = 0.0\\nsamples = 2\\nvalue = 50000.0'),\n",
       " Text(0.006898449267181592, 0.640625, 'X[0] <= 5061.5\\nsquared_error = 34810000.0\\nsamples = 2\\nvalue = 41900.0'),\n",
       " Text(0.00671691112857155, 0.609375, 'squared_error = 0.0\\nsamples = 1\\nvalue = 47800.0'),\n",
       " Text(0.007079987405791634, 0.609375, 'squared_error = 0.0\\nsamples = 1\\nvalue = 36000.0'),\n",
       " Text(0.015469744116320563, 0.734375, 'X[4] <= 12.0\\nsquared_error = 13181647.783\\nsamples = 650\\nvalue = 38594.151'),\n",
       " Text(0.010551904306708685, 0.703125, 'X[0] <= 15894.5\\nsquared_error = 31520899.326\\nsamples = 66\\nvalue = 33080.288'),\n",
       " Text(0.008214600772104395, 0.671875, 'X[0] <= 6154.5\\nsquared_error = 33134657.46\\nsamples = 44\\nvalue = 34427.25'),\n",
       " Text(0.008033062633494355, 0.640625, 'squared_error = 0.0\\nsamples = 1\\nvalue = 24000.0'),\n",
       " Text(0.008396138910714437, 0.640625, 'X[0] <= 6261.0\\nsquared_error = 31317879.958\\nsamples = 43\\nvalue = 34669.744'),\n",
       " Text(0.008214600772104395, 0.609375, 'squared_error = 0.0\\nsamples = 1\\nvalue = 46000.0'),\n",
       " Text(0.008577677049324479, 0.609375, 'X[0] <= 6420.5\\nsquared_error = 28934228.595\\nsamples = 42\\nvalue = 34399.976'),\n",
       " Text(0.008396138910714437, 0.578125, 'squared_error = 0.0\\nsamples = 1\\nvalue = 24000.0'),\n",
       " Text(0.008759215187934521, 0.578125, 'X[0] <= 12204.5\\nsquared_error = 26937562.427\\nsamples = 41\\nvalue = 34653.634'),\n",
       " Text(0.007261525544401676, 0.546875, 'X[0] <= 8625.0\\nsquared_error = 21124275.0\\nsamples = 20\\nvalue = 36265.0'),\n",
       " Text(0.00671691112857155, 0.515625, 'X[0] <= 8149.0\\nsquared_error = 3200000.0\\nsamples = 5\\nvalue = 33000.0'),\n",
       " Text(0.006535372989961508, 0.484375, 'X[2] <= 3.5\\nsquared_error = 1187500.0\\nsamples = 4\\nvalue = 33750.0'),\n",
       " Text(0.006353834851351466, 0.453125, 'X[4] <= 5.5\\nsquared_error = 222222.222\\nsamples = 3\\nvalue = 34333.333'),\n",
       " Text(0.006172296712741425, 0.421875, 'squared_error = 0.0\\nsamples = 1\\nvalue = 35000.0'),\n",
       " Text(0.006535372989961508, 0.421875, 'squared_error = 0.0\\nsamples = 2\\nvalue = 34000.0'),\n",
       " Text(0.00671691112857155, 0.453125, 'squared_error = 0.0\\nsamples = 1\\nvalue = 32000.0'),\n",
       " Text(0.006898449267181592, 0.484375, 'squared_error = 0.0\\nsamples = 1\\nvalue = 30000.0'),\n",
       " Text(0.007806139960231801, 0.515625, 'X[0] <= 10670.5\\nsquared_error = 22361155.556\\nsamples = 15\\nvalue = 37353.333'),\n",
       " Text(0.007261525544401676, 0.484375, 'X[0] <= 10340.5\\nsquared_error = 27079166.667\\nsamples = 6\\nvalue = 40050.0'),\n",
       " Text(0.007079987405791634, 0.453125, 'X[0] <= 9330.0\\nsquared_error = 21560000.0\\nsamples = 5\\nvalue = 38700.0'),\n",
       " Text(0.006898449267181592, 0.421875, 'squared_error = 0.0\\nsamples = 1\\nvalue = 45500.0'),\n",
       " Text(0.007261525544401676, 0.421875, 'X[2] <= 3.5\\nsquared_error = 12500000.0\\nsamples = 4\\nvalue = 37000.0'),\n",
       " Text(0.007079987405791634, 0.390625, 'squared_error = 0.0\\nsamples = 1\\nvalue = 34000.0'),\n",
       " Text(0.007443063683011718, 0.390625, 'X[0] <= 10080.0\\nsquared_error = 12666666.667\\nsamples = 3\\nvalue = 38000.0'),\n",
       " Text(0.007261525544401676, 0.359375, 'squared_error = 0.0\\nsamples = 1\\nvalue = 43000.0'),\n",
       " Text(0.007624601821621759, 0.359375, 'X[0] <= 10170.5\\nsquared_error = 250000.0\\nsamples = 2\\nvalue = 35500.0'),\n",
       " Text(0.007443063683011718, 0.328125, 'squared_error = 0.0\\nsamples = 1\\nvalue = 36000.0'),\n",
       " Text(0.007806139960231801, 0.328125, 'squared_error = 0.0\\nsamples = 1\\nvalue = 35000.0'),\n",
       " Text(0.007443063683011718, 0.453125, 'squared_error = 0.0\\nsamples = 1\\nvalue = 46800.0'),\n",
       " Text(0.008350754376061927, 0.484375, 'X[2] <= 3.5\\nsquared_error = 11135802.469\\nsamples = 9\\nvalue = 35555.556'),\n",
       " Text(0.008169216237451885, 0.453125, 'X[0] <= 12096.5\\nsquared_error = 8187500.0\\nsamples = 8\\nvalue = 36250.0'),\n",
       " Text(0.007987678098841844, 0.421875, 'X[2] <= 2.5\\nsquared_error = 7555555.556\\nsamples = 6\\nvalue = 35333.333'),\n",
       " Text(0.007806139960231801, 0.390625, 'squared_error = 0.0\\nsamples = 2\\nvalue = 32000.0'),\n",
       " Text(0.008169216237451885, 0.390625, 'X[0] <= 10944.0\\nsquared_error = 3000000.0\\nsamples = 4\\nvalue = 37000.0'),\n",
       " Text(0.007987678098841844, 0.359375, 'squared_error = 0.0\\nsamples = 1\\nvalue = 34000.0'),\n",
       " Text(0.008350754376061927, 0.359375, 'squared_error = 0.0\\nsamples = 3\\nvalue = 38000.0'),\n",
       " Text(0.008350754376061927, 0.421875, 'squared_error = 0.0\\nsamples = 2\\nvalue = 39000.0'),\n",
       " Text(0.008532292514671969, 0.453125, 'squared_error = 0.0\\nsamples = 1\\nvalue = 30000.0'),\n",
       " Text(0.010256904831467368, 0.546875, 'X[0] <= 14467.5\\nsquared_error = 27646067.619\\nsamples = 21\\nvalue = 33119.0'),\n",
       " Text(0.009349214138417158, 0.515625, 'X[2] <= 2.5\\nsquared_error = 27728395.062\\nsamples = 9\\nvalue = 30777.778'),\n",
       " Text(0.009167675999807116, 0.484375, 'squared_error = 0.0\\nsamples = 1\\nvalue = 38000.0'),\n",
       " Text(0.0095307522770272, 0.484375, 'X[0] <= 13333.0\\nsquared_error = 23859375.0\\nsamples = 8\\nvalue = 29875.0'),\n",
       " Text(0.009076906930502095, 0.453125, 'X[2] <= 3.5\\nsquared_error = 19187500.0\\nsamples = 4\\nvalue = 31750.0'),\n",
       " Text(0.00871383065328201, 0.421875, 'X[0] <= 13081.0\\nsquared_error = 6250000.0\\nsamples = 2\\nvalue = 35500.0'),\n",
       " Text(0.008532292514671969, 0.390625, 'squared_error = 0.0\\nsamples = 1\\nvalue = 33000.0'),\n",
       " Text(0.008895368791892053, 0.390625, 'squared_error = 0.0\\nsamples = 1\\nvalue = 38000.0'),\n",
       " Text(0.009439983207722179, 0.421875, 'X[0] <= 12456.0\\nsquared_error = 4000000.0\\nsamples = 2\\nvalue = 28000.0'),\n",
       " Text(0.009258445069112137, 0.390625, 'squared_error = 0.0\\nsamples = 1\\nvalue = 26000.0'),\n",
       " Text(0.00962152134633222, 0.390625, 'squared_error = 0.0\\nsamples = 1\\nvalue = 30000.0'),\n",
       " Text(0.009984597623552305, 0.453125, 'X[0] <= 13748.0\\nsquared_error = 21500000.0\\nsamples = 4\\nvalue = 28000.0'),\n",
       " Text(0.009803059484942263, 0.421875, 'squared_error = 0.0\\nsamples = 1\\nvalue = 22000.0'),\n",
       " Text(0.010166135762162347, 0.421875, 'X[0] <= 14218.5\\nsquared_error = 12666666.667\\nsamples = 3\\nvalue = 30000.0'),\n",
       " Text(0.009984597623552305, 0.390625, 'X[2] <= 3.5\\nsquared_error = 250000.0\\nsamples = 2\\nvalue = 32500.0'),\n",
       " Text(0.009803059484942263, 0.359375, 'squared_error = 0.0\\nsamples = 1\\nvalue = 32000.0'),\n",
       " Text(0.010166135762162347, 0.359375, 'squared_error = 0.0\\nsamples = 1\\nvalue = 33000.0'),\n",
       " Text(0.010347673900772389, 0.390625, 'squared_error = 0.0\\nsamples = 1\\nvalue = 25000.0'),\n",
       " Text(0.011164595524517576, 0.515625, 'X[0] <= 15029.5\\nsquared_error = 20390087.576\\nsamples = 12\\nvalue = 34874.917'),\n",
       " Text(0.01052921203938243, 0.484375, 'X[0] <= 14808.0\\nsquared_error = 6208933.556\\nsamples = 3\\nvalue = 38999.667'),\n",
       " Text(0.010347673900772389, 0.453125, 'squared_error = 0.0\\nsamples = 1\\nvalue = 35599.0'),\n",
       " Text(0.010710750177992471, 0.453125, 'X[4] <= 5.5\\nsquared_error = 640000.0\\nsamples = 2\\nvalue = 40700.0'),\n",
       " Text(0.01052921203938243, 0.421875, 'squared_error = 0.0\\nsamples = 1\\nvalue = 41500.0'),\n",
       " Text(0.010892288316602513, 0.421875, 'squared_error = 0.0\\nsamples = 1\\nvalue = 39900.0'),\n",
       " Text(0.011799979009652723, 0.484375, 'X[0] <= 15376.0\\nsquared_error = 17555555.556\\nsamples = 9\\nvalue = 33500.0'),\n",
       " Text(0.01143690273243264, 0.453125, 'X[0] <= 15248.0\\nsquared_error = 2800000.0\\nsamples = 5\\nvalue = 31000.0'),\n",
       " Text(0.011255364593822597, 0.421875, 'X[0] <= 15093.0\\nsquared_error = 2250000.0\\nsamples = 4\\nvalue = 31500.0'),\n",
       " Text(0.011073826455212555, 0.390625, 'squared_error = 0.0\\nsamples = 2\\nvalue = 30000.0'),\n",
       " Text(0.01143690273243264, 0.390625, 'squared_error = 0.0\\nsamples = 2\\nvalue = 33000.0'),\n",
       " Text(0.011618440871042681, 0.421875, 'squared_error = 0.0\\nsamples = 1\\nvalue = 29000.0'),\n",
       " Text(0.012163055286872808, 0.453125, 'X[0] <= 15799.0\\nsquared_error = 18421875.0\\nsamples = 4\\nvalue = 36625.0'),\n",
       " Text(0.011981517148262765, 0.421875, 'X[2] <= 3.0\\nsquared_error = 16055555.556\\nsamples = 3\\nvalue = 35166.667'),\n",
       " Text(0.011799979009652723, 0.390625, 'squared_error = 0.0\\nsamples = 2\\nvalue = 38000.0'),\n",
       " Text(0.012163055286872808, 0.390625, 'squared_error = 0.0\\nsamples = 1\\nvalue = 29500.0'),\n",
       " Text(0.01234459342548285, 0.421875, 'squared_error = 0.0\\nsamples = 1\\nvalue = 41000.0'),\n",
       " Text(0.012889207841312974, 0.671875, 'X[2] <= 3.5\\nsquared_error = 17407541.322\\nsamples = 22\\nvalue = 30386.364'),\n",
       " Text(0.011890748078957744, 0.640625, 'X[0] <= 18167.5\\nsquared_error = 11000000.0\\nsamples = 8\\nvalue = 33500.0'),\n",
       " Text(0.01152767180173766, 0.609375, 'X[0] <= 17657.5\\nsquared_error = 250000.0\\nsamples = 2\\nvalue = 36500.0'),\n",
       " Text(0.011346133663127618, 0.578125, 'squared_error = 0.0\\nsamples = 1\\nvalue = 36000.0'),\n",
       " Text(0.011709209940347702, 0.578125, 'squared_error = 0.0\\nsamples = 1\\nvalue = 37000.0'),\n",
       " Text(0.012253824356177829, 0.609375, 'X[0] <= 50795.0\\nsquared_error = 10583333.333\\nsamples = 6\\nvalue = 32500.0'),\n",
       " Text(0.012072286217567786, 0.578125, 'X[0] <= 20961.5\\nsquared_error = 5440000.0\\nsamples = 5\\nvalue = 31400.0'),\n",
       " Text(0.011709209940347702, 0.546875, 'X[0] <= 19240.0\\nsquared_error = 1000000.0\\nsamples = 2\\nvalue = 33000.0'),\n",
       " Text(0.01152767180173766, 0.515625, 'squared_error = 0.0\\nsamples = 1\\nvalue = 34000.0'),\n",
       " Text(0.011890748078957744, 0.515625, 'squared_error = 0.0\\nsamples = 1\\nvalue = 32000.0'),\n",
       " Text(0.01243536249478787, 0.546875, 'X[0] <= 22557.5\\nsquared_error = 5555555.556\\nsamples = 3\\nvalue = 30333.333'),\n",
       " Text(0.012253824356177829, 0.515625, 'squared_error = 0.0\\nsamples = 1\\nvalue = 27000.0'),\n",
       " Text(0.012616900633397913, 0.515625, 'squared_error = 0.0\\nsamples = 2\\nvalue = 32000.0'),\n",
       " Text(0.01243536249478787, 0.578125, 'squared_error = 0.0\\nsamples = 1\\nvalue = 38000.0'),\n",
       " Text(0.013887667603668205, 0.640625, 'X[4] <= 5.5\\nsquared_error = 12363520.408\\nsamples = 14\\nvalue = 28607.143'),\n",
       " Text(0.013706129465058163, 0.609375, 'X[0] <= 28120.5\\nsquared_error = 11219008.264\\nsamples = 11\\nvalue = 29590.909'),\n",
       " Text(0.013343053187838079, 0.578125, 'X[0] <= 25417.0\\nsquared_error = 1704081.633\\nsamples = 7\\nvalue = 31785.714'),\n",
       " Text(0.013161515049228037, 0.546875, 'X[0] <= 16436.5\\nsquared_error = 555555.556\\nsamples = 6\\nvalue = 31333.333'),\n",
       " Text(0.012979976910617995, 0.515625, 'squared_error = 0.0\\nsamples = 1\\nvalue = 32000.0'),\n",
       " Text(0.013343053187838079, 0.515625, 'X[0] <= 19942.0\\nsquared_error = 560000.0\\nsamples = 5\\nvalue = 31200.0'),\n",
       " Text(0.013161515049228037, 0.484375, 'squared_error = 0.0\\nsamples = 1\\nvalue = 30000.0'),\n",
       " Text(0.013524591326448121, 0.484375, 'X[0] <= 23009.5\\nsquared_error = 250000.0\\nsamples = 4\\nvalue = 31500.0'),\n",
       " Text(0.013343053187838079, 0.453125, 'squared_error = 0.0\\nsamples = 2\\nvalue = 32000.0'),\n",
       " Text(0.013706129465058163, 0.453125, 'squared_error = 0.0\\nsamples = 2\\nvalue = 31000.0'),\n",
       " Text(0.013524591326448121, 0.546875, 'squared_error = 0.0\\nsamples = 1\\nvalue = 34500.0'),\n",
       " Text(0.014069205742278247, 0.578125, 'X[1] <= 1.5\\nsquared_error = 4687500.0\\nsamples = 4\\nvalue = 25750.0'),\n",
       " Text(0.013887667603668205, 0.546875, 'squared_error = 0.0\\nsamples = 3\\nvalue = 27000.0'),\n",
       " Text(0.01425074388088829, 0.546875, 'squared_error = 0.0\\nsamples = 1\\nvalue = 22000.0'),\n",
       " Text(0.014069205742278247, 0.609375, 'squared_error = 0.0\\nsamples = 3\\nvalue = 25000.0'),\n",
       " Text(0.02038758392593244, 0.703125, 'X[2] <= 3.5\\nsquared_error = 7284835.371\\nsamples = 584\\nvalue = 39217.293'),\n",
       " Text(0.017643237846163447, 0.671875, 'X[0] <= 21922.5\\nsquared_error = 24505361.421\\nsamples = 38\\nvalue = 43356.0'),\n",
       " Text(0.016860354623407642, 0.640625, 'X[0] <= 16292.0\\nsquared_error = 22076436.56\\nsamples = 35\\nvalue = 42900.8'),\n",
       " Text(0.015839202593726155, 0.609375, 'X[0] <= 11912.0\\nsquared_error = 18249202.643\\nsamples = 28\\nvalue = 43751.0'),\n",
       " Text(0.014886127366023436, 0.578125, 'X[0] <= 11792.0\\nsquared_error = 14579973.702\\nsamples = 17\\nvalue = 42642.941'),\n",
       " Text(0.014704589227413394, 0.546875, 'X[0] <= 5855.5\\nsquared_error = 12103068.359\\nsamples = 16\\nvalue = 43089.375'),\n",
       " Text(0.014523051088803352, 0.515625, 'squared_error = 0.0\\nsamples = 1\\nvalue = 38000.0'),\n",
       " Text(0.014886127366023436, 0.515625, 'X[0] <= 8662.0\\nsquared_error = 11068038.222\\nsamples = 15\\nvalue = 43428.667'),\n",
       " Text(0.01425074388088829, 0.484375, 'X[0] <= 6478.0\\nsquared_error = 2187500.0\\nsamples = 4\\nvalue = 45750.0'),\n",
       " Text(0.014069205742278247, 0.453125, 'squared_error = 0.0\\nsamples = 1\\nvalue = 44000.0'),\n",
       " Text(0.014432282019498331, 0.453125, 'X[0] <= 8162.0\\nsquared_error = 1555555.556\\nsamples = 3\\nvalue = 46333.333'),\n",
       " Text(0.01425074388088829, 0.421875, 'X[0] <= 7378.0\\nsquared_error = 1000000.0\\nsamples = 2\\nvalue = 47000.0'),\n",
       " Text(0.014069205742278247, 0.390625, 'squared_error = 0.0\\nsamples = 1\\nvalue = 46000.0'),\n",
       " Text(0.014432282019498331, 0.390625, 'squared_error = 0.0\\nsamples = 1\\nvalue = 48000.0'),\n",
       " Text(0.014613820158108373, 0.421875, 'squared_error = 0.0\\nsamples = 1\\nvalue = 45000.0'),\n",
       " Text(0.015521510851158582, 0.484375, 'X[0] <= 11692.0\\nsquared_error = 11625297.521\\nsamples = 11\\nvalue = 42584.545'),\n",
       " Text(0.01533997271254854, 0.453125, 'X[0] <= 10598.5\\nsquared_error = 11504641.0\\nsamples = 10\\nvalue = 42243.0'),\n",
       " Text(0.014976896435328456, 0.421875, 'X[0] <= 9950.0\\nsquared_error = 6940160.938\\nsamples = 8\\nvalue = 43178.75'),\n",
       " Text(0.014795358296718415, 0.390625, 'X[0] <= 9082.0\\nsquared_error = 680680.556\\nsamples = 6\\nvalue = 41771.667'),\n",
       " Text(0.014613820158108373, 0.359375, 'squared_error = 0.0\\nsamples = 1\\nvalue = 40000.0'),\n",
       " Text(0.014976896435328456, 0.359375, 'X[0] <= 9858.5\\nsquared_error = 63504.0\\nsamples = 5\\nvalue = 42126.0'),\n",
       " Text(0.014795358296718415, 0.328125, 'squared_error = 0.0\\nsamples = 4\\nvalue = 42000.0'),\n",
       " Text(0.015158434573938498, 0.328125, 'squared_error = 0.0\\nsamples = 1\\nvalue = 42630.0'),\n",
       " Text(0.015158434573938498, 0.390625, 'squared_error = 1960000.0\\nsamples = 2\\nvalue = 47400.0'),\n",
       " Text(0.015703048989768625, 0.421875, 'X[0] <= 11410.5\\nsquared_error = 12250000.0\\nsamples = 2\\nvalue = 38500.0'),\n",
       " Text(0.015521510851158582, 0.390625, 'squared_error = 0.0\\nsamples = 1\\nvalue = 35000.0'),\n",
       " Text(0.015884587128378667, 0.390625, 'squared_error = 0.0\\nsamples = 1\\nvalue = 42000.0'),\n",
       " Text(0.015703048989768625, 0.453125, 'squared_error = 0.0\\nsamples = 1\\nvalue = 46000.0'),\n",
       " Text(0.015067665504633477, 0.546875, 'squared_error = 0.0\\nsamples = 1\\nvalue = 35500.0'),\n",
       " Text(0.016792277821428874, 0.578125, 'X[0] <= 13402.0\\nsquared_error = 19089828.248\\nsamples = 11\\nvalue = 45463.455'),\n",
       " Text(0.01642920154420879, 0.546875, 'X[0] <= 12822.5\\nsquared_error = 16368055.556\\nsamples = 6\\nvalue = 47416.667'),\n",
       " Text(0.016247663405598748, 0.515625, 'X[0] <= 12034.0\\nsquared_error = 8796875.0\\nsamples = 4\\nvalue = 45125.0'),\n",
       " Text(0.01606612526698871, 0.484375, 'squared_error = 0.0\\nsamples = 1\\nvalue = 50000.0'),\n",
       " Text(0.01642920154420879, 0.484375, 'X[0] <= 12470.5\\nsquared_error = 1166666.667\\nsamples = 3\\nvalue = 43500.0'),\n",
       " Text(0.016247663405598748, 0.453125, 'X[0] <= 12182.0\\nsquared_error = 62500.0\\nsamples = 2\\nvalue = 42750.0'),\n",
       " Text(0.01606612526698871, 0.421875, 'squared_error = 0.0\\nsamples = 1\\nvalue = 42500.0'),\n",
       " Text(0.01642920154420879, 0.421875, 'squared_error = 0.0\\nsamples = 1\\nvalue = 43000.0'),\n",
       " Text(0.016610739682818832, 0.453125, 'squared_error = 0.0\\nsamples = 1\\nvalue = 45000.0'),\n",
       " Text(0.016610739682818832, 0.515625, 'squared_error = 0.0\\nsamples = 2\\nvalue = 52000.0'),\n",
       " Text(0.017155354098648958, 0.546875, 'X[0] <= 15650.0\\nsquared_error = 12284256.24\\nsamples = 5\\nvalue = 43119.6'),\n",
       " Text(0.016973815960038916, 0.515625, 'X[0] <= 13975.5\\nsquared_error = 4549350.25\\nsamples = 4\\nvalue = 41649.5'),\n",
       " Text(0.016792277821428874, 0.484375, 'squared_error = 0.0\\nsamples = 1\\nvalue = 45000.0'),\n",
       " Text(0.017155354098648958, 0.484375, 'X[0] <= 14824.0\\nsquared_error = 1076533.556\\nsamples = 3\\nvalue = 40532.667'),\n",
       " Text(0.016973815960038916, 0.453125, 'squared_error = 0.0\\nsamples = 2\\nvalue = 39799.0'),\n",
       " Text(0.017336892237259, 0.453125, 'squared_error = 0.0\\nsamples = 1\\nvalue = 42000.0'),\n",
       " Text(0.017336892237259, 0.515625, 'squared_error = 0.0\\nsamples = 1\\nvalue = 49000.0'),\n",
       " Text(0.017881506653089126, 0.609375, 'X[0] <= 16866.0\\nsquared_error = 22928571.429\\nsamples = 7\\nvalue = 39500.0'),\n",
       " Text(0.017699968514479084, 0.578125, 'squared_error = 0.0\\nsamples = 1\\nvalue = 35000.0'),\n",
       " Text(0.01806304479169917, 0.578125, 'X[0] <= 19753.0\\nsquared_error = 22812500.0\\nsamples = 6\\nvalue = 40250.0'),\n",
       " Text(0.017881506653089126, 0.546875, 'X[0] <= 17350.0\\nsquared_error = 20760000.0\\nsamples = 5\\nvalue = 41300.0'),\n",
       " Text(0.017699968514479084, 0.515625, 'squared_error = 0.0\\nsamples = 1\\nvalue = 45000.0'),\n",
       " Text(0.01806304479169917, 0.515625, 'X[0] <= 18439.5\\nsquared_error = 21671875.0\\nsamples = 4\\nvalue = 40375.0'),\n",
       " Text(0.017881506653089126, 0.484375, 'X[0] <= 18151.5\\nsquared_error = 19388888.889\\nsamples = 3\\nvalue = 38833.333'),\n",
       " Text(0.017699968514479084, 0.453125, 'X[0] <= 17700.0\\nsquared_error = 18062500.0\\nsamples = 2\\nvalue = 40750.0'),\n",
       " Text(0.017518430375869042, 0.421875, 'squared_error = 0.0\\nsamples = 1\\nvalue = 36500.0'),\n",
       " Text(0.017881506653089126, 0.421875, 'squared_error = 0.0\\nsamples = 1\\nvalue = 45000.0'),\n",
       " Text(0.01806304479169917, 0.453125, 'squared_error = 0.0\\nsamples = 1\\nvalue = 35000.0'),\n",
       " Text(0.01824458293030921, 0.484375, 'squared_error = 0.0\\nsamples = 1\\nvalue = 45000.0'),\n",
       " Text(0.01824458293030921, 0.546875, 'squared_error = 0.0\\nsamples = 1\\nvalue = 35000.0'),\n",
       " Text(0.018426121068919252, 0.640625, 'X[0] <= 22957.5\\nsquared_error = 22222222.222\\nsamples = 3\\nvalue = 48666.667'),\n",
       " Text(0.01824458293030921, 0.609375, 'squared_error = 0.0\\nsamples = 2\\nvalue = 52000.0'),\n",
       " Text(0.018607659207529294, 0.609375, 'squared_error = 0.0\\nsamples = 1\\nvalue = 42000.0'),\n",
       " Text(0.02313193000570143, 0.671875, 'X[0] <= 22552.5\\nsquared_error = 4811248.038\\nsamples = 546\\nvalue = 38929.251'),\n",
       " Text(0.020190444853535598, 0.640625, 'X[0] <= 9089.0\\nsquared_error = 4175619.228\\nsamples = 529\\nvalue = 39031.467'),\n",
       " Text(0.01897073548474938, 0.609375, 'X[0] <= 7517.0\\nsquared_error = 13388888.889\\nsamples = 3\\nvalue = 44833.333'),\n",
       " Text(0.018789197346139336, 0.578125, 'squared_error = 0.0\\nsamples = 1\\nvalue = 42000.0'),\n",
       " Text(0.01915227362335942, 0.578125, 'X[0] <= 8409.5\\nsquared_error = 14062500.0\\nsamples = 2\\nvalue = 46250.0'),\n",
       " Text(0.01897073548474938, 0.546875, 'squared_error = 0.0\\nsamples = 1\\nvalue = 50000.0'),\n",
       " Text(0.019333811761969463, 0.546875, 'squared_error = 0.0\\nsamples = 1\\nvalue = 42500.0'),\n",
       " Text(0.021410154222321814, 0.609375, 'X[0] <= 14748.0\\nsquared_error = 3929990.463\\nsamples = 526\\nvalue = 38998.376'),\n",
       " Text(0.02005996431640963, 0.578125, 'X[0] <= 13329.0\\nsquared_error = 12705159.248\\nsamples = 20\\nvalue = 35971.95'),\n",
       " Text(0.019696888039189547, 0.546875, 'X[0] <= 9775.0\\nsquared_error = 12442248.941\\nsamples = 18\\nvalue = 36379.944'),\n",
       " Text(0.019515349900579505, 0.515625, 'squared_error = 0.0\\nsamples = 1\\nvalue = 40000.0'),\n",
       " Text(0.01987842617779959, 0.515625, 'X[0] <= 10569.0\\nsquared_error = 12357929.882\\nsamples = 17\\nvalue = 36167.0'),\n",
       " Text(0.01935650402929572, 0.484375, 'X[0] <= 10015.5\\nsquared_error = 1000000.0\\nsamples = 4\\nvalue = 34000.0'),\n",
       " Text(0.019174965890685677, 0.453125, 'squared_error = 0.0\\nsamples = 1\\nvalue = 33000.0'),\n",
       " Text(0.01953804216790576, 0.453125, 'X[0] <= 10336.0\\nsquared_error = 888888.889\\nsamples = 3\\nvalue = 34333.333'),\n",
       " Text(0.01935650402929572, 0.421875, 'squared_error = 0.0\\nsamples = 2\\nvalue = 35000.0'),\n",
       " Text(0.0197195803065158, 0.421875, 'squared_error = 0.0\\nsamples = 1\\nvalue = 33000.0'),\n",
       " Text(0.02040034832630346, 0.484375, 'X[0] <= 10848.0\\nsquared_error = 13963207.408\\nsamples = 13\\nvalue = 36833.769'),\n",
       " Text(0.020218810187693417, 0.453125, 'squared_error = 0.0\\nsamples = 1\\nvalue = 45000.0'),\n",
       " Text(0.0205818864649135, 0.453125, 'X[0] <= 11105.5\\nsquared_error = 9106424.521\\nsamples = 12\\nvalue = 36153.25'),\n",
       " Text(0.020082656583735883, 0.421875, 'X[0] <= 10998.0\\nsquared_error = 12250000.0\\nsamples = 2\\nvalue = 38500.0'),\n",
       " Text(0.01990111844512584, 0.390625, 'squared_error = 0.0\\nsamples = 1\\nvalue = 35000.0'),\n",
       " Text(0.020264194722345925, 0.390625, 'squared_error = 0.0\\nsamples = 1\\nvalue = 42000.0'),\n",
       " Text(0.021081116346091115, 0.421875, 'X[0] <= 12885.5\\nsquared_error = 7155972.89\\nsamples = 10\\nvalue = 35683.9'),\n",
       " Text(0.02062727099956601, 0.390625, 'X[0] <= 12579.5\\nsquared_error = 8190011.25\\nsamples = 6\\nvalue = 34706.5'),\n",
       " Text(0.020445732860955967, 0.359375, 'X[0] <= 11899.5\\nsquared_error = 2913600.0\\nsamples = 5\\nvalue = 35780.0'),\n",
       " Text(0.020082656583735883, 0.328125, 'X[0] <= 11505.0\\nsquared_error = 2250000.0\\nsamples = 2\\nvalue = 36500.0'),\n",
       " Text(0.01990111844512584, 0.296875, 'squared_error = 0.0\\nsamples = 1\\nvalue = 35000.0'),\n",
       " Text(0.020264194722345925, 0.296875, 'squared_error = 0.0\\nsamples = 1\\nvalue = 38000.0'),\n",
       " Text(0.02080880913817605, 0.328125, 'X[0] <= 12194.0\\nsquared_error = 2780000.0\\nsamples = 3\\nvalue = 35300.0'),\n",
       " Text(0.02062727099956601, 0.296875, 'squared_error = 3802500.0\\nsamples = 2\\nvalue = 34950.0'),\n",
       " Text(0.020990347276786094, 0.296875, 'squared_error = 0.0\\nsamples = 1\\nvalue = 36000.0'),\n",
       " Text(0.02080880913817605, 0.359375, 'squared_error = 0.0\\nsamples = 1\\nvalue = 29339.0'),\n",
       " Text(0.02153496169261622, 0.390625, 'X[0] <= 13164.0\\nsquared_error = 2022500.0\\nsamples = 4\\nvalue = 37150.0'),\n",
       " Text(0.021353423554006178, 0.359375, 'X[1] <= 1.5\\nsquared_error = 642222.222\\nsamples = 3\\nvalue = 37866.667'),\n",
       " Text(0.021171885415396136, 0.328125, 'squared_error = 0.0\\nsamples = 1\\nvalue = 39000.0'),\n",
       " Text(0.02153496169261622, 0.328125, 'squared_error = 0.0\\nsamples = 2\\nvalue = 37300.0'),\n",
       " Text(0.02171649983122626, 0.359375, 'squared_error = 0.0\\nsamples = 1\\nvalue = 35000.0'),\n",
       " Text(0.020423040593629715, 0.546875, 'X[0] <= 13967.0\\nsquared_error = 90000.0\\nsamples = 2\\nvalue = 32300.0'),\n",
       " Text(0.020241502455019673, 0.515625, 'squared_error = 0.0\\nsamples = 1\\nvalue = 32600.0'),\n",
       " Text(0.020604578732239757, 0.515625, 'squared_error = 0.0\\nsamples = 1\\nvalue = 32000.0'),\n",
       " Text(0.022760344128234, 0.578125, 'X[0] <= 15840.5\\nsquared_error = 3206810.555\\nsamples = 506\\nvalue = 39117.998'),\n",
       " Text(0.022261114247056388, 0.546875, 'X[0] <= 15312.5\\nsquared_error = 25000000.0\\nsamples = 2\\nvalue = 55000.0'),\n",
       " Text(0.022079576108446346, 0.515625, 'squared_error = 0.0\\nsamples = 1\\nvalue = 50000.0'),\n",
       " Text(0.02244265238566643, 0.515625, 'squared_error = 0.0\\nsamples = 1\\nvalue = 60000.0'),\n",
       " Text(0.02325957400941162, 0.546875, 'X[0] <= 18330.5\\nsquared_error = 2115413.251\\nsamples = 504\\nvalue = 39054.974'),\n",
       " Text(0.022805728662886514, 0.515625, 'X[0] <= 15974.0\\nsquared_error = 36520241.46\\nsamples = 18\\nvalue = 41372.611'),\n",
       " Text(0.022624190524276472, 0.484375, 'squared_error = 0.0\\nsamples = 1\\nvalue = 32000.0'),\n",
       " Text(0.022987266801496556, 0.484375, 'X[1] <= 1.5\\nsquared_error = 33197123.82\\nsamples = 17\\nvalue = 41923.941'),\n",
       " Text(0.022805728662886514, 0.453125, 'X[0] <= 17981.0\\nsquared_error = 32941544.277\\nsamples = 16\\nvalue = 42294.188'),\n",
       " Text(0.022624190524276472, 0.421875, 'X[0] <= 17112.5\\nsquared_error = 22166430.801\\nsamples = 14\\nvalue = 41907.643'),\n",
       " Text(0.022261114247056388, 0.390625, 'X[0] <= 16832.0\\nsquared_error = 25079076.444\\nsamples = 9\\nvalue = 43189.667'),\n",
       " Text(0.022079576108446346, 0.359375, 'X[0] <= 16481.0\\nsquared_error = 8599027.234\\nsamples = 8\\nvalue = 41713.375'),\n",
       " Text(0.021898037969836304, 0.328125, 'X[0] <= 16293.5\\nsquared_error = 6200373.347\\nsamples = 7\\nvalue = 42386.714'),\n",
       " Text(0.02171649983122626, 0.296875, 'X[0] <= 16061.5\\nsquared_error = 1369255.84\\nsamples = 5\\nvalue = 40941.4'),\n",
       " Text(0.02153496169261622, 0.265625, 'squared_error = 8888.889\\nsamples = 3\\nvalue = 41866.667'),\n",
       " Text(0.021898037969836304, 0.265625, 'X[0] <= 16206.0\\nsquared_error = 199362.25\\nsamples = 2\\nvalue = 39553.5'),\n",
       " Text(0.02171649983122626, 0.234375, 'squared_error = 0.0\\nsamples = 1\\nvalue = 40000.0'),\n",
       " Text(0.022079576108446346, 0.234375, 'squared_error = 0.0\\nsamples = 1\\nvalue = 39107.0'),\n",
       " Text(0.022079576108446346, 0.296875, 'squared_error = 0.0\\nsamples = 2\\nvalue = 46000.0'),\n",
       " Text(0.022261114247056388, 0.328125, 'squared_error = 0.0\\nsamples = 1\\nvalue = 37000.0'),\n",
       " Text(0.02244265238566643, 0.359375, 'squared_error = 0.0\\nsamples = 1\\nvalue = 55000.0'),\n",
       " Text(0.022987266801496556, 0.390625, 'X[0] <= 17225.5\\nsquared_error = 8640000.0\\nsamples = 5\\nvalue = 39600.0'),\n",
       " Text(0.022805728662886514, 0.359375, 'squared_error = 0.0\\nsamples = 2\\nvalue = 36000.0'),\n",
       " Text(0.023168804940106598, 0.359375, 'squared_error = 0.0\\nsamples = 3\\nvalue = 42000.0'),\n",
       " Text(0.022987266801496556, 0.421875, 'squared_error = 100000000.0\\nsamples = 2\\nvalue = 45000.0'),\n",
       " Text(0.023168804940106598, 0.453125, 'squared_error = 0.0\\nsamples = 1\\nvalue = 36000.0'),\n",
       " Text(0.023713419355936724, 0.515625, 'X[0] <= 18830.5\\nsquared_error = 634849.87\\nsamples = 486\\nvalue = 38969.136'),\n",
       " Text(0.023531881217326682, 0.484375, 'squared_error = 0.0\\nsamples = 1\\nvalue = 27000.0'),\n",
       " Text(0.023894957494546766, 0.484375, 'X[0] <= 19258.0\\nsquared_error = 340167.924\\nsamples = 485\\nvalue = 38993.814'),\n",
       " Text(0.023531881217326682, 0.453125, 'X[0] <= 19075.5\\nsquared_error = 30250000.0\\nsamples = 2\\nvalue = 41500.0'),\n",
       " Text(0.02335034307871664, 0.421875, 'squared_error = 0.0\\nsamples = 1\\nvalue = 36000.0'),\n",
       " Text(0.023713419355936724, 0.421875, 'squared_error = 0.0\\nsamples = 1\\nvalue = 47000.0'),\n",
       " Text(0.024258033771766847, 0.453125, 'X[0] <= 19682.5\\nsquared_error = 190201.853\\nsamples = 483\\nvalue = 38983.437'),\n",
       " Text(0.024076495633156808, 0.421875, 'squared_error = 0.0\\nsamples = 1\\nvalue = 33000.0'),\n",
       " Text(0.02443957191037689, 0.421875, 'X[0] <= 21154.0\\nsquared_error = 116165.355\\nsamples = 482\\nvalue = 38995.851'),\n",
       " Text(0.023894957494546766, 0.390625, 'X[0] <= 20025.0\\nsquared_error = 687500.0\\nsamples = 4\\nvalue = 40750.0'),\n",
       " Text(0.023713419355936724, 0.359375, 'squared_error = 0.0\\nsamples = 2\\nvalue = 40000.0'),\n",
       " Text(0.024076495633156808, 0.359375, 'X[0] <= 20597.5\\nsquared_error = 250000.0\\nsamples = 2\\nvalue = 41500.0'),\n",
       " Text(0.023894957494546766, 0.328125, 'squared_error = 0.0\\nsamples = 1\\nvalue = 41000.0'),\n",
       " Text(0.024258033771766847, 0.328125, 'squared_error = 0.0\\nsamples = 1\\nvalue = 42000.0'),\n",
       " Text(0.024984186326207015, 0.390625, 'X[0] <= 21582.5\\nsquared_error = 85419.548\\nsamples = 478\\nvalue = 38981.172'),\n",
       " Text(0.024802648187596973, 0.359375, 'X[0] <= 21164.0\\nsquared_error = 250000.0\\nsamples = 2\\nvalue = 34500.0'),\n",
       " Text(0.02462111004898693, 0.328125, 'squared_error = 0.0\\nsamples = 1\\nvalue = 34000.0'),\n",
       " Text(0.024984186326207015, 0.328125, 'squared_error = 0.0\\nsamples = 1\\nvalue = 35000.0'),\n",
       " Text(0.025165724464817057, 0.359375, 'squared_error = 0.0\\nsamples = 476\\nvalue = 39000.0'),\n",
       " Text(0.026073415157867267, 0.640625, 'X[0] <= 71499.5\\nsquared_error = 14148411.073\\nsamples = 17\\nvalue = 35748.529'),\n",
       " Text(0.025891877019257225, 0.609375, 'X[0] <= 28198.5\\nsquared_error = 9185575.0\\nsamples = 16\\nvalue = 36335.0'),\n",
       " Text(0.025165724464817057, 0.578125, 'X[0] <= 25696.0\\nsquared_error = 8629877.551\\nsamples = 7\\nvalue = 34337.143'),\n",
       " Text(0.024802648187596973, 0.546875, 'X[0] <= 25227.5\\nsquared_error = 8187500.0\\nsamples = 4\\nvalue = 35750.0'),\n",
       " Text(0.02462111004898693, 0.515625, 'X[0] <= 24047.5\\nsquared_error = 2888888.889\\nsamples = 3\\nvalue = 34333.333'),\n",
       " Text(0.02443957191037689, 0.484375, 'squared_error = 0.0\\nsamples = 1\\nvalue = 32000.0'),\n",
       " Text(0.024802648187596973, 0.484375, 'X[0] <= 25026.5\\nsquared_error = 250000.0\\nsamples = 2\\nvalue = 35500.0'),\n",
       " Text(0.02462111004898693, 0.453125, 'squared_error = 0.0\\nsamples = 1\\nvalue = 36000.0'),\n",
       " Text(0.024984186326207015, 0.453125, 'squared_error = 0.0\\nsamples = 1\\nvalue = 35000.0'),\n",
       " Text(0.024984186326207015, 0.515625, 'squared_error = 0.0\\nsamples = 1\\nvalue = 40000.0'),\n",
       " Text(0.02552880074203714, 0.546875, 'X[0] <= 27000.0\\nsquared_error = 3009422.222\\nsamples = 3\\nvalue = 32453.333'),\n",
       " Text(0.0253472626034271, 0.515625, 'squared_error = 0.0\\nsamples = 1\\nvalue = 30000.0'),\n",
       " Text(0.025710338880647183, 0.515625, 'squared_error = 0.0\\nsamples = 2\\nvalue = 33680.0'),\n",
       " Text(0.026618029573697393, 0.578125, 'X[0] <= 35698.0\\nsquared_error = 4098765.432\\nsamples = 9\\nvalue = 37888.889'),\n",
       " Text(0.02625495329647731, 0.546875, 'X[0] <= 29348.5\\nsquared_error = 1440000.0\\nsamples = 5\\nvalue = 39400.0'),\n",
       " Text(0.026073415157867267, 0.515625, 'X[0] <= 28698.5\\nsquared_error = 2250000.0\\nsamples = 2\\nvalue = 38500.0'),\n",
       " Text(0.025891877019257225, 0.484375, 'squared_error = 0.0\\nsamples = 1\\nvalue = 40000.0'),\n",
       " Text(0.02625495329647731, 0.484375, 'squared_error = 0.0\\nsamples = 1\\nvalue = 37000.0'),\n",
       " Text(0.02643649143508735, 0.515625, 'squared_error = 0.0\\nsamples = 3\\nvalue = 40000.0'),\n",
       " Text(0.026981105850917477, 0.546875, 'X[0] <= 45440.0\\nsquared_error = 1000000.0\\nsamples = 4\\nvalue = 36000.0'),\n",
       " Text(0.026799567712307435, 0.515625, 'squared_error = 0.0\\nsamples = 2\\nvalue = 37000.0'),\n",
       " Text(0.02716264398952752, 0.515625, 'squared_error = 0.0\\nsamples = 2\\nvalue = 35000.0'),\n",
       " Text(0.02625495329647731, 0.609375, 'squared_error = 0.0\\nsamples = 1\\nvalue = 26365.0'),\n",
       " Text(0.03416037192626148, 0.765625, 'X[4] <= 12.0\\nsquared_error = 38914061.698\\nsamples = 133\\nvalue = 30641.233'),\n",
       " Text(0.030572157155297368, 0.734375, 'X[0] <= 15390.0\\nsquared_error = 15149419.454\\nsamples = 51\\nvalue = 25486.275'),\n",
       " Text(0.02797956561327271, 0.703125, 'X[0] <= 6202.0\\nsquared_error = 20275623.269\\nsamples = 19\\nvalue = 28126.316'),\n",
       " Text(0.027616489336052624, 0.671875, 'X[0] <= 4700.0\\nsquared_error = 10000.0\\nsamples = 2\\nvalue = 34100.0'),\n",
       " Text(0.027434951197442582, 0.640625, 'squared_error = 0.0\\nsamples = 1\\nvalue = 34200.0'),\n",
       " Text(0.027798027474662666, 0.640625, 'squared_error = 0.0\\nsamples = 1\\nvalue = 34000.0'),\n",
       " Text(0.028342641890492792, 0.671875, 'X[0] <= 14729.5\\nsquared_error = 17967681.661\\nsamples = 17\\nvalue = 27423.529'),\n",
       " Text(0.02816110375188275, 0.640625, 'X[0] <= 9000.0\\nsquared_error = 13694488.889\\nsamples = 15\\nvalue = 26546.667'),\n",
       " Text(0.027707258405357645, 0.609375, 'X[4] <= 5.5\\nsquared_error = 750000.0\\nsamples = 4\\nvalue = 29500.0'),\n",
       " Text(0.027525720266747603, 0.578125, 'X[0] <= 7381.0\\nsquared_error = 1000000.0\\nsamples = 2\\nvalue = 29000.0'),\n",
       " Text(0.02734418212813756, 0.546875, 'squared_error = 0.0\\nsamples = 1\\nvalue = 30000.0'),\n",
       " Text(0.027707258405357645, 0.546875, 'squared_error = 0.0\\nsamples = 1\\nvalue = 28000.0'),\n",
       " Text(0.027888796543967687, 0.578125, 'squared_error = 0.0\\nsamples = 2\\nvalue = 30000.0'),\n",
       " Text(0.028614949098407855, 0.609375, 'X[0] <= 11066.5\\nsquared_error = 14076528.926\\nsamples = 11\\nvalue = 25472.727'),\n",
       " Text(0.02825187282118777, 0.578125, 'X[0] <= 10298.5\\nsquared_error = 222222.222\\nsamples = 3\\nvalue = 23333.333'),\n",
       " Text(0.02807033468257773, 0.546875, 'squared_error = 0.0\\nsamples = 1\\nvalue = 24000.0'),\n",
       " Text(0.028433410959797813, 0.546875, 'squared_error = 0.0\\nsamples = 2\\nvalue = 23000.0'),\n",
       " Text(0.028978025375627936, 0.578125, 'X[0] <= 11768.0\\nsquared_error = 16911875.0\\nsamples = 8\\nvalue = 26275.0'),\n",
       " Text(0.028796487237017894, 0.546875, 'squared_error = 0.0\\nsamples = 1\\nvalue = 34000.0'),\n",
       " Text(0.029159563514237978, 0.546875, 'X[0] <= 12298.5\\nsquared_error = 9584897.959\\nsamples = 7\\nvalue = 25171.429'),\n",
       " Text(0.028614949098407855, 0.515625, 'X[4] <= 5.5\\nsquared_error = 2935555.556\\nsamples = 3\\nvalue = 23633.333'),\n",
       " Text(0.028433410959797813, 0.484375, 'squared_error = 0.0\\nsamples = 1\\nvalue = 26000.0'),\n",
       " Text(0.028796487237017894, 0.484375, 'X[0] <= 12128.5\\nsquared_error = 202500.0\\nsamples = 2\\nvalue = 22450.0'),\n",
       " Text(0.028614949098407855, 0.453125, 'squared_error = 0.0\\nsamples = 1\\nvalue = 22900.0'),\n",
       " Text(0.028978025375627936, 0.453125, 'squared_error = 0.0\\nsamples = 1\\nvalue = 22000.0'),\n",
       " Text(0.029704177930068104, 0.515625, 'X[0] <= 14363.0\\nsquared_error = 11466875.0\\nsamples = 4\\nvalue = 26325.0'),\n",
       " Text(0.029522639791458062, 0.484375, 'X[0] <= 13697.5\\nsquared_error = 6975555.556\\nsamples = 3\\nvalue = 27766.667'),\n",
       " Text(0.02934110165284802, 0.453125, 'X[4] <= 5.5\\nsquared_error = 10000.0\\nsamples = 2\\nvalue = 25900.0'),\n",
       " Text(0.029159563514237978, 0.421875, 'squared_error = 0.0\\nsamples = 1\\nvalue = 25800.0'),\n",
       " Text(0.029522639791458062, 0.421875, 'squared_error = 0.0\\nsamples = 1\\nvalue = 26000.0'),\n",
       " Text(0.029704177930068104, 0.453125, 'squared_error = 0.0\\nsamples = 1\\nvalue = 31500.0'),\n",
       " Text(0.029885716068678146, 0.484375, 'squared_error = 0.0\\nsamples = 1\\nvalue = 22000.0'),\n",
       " Text(0.028524180029102834, 0.640625, 'squared_error = 1000000.0\\nsamples = 2\\nvalue = 34000.0'),\n",
       " Text(0.03316474869732203, 0.703125, 'X[0] <= 72075.5\\nsquared_error = 5510273.438\\nsamples = 32\\nvalue = 23918.75'),\n",
       " Text(0.032983210558711985, 0.671875, 'X[4] <= 5.5\\nsquared_error = 3513402.706\\nsamples = 31\\nvalue = 23658.065'),\n",
       " Text(0.03226840413793495, 0.640625, 'X[0] <= 28669.5\\nsquared_error = 3612362.949\\nsamples = 23\\nvalue = 23373.913'),\n",
       " Text(0.03174648198943108, 0.609375, 'X[0] <= 22437.5\\nsquared_error = 2139930.796\\nsamples = 17\\nvalue = 23864.706'),\n",
       " Text(0.03124725210825346, 0.578125, 'X[0] <= 22086.5\\nsquared_error = 1491597.633\\nsamples = 13\\nvalue = 23361.538'),\n",
       " Text(0.030793406761728356, 0.546875, 'X[0] <= 20507.0\\nsquared_error = 1033469.388\\nsamples = 7\\nvalue = 24171.429'),\n",
       " Text(0.030430330484508272, 0.515625, 'X[0] <= 16789.5\\nsquared_error = 750000.0\\nsamples = 4\\nvalue = 23500.0'),\n",
       " Text(0.03024879234589823, 0.484375, 'squared_error = 0.0\\nsamples = 2\\nvalue = 24000.0'),\n",
       " Text(0.030611868623118314, 0.484375, 'X[0] <= 18906.5\\nsquared_error = 1000000.0\\nsamples = 2\\nvalue = 23000.0'),\n",
       " Text(0.030430330484508272, 0.453125, 'squared_error = 0.0\\nsamples = 1\\nvalue = 22000.0'),\n",
       " Text(0.030793406761728356, 0.453125, 'squared_error = 0.0\\nsamples = 1\\nvalue = 24000.0'),\n",
       " Text(0.03115648303894844, 0.515625, 'X[0] <= 21500.0\\nsquared_error = 8888.889\\nsamples = 3\\nvalue = 25066.667'),\n",
       " Text(0.0309749449003384, 0.484375, 'squared_error = 10000.0\\nsamples = 2\\nvalue = 25100.0'),\n",
       " Text(0.03133802117755848, 0.484375, 'squared_error = 0.0\\nsamples = 1\\nvalue = 25000.0'),\n",
       " Text(0.031701097454778566, 0.546875, 'X[0] <= 22173.5\\nsquared_error = 368055.556\\nsamples = 6\\nvalue = 22416.667'),\n",
       " Text(0.031519559316168524, 0.515625, 'squared_error = 0.0\\nsamples = 2\\nvalue = 23000.0'),\n",
       " Text(0.03188263559338861, 0.515625, 'X[0] <= 22397.5\\nsquared_error = 296875.0\\nsamples = 4\\nvalue = 22125.0'),\n",
       " Text(0.031701097454778566, 0.484375, 'X[0] <= 22285.5\\nsquared_error = 222222.222\\nsamples = 3\\nvalue = 22333.333'),\n",
       " Text(0.031519559316168524, 0.453125, 'squared_error = 0.0\\nsamples = 2\\nvalue = 22000.0'),\n",
       " Text(0.03188263559338861, 0.453125, 'squared_error = 0.0\\nsamples = 1\\nvalue = 23000.0'),\n",
       " Text(0.03206417373199865, 0.484375, 'squared_error = 0.0\\nsamples = 1\\nvalue = 21500.0'),\n",
       " Text(0.03224571187060869, 0.578125, 'X[0] <= 23493.5\\nsquared_error = 750000.0\\nsamples = 4\\nvalue = 25500.0'),\n",
       " Text(0.03206417373199865, 0.546875, 'squared_error = 0.0\\nsamples = 1\\nvalue = 27000.0'),\n",
       " Text(0.032427250009218735, 0.546875, 'squared_error = 0.0\\nsamples = 3\\nvalue = 25000.0'),\n",
       " Text(0.03279032628643882, 0.609375, 'X[0] <= 37039.5\\nsquared_error = 5168055.556\\nsamples = 6\\nvalue = 21983.333'),\n",
       " Text(0.03260878814782878, 0.578125, 'squared_error = 0.0\\nsamples = 2\\nvalue = 20000.0'),\n",
       " Text(0.03297186442504886, 0.578125, 'X[0] <= 52075.5\\nsquared_error = 4801875.0\\nsamples = 4\\nvalue = 22975.0'),\n",
       " Text(0.03279032628643882, 0.546875, 'X[0] <= 47001.0\\nsquared_error = 4580000.0\\nsamples = 3\\nvalue = 22300.0'),\n",
       " Text(0.03260878814782878, 0.515625, 'X[0] <= 42465.5\\nsquared_error = 562500.0\\nsamples = 2\\nvalue = 23750.0'),\n",
       " Text(0.032427250009218735, 0.484375, 'squared_error = 0.0\\nsamples = 1\\nvalue = 24500.0'),\n",
       " Text(0.03279032628643882, 0.484375, 'squared_error = 0.0\\nsamples = 1\\nvalue = 23000.0'),\n",
       " Text(0.03297186442504886, 0.515625, 'squared_error = 0.0\\nsamples = 1\\nvalue = 19400.0'),\n",
       " Text(0.0331534025636589, 0.546875, 'squared_error = 0.0\\nsamples = 1\\nvalue = 25000.0'),\n",
       " Text(0.03369801697948903, 0.640625, 'X[0] <= 34484.5\\nsquared_error = 2329375.0\\nsamples = 8\\nvalue = 24475.0'),\n",
       " Text(0.03351647884087899, 0.609375, 'X[0] <= 16604.0\\nsquared_error = 633469.388\\nsamples = 7\\nvalue = 23971.429'),\n",
       " Text(0.033334940702268945, 0.578125, 'squared_error = 0.0\\nsamples = 2\\nvalue = 25000.0'),\n",
       " Text(0.03369801697948903, 0.578125, 'X[1] <= 1.5\\nsquared_error = 294400.0\\nsamples = 5\\nvalue = 23560.0'),\n",
       " Text(0.03351647884087899, 0.546875, 'X[0] <= 28245.5\\nsquared_error = 187500.0\\nsamples = 4\\nvalue = 23750.0'),\n",
       " Text(0.033334940702268945, 0.515625, 'squared_error = 0.0\\nsamples = 3\\nvalue = 24000.0'),\n",
       " Text(0.03369801697948903, 0.515625, 'squared_error = 0.0\\nsamples = 1\\nvalue = 23000.0'),\n",
       " Text(0.03387955511809907, 0.546875, 'squared_error = 0.0\\nsamples = 1\\nvalue = 22800.0'),\n",
       " Text(0.03387955511809907, 0.609375, 'squared_error = 0.0\\nsamples = 1\\nvalue = 28000.0'),\n",
       " Text(0.03334628683593207, 0.671875, 'squared_error = 0.0\\nsamples = 1\\nvalue = 32000.0'),\n",
       " Text(0.03774858669722558, 0.734375, 'X[0] <= 19159.0\\nsquared_error = 26887740.964\\nsamples = 82\\nvalue = 33847.366'),\n",
       " Text(0.03524109115767438, 0.703125, 'X[0] <= 7523.0\\nsquared_error = 19252865.654\\nsamples = 37\\nvalue = 32372.541'),\n",
       " Text(0.03478724581114928, 0.671875, 'X[0] <= 5315.0\\nsquared_error = 38709575.36\\nsamples = 5\\nvalue = 34396.8'),\n",
       " Text(0.0344241695339292, 0.640625, 'X[0] <= 3565.0\\nsquared_error = 33303680.889\\nsamples = 3\\nvalue = 31161.333'),\n",
       " Text(0.034242631395319155, 0.609375, 'squared_error = 0.0\\nsamples = 2\\nvalue = 35242.0'),\n",
       " Text(0.03460570767253924, 0.609375, 'squared_error = 0.0\\nsamples = 1\\nvalue = 23000.0'),\n",
       " Text(0.035150322088369365, 0.640625, 'X[0] <= 6793.0\\nsquared_error = 7562500.0\\nsamples = 2\\nvalue = 39250.0'),\n",
       " Text(0.03496878394975932, 0.609375, 'squared_error = 0.0\\nsamples = 1\\nvalue = 42000.0'),\n",
       " Text(0.03533186022697941, 0.609375, 'squared_error = 0.0\\nsamples = 1\\nvalue = 36500.0'),\n",
       " Text(0.035694936504199484, 0.671875, 'X[0] <= 8461.0\\nsquared_error = 15472460.938\\nsamples = 32\\nvalue = 32056.25'),\n",
       " Text(0.03551339836558945, 0.640625, 'squared_error = 0.0\\nsamples = 1\\nvalue = 27000.0'),\n",
       " Text(0.035876474642809526, 0.640625, 'X[0] <= 8981.0\\nsquared_error = 15120270.552\\nsamples = 31\\nvalue = 32219.355'),\n",
       " Text(0.035694936504199484, 0.609375, 'squared_error = 0.0\\nsamples = 1\\nvalue = 38000.0'),\n",
       " Text(0.03605801278141957, 0.609375, 'X[0] <= 18138.5\\nsquared_error = 14473288.889\\nsamples = 30\\nvalue = 32026.667'),\n",
       " Text(0.03544532156361068, 0.578125, 'X[1] <= 1.5\\nsquared_error = 15914930.556\\nsamples = 24\\nvalue = 32341.667'),\n",
       " Text(0.03526378342500064, 0.546875, 'X[0] <= 11773.5\\nsquared_error = 15154328.922\\nsamples = 23\\nvalue = 32095.652'),\n",
       " Text(0.034764553543823025, 0.515625, 'X[0] <= 9998.0\\nsquared_error = 3855000.0\\nsamples = 4\\nvalue = 33100.0'),\n",
       " Text(0.03458301540521298, 0.484375, 'X[0] <= 9169.0\\nsquared_error = 2222.222\\nsamples = 3\\nvalue = 31966.667'),\n",
       " Text(0.03440147726660294, 0.453125, 'squared_error = 0.0\\nsamples = 1\\nvalue = 31900.0'),\n",
       " Text(0.034764553543823025, 0.453125, 'squared_error = 0.0\\nsamples = 2\\nvalue = 32000.0'),\n",
       " Text(0.03494609168243307, 0.484375, 'squared_error = 0.0\\nsamples = 1\\nvalue = 36500.0'),\n",
       " Text(0.03576301330617825, 0.515625, 'X[0] <= 16243.5\\nsquared_error = 17276066.482\\nsamples = 19\\nvalue = 31884.211'),\n",
       " Text(0.03530916795965315, 0.484375, 'X[0] <= 16057.5\\nsquared_error = 29377600.0\\nsamples = 10\\nvalue = 31180.0'),\n",
       " Text(0.03512762982104311, 0.453125, 'X[0] <= 15860.5\\nsquared_error = 32469876.543\\nsamples = 9\\nvalue = 31311.111'),\n",
       " Text(0.03494609168243307, 0.421875, 'X[0] <= 15411.5\\nsquared_error = 41572653.061\\nsamples = 7\\nvalue = 31114.286'),\n",
       " Text(0.034764553543823025, 0.390625, 'X[0] <= 13944.5\\nsquared_error = 48301388.889\\nsamples = 6\\nvalue = 31283.333'),\n",
       " Text(0.03458301540521298, 0.359375, 'squared_error = 0.0\\nsamples = 1\\nvalue = 32000.0'),\n",
       " Text(0.03494609168243307, 0.359375, 'squared_error = 57838400.0\\nsamples = 5\\nvalue = 31140.0'),\n",
       " Text(0.03512762982104311, 0.390625, 'squared_error = 0.0\\nsamples = 1\\nvalue = 30100.0'),\n",
       " Text(0.03530916795965315, 0.421875, 'squared_error = 0.0\\nsamples = 2\\nvalue = 32000.0'),\n",
       " Text(0.03549070609826319, 0.453125, 'squared_error = 0.0\\nsamples = 1\\nvalue = 30000.0'),\n",
       " Text(0.03621685865270336, 0.484375, 'X[0] <= 17153.0\\nsquared_error = 2666666.667\\nsamples = 9\\nvalue = 32666.667'),\n",
       " Text(0.03585378237548328, 0.453125, 'X[0] <= 16288.5\\nsquared_error = 800000.0\\nsamples = 5\\nvalue = 33000.0'),\n",
       " Text(0.035672244236873235, 0.421875, 'X[0] <= 16270.5\\nsquared_error = 222222.222\\nsamples = 3\\nvalue = 32333.333'),\n",
       " Text(0.03549070609826319, 0.390625, 'squared_error = 0.0\\nsamples = 1\\nvalue = 33000.0'),\n",
       " Text(0.03585378237548328, 0.390625, 'squared_error = 0.0\\nsamples = 2\\nvalue = 32000.0'),\n",
       " Text(0.03603532051409332, 0.421875, 'squared_error = 0.0\\nsamples = 2\\nvalue = 34000.0'),\n",
       " Text(0.036579934929923445, 0.453125, 'X[0] <= 18040.0\\nsquared_error = 4687500.0\\nsamples = 4\\nvalue = 32250.0'),\n",
       " Text(0.0363983967913134, 0.421875, 'squared_error = 6222222.222\\nsamples = 3\\nvalue = 32333.333'),\n",
       " Text(0.03676147306853349, 0.421875, 'squared_error = 0.0\\nsamples = 1\\nvalue = 32000.0'),\n",
       " Text(0.03562685970222072, 0.546875, 'squared_error = 0.0\\nsamples = 1\\nvalue = 38000.0'),\n",
       " Text(0.03667070399922846, 0.578125, 'X[0] <= 18537.5\\nsquared_error = 6722222.222\\nsamples = 6\\nvalue = 30766.667'),\n",
       " Text(0.03630762772200838, 0.546875, 'X[0] <= 18258.5\\nsquared_error = 3062500.0\\nsamples = 2\\nvalue = 27750.0'),\n",
       " Text(0.03612608958339834, 0.515625, 'squared_error = 0.0\\nsamples = 1\\nvalue = 29500.0'),\n",
       " Text(0.03648916586061842, 0.515625, 'squared_error = 0.0\\nsamples = 1\\nvalue = 26000.0'),\n",
       " Text(0.03703378027644855, 0.546875, 'X[1] <= 1.5\\nsquared_error = 1726875.0\\nsamples = 4\\nvalue = 32275.0'),\n",
       " Text(0.036852242137838505, 0.515625, 'X[0] <= 18877.5\\nsquared_error = 202500.0\\nsamples = 2\\nvalue = 33550.0'),\n",
       " Text(0.03667070399922846, 0.484375, 'squared_error = 0.0\\nsamples = 1\\nvalue = 34000.0'),\n",
       " Text(0.03703378027644855, 0.484375, 'squared_error = 0.0\\nsamples = 1\\nvalue = 33100.0'),\n",
       " Text(0.03721531841505859, 0.515625, 'squared_error = 0.0\\nsamples = 2\\nvalue = 31000.0'),\n",
       " Text(0.04025608223677679, 0.703125, 'X[1] <= 1.5\\nsquared_error = 29906400.0\\nsamples = 45\\nvalue = 35060.0'),\n",
       " Text(0.03966608328629415, 0.671875, 'X[0] <= 36672.0\\nsquared_error = 28281925.365\\nsamples = 43\\nvalue = 35360.465'),\n",
       " Text(0.03903069980115901, 0.640625, 'X[0] <= 32283.5\\nsquared_error = 20971419.668\\nsamples = 38\\nvalue = 35855.263'),\n",
       " Text(0.038667623523938925, 0.609375, 'X[0] <= 30692.5\\nsquared_error = 15924866.85\\nsamples = 33\\nvalue = 34924.242'),\n",
       " Text(0.03848608538532888, 0.578125, 'X[0] <= 29293.0\\nsquared_error = 16576722.222\\nsamples = 30\\nvalue = 35216.667'),\n",
       " Text(0.03830454724671884, 0.546875, 'X[0] <= 27510.0\\nsquared_error = 15506944.114\\nsamples = 29\\nvalue = 34982.759'),\n",
       " Text(0.0381230091081088, 0.515625, 'X[0] <= 25782.0\\nsquared_error = 14680274.348\\nsamples = 27\\nvalue = 35351.852'),\n",
       " Text(0.03794147096949876, 0.484375, 'X[0] <= 21029.0\\nsquared_error = 12036000.0\\nsamples = 25\\nvalue = 34820.0'),\n",
       " Text(0.03748762562297365, 0.453125, 'X[0] <= 20255.5\\nsquared_error = 11769876.543\\nsamples = 9\\nvalue = 36211.111'),\n",
       " Text(0.037124549345753564, 0.421875, 'X[0] <= 19659.0\\nsquared_error = 13475555.556\\nsamples = 6\\nvalue = 35066.667'),\n",
       " Text(0.03694301120714352, 0.390625, 'squared_error = 0.0\\nsamples = 2\\nvalue = 34000.0'),\n",
       " Text(0.037306087484363606, 0.390625, 'squared_error = 19360000.0\\nsamples = 4\\nvalue = 35600.0'),\n",
       " Text(0.03785070190019373, 0.421875, 'X[0] <= 20605.5\\nsquared_error = 500000.0\\nsamples = 3\\nvalue = 38500.0'),\n",
       " Text(0.03766916376158369, 0.390625, 'squared_error = 0.0\\nsamples = 1\\nvalue = 37500.0'),\n",
       " Text(0.038032240038803775, 0.390625, 'squared_error = 0.0\\nsamples = 2\\nvalue = 39000.0'),\n",
       " Text(0.03839531631602386, 0.453125, 'X[0] <= 21528.0\\nsquared_error = 10484843.75\\nsamples = 16\\nvalue = 34037.5'),\n",
       " Text(0.03821377817741382, 0.421875, 'squared_error = 0.0\\nsamples = 2\\nvalue = 30000.0'),\n",
       " Text(0.0385768544546339, 0.421875, 'X[0] <= 21725.5\\nsquared_error = 9321224.49\\nsamples = 14\\nvalue = 34614.286'),\n",
       " Text(0.03839531631602386, 0.390625, 'squared_error = 0.0\\nsamples = 1\\nvalue = 39000.0'),\n",
       " Text(0.03875839259324394, 0.390625, 'X[0] <= 22434.5\\nsquared_error = 8444852.071\\nsamples = 13\\nvalue = 34276.923'),\n",
       " Text(0.03839531631602386, 0.359375, 'X[0] <= 22161.0\\nsquared_error = 1000000.0\\nsamples = 2\\nvalue = 31000.0'),\n",
       " Text(0.03821377817741382, 0.328125, 'squared_error = 0.0\\nsamples = 1\\nvalue = 30000.0'),\n",
       " Text(0.0385768544546339, 0.328125, 'squared_error = 0.0\\nsamples = 1\\nvalue = 32000.0'),\n",
       " Text(0.03912146887046403, 0.359375, 'X[0] <= 22491.0\\nsquared_error = 7491074.38\\nsamples = 11\\nvalue = 34872.727'),\n",
       " Text(0.038939930731853985, 0.328125, 'squared_error = 0.0\\nsamples = 2\\nvalue = 38500.0'),\n",
       " Text(0.03930300700907407, 0.328125, 'X[0] <= 25043.0\\nsquared_error = 5582222.222\\nsamples = 9\\nvalue = 34066.667'),\n",
       " Text(0.03912146887046403, 0.296875, 'X[0] <= 24838.0\\nsquared_error = 5608163.265\\nsamples = 7\\nvalue = 34657.143'),\n",
       " Text(0.038939930731853985, 0.265625, 'X[0] <= 24108.5\\nsquared_error = 4370000.0\\nsamples = 6\\nvalue = 34100.0'),\n",
       " Text(0.03875839259324394, 0.234375, 'X[0] <= 23248.5\\nsquared_error = 3247500.0\\nsamples = 4\\nvalue = 35150.0'),\n",
       " Text(0.0385768544546339, 0.203125, 'X[0] <= 22759.0\\nsquared_error = 720000.0\\nsamples = 3\\nvalue = 34200.0'),\n",
       " Text(0.03839531631602386, 0.171875, 'squared_error = 0.0\\nsamples = 1\\nvalue = 33000.0'),\n",
       " Text(0.03875839259324394, 0.171875, 'squared_error = 0.0\\nsamples = 2\\nvalue = 34800.0'),\n",
       " Text(0.038939930731853985, 0.203125, 'squared_error = 0.0\\nsamples = 1\\nvalue = 38000.0'),\n",
       " Text(0.03912146887046403, 0.234375, 'squared_error = 0.0\\nsamples = 2\\nvalue = 32000.0'),\n",
       " Text(0.03930300700907407, 0.265625, 'squared_error = 0.0\\nsamples = 1\\nvalue = 38000.0'),\n",
       " Text(0.03948454514768411, 0.296875, 'squared_error = 0.0\\nsamples = 2\\nvalue = 32000.0'),\n",
       " Text(0.03830454724671884, 0.484375, 'squared_error = 0.0\\nsamples = 2\\nvalue = 42000.0'),\n",
       " Text(0.03848608538532888, 0.515625, 'squared_error = 0.0\\nsamples = 2\\nvalue = 30000.0'),\n",
       " Text(0.038667623523938925, 0.546875, 'squared_error = 0.0\\nsamples = 1\\nvalue = 42000.0'),\n",
       " Text(0.03884916166254897, 0.578125, 'squared_error = 0.0\\nsamples = 3\\nvalue = 32000.0'),\n",
       " Text(0.03939377607837909, 0.609375, 'X[0] <= 35672.0\\nsquared_error = 10800000.0\\nsamples = 5\\nvalue = 42000.0'),\n",
       " Text(0.03921223793976905, 0.578125, 'X[0] <= 33783.5\\nsquared_error = 8000000.0\\nsamples = 3\\nvalue = 40000.0'),\n",
       " Text(0.03903069980115901, 0.546875, 'squared_error = 0.0\\nsamples = 2\\nvalue = 42000.0'),\n",
       " Text(0.03939377607837909, 0.546875, 'squared_error = 0.0\\nsamples = 1\\nvalue = 36000.0'),\n",
       " Text(0.039575314216989135, 0.578125, 'squared_error = 0.0\\nsamples = 2\\nvalue = 45000.0'),\n",
       " Text(0.0403014667714293, 0.640625, 'X[0] <= 49921.0\\nsquared_error = 67840000.0\\nsamples = 5\\nvalue = 31600.0'),\n",
       " Text(0.04011992863281926, 0.609375, 'X[0] <= 38500.0\\nsquared_error = 4166666.667\\nsamples = 3\\nvalue = 25000.0'),\n",
       " Text(0.03993839049420922, 0.578125, 'squared_error = 0.0\\nsamples = 1\\nvalue = 22500.0'),\n",
       " Text(0.0403014667714293, 0.578125, 'X[0] <= 40344.0\\nsquared_error = 1562500.0\\nsamples = 2\\nvalue = 26250.0'),\n",
       " Text(0.04011992863281926, 0.546875, 'squared_error = 0.0\\nsamples = 1\\nvalue = 27500.0'),\n",
       " Text(0.040483004910039345, 0.546875, 'squared_error = 0.0\\nsamples = 1\\nvalue = 25000.0'),\n",
       " Text(0.040483004910039345, 0.609375, 'squared_error = 0.0\\nsamples = 2\\nvalue = 41500.0'),\n",
       " Text(0.04084608118725943, 0.671875, 'X[0] <= 21084.5\\nsquared_error = 21160000.0\\nsamples = 2\\nvalue = 28600.0'),\n",
       " Text(0.04066454304864939, 0.640625, 'squared_error = 0.0\\nsamples = 1\\nvalue = 33200.0'),\n",
       " Text(0.04102761932586947, 0.640625, 'squared_error = 0.0\\nsamples = 1\\nvalue = 24000.0'),\n",
       " Text(0.05873290634050314, 0.796875, 'X[3] <= 108.5\\nsquared_error = 3811365070.785\\nsamples = 300\\nvalue = 46612.573'),\n",
       " Text(0.058551368201893106, 0.765625, 'squared_error = 0.0\\nsamples = 1\\nvalue = 1100000.0'),\n",
       " Text(0.05891444447911318, 0.765625, 'X[2] <= 3.5\\nsquared_error = 100579698.79\\nsamples = 299\\nvalue = 43089.538'),\n",
       " Text(0.04915003276196095, 0.734375, 'X[0] <= 9103.5\\nsquared_error = 78326386.138\\nsamples = 103\\nvalue = 50501.165'),\n",
       " Text(0.04553487092354692, 0.703125, 'X[2] <= 1.5\\nsquared_error = 81332498.17\\nsamples = 50\\nvalue = 54328.7'),\n",
       " Text(0.0442839596871871, 0.671875, 'X[0] <= 1537.0\\nsquared_error = 115562500.0\\nsamples = 2\\nvalue = 70750.0'),\n",
       " Text(0.044102421548577055, 0.640625, 'squared_error = 0.0\\nsamples = 1\\nvalue = 60000.0'),\n",
       " Text(0.04446549782579714, 0.640625, 'squared_error = 0.0\\nsamples = 1\\nvalue = 81500.0'),\n",
       " Text(0.04678578215990673, 0.671875, 'X[0] <= 7444.0\\nsquared_error = 68202294.375\\nsamples = 48\\nvalue = 53644.479'),\n",
       " Text(0.04482857410301722, 0.640625, 'X[0] <= 5207.0\\nsquared_error = 50589713.616\\nsamples = 41\\nvalue = 52154.512'),\n",
       " Text(0.04327415379116874, 0.609375, 'X[3] <= 117.5\\nsquared_error = 37554859.444\\nsamples = 28\\nvalue = 54905.357'),\n",
       " Text(0.0416176182763521, 0.578125, 'X[0] <= 1925.0\\nsquared_error = 24337945.938\\nsamples = 16\\nvalue = 52785.75'),\n",
       " Text(0.04084608118725943, 0.546875, 'X[0] <= 1265.5\\nsquared_error = 15006008.889\\nsamples = 6\\nvalue = 50845.333'),\n",
       " Text(0.040483004910039345, 0.515625, 'X[0] <= 888.0\\nsquared_error = 9565240.889\\nsamples = 3\\nvalue = 52890.667'),\n",
       " Text(0.0403014667714293, 0.484375, 'X[4] <= 12.0\\nsquared_error = 7096896.0\\nsamples = 2\\nvalue = 51336.0'),\n",
       " Text(0.04011992863281926, 0.453125, 'squared_error = 0.0\\nsamples = 1\\nvalue = 54000.0'),\n",
       " Text(0.040483004910039345, 0.453125, 'squared_error = 0.0\\nsamples = 1\\nvalue = 48672.0'),\n",
       " Text(0.04066454304864939, 0.484375, 'squared_error = 0.0\\nsamples = 1\\nvalue = 56000.0'),\n",
       " Text(0.041209157464479514, 0.515625, 'X[4] <= 7.0\\nsquared_error = 12080000.0\\nsamples = 3\\nvalue = 48800.0'),\n",
       " Text(0.04102761932586947, 0.484375, 'X[4] <= 4.5\\nsquared_error = 7290000.0\\nsamples = 2\\nvalue = 50700.0'),\n",
       " Text(0.04084608118725943, 0.453125, 'squared_error = 0.0\\nsamples = 1\\nvalue = 48000.0'),\n",
       " Text(0.041209157464479514, 0.453125, 'squared_error = 0.0\\nsamples = 1\\nvalue = 53400.0'),\n",
       " Text(0.041390695603089556, 0.484375, 'squared_error = 0.0\\nsamples = 1\\nvalue = 45000.0'),\n",
       " Text(0.04238915536544478, 0.546875, 'X[0] <= 2820.0\\nsquared_error = 26322500.0\\nsamples = 10\\nvalue = 53950.0'),\n",
       " Text(0.041935310018919675, 0.515625, 'X[0] <= 2642.5\\nsquared_error = 18240000.0\\nsamples = 5\\nvalue = 56600.0'),\n",
       " Text(0.04175377188030963, 0.484375, 'X[4] <= 4.5\\nsquared_error = 750000.0\\nsamples = 4\\nvalue = 54500.0'),\n",
       " Text(0.04157223374169959, 0.453125, 'squared_error = 0.0\\nsamples = 2\\nvalue = 55000.0'),\n",
       " Text(0.041935310018919675, 0.453125, 'squared_error = 1000000.0\\nsamples = 2\\nvalue = 54000.0'),\n",
       " Text(0.04211684815752972, 0.484375, 'squared_error = 0.0\\nsamples = 1\\nvalue = 65000.0'),\n",
       " Text(0.042843000711969885, 0.515625, 'X[0] <= 3883.5\\nsquared_error = 20360000.0\\nsamples = 5\\nvalue = 51300.0'),\n",
       " Text(0.0424799244347498, 0.484375, 'X[0] <= 3623.5\\nsquared_error = 2388888.889\\nsamples = 3\\nvalue = 47833.333'),\n",
       " Text(0.04229838629613976, 0.453125, 'X[4] <= 9.5\\nsquared_error = 62500.0\\nsamples = 2\\nvalue = 46750.0'),\n",
       " Text(0.04211684815752972, 0.421875, 'squared_error = 0.0\\nsamples = 1\\nvalue = 47000.0'),\n",
       " Text(0.0424799244347498, 0.421875, 'squared_error = 0.0\\nsamples = 1\\nvalue = 46500.0'),\n",
       " Text(0.04266146257335984, 0.453125, 'squared_error = 0.0\\nsamples = 1\\nvalue = 50000.0'),\n",
       " Text(0.04320607698918997, 0.484375, 'X[4] <= 5.5\\nsquared_error = 2250000.0\\nsamples = 2\\nvalue = 56500.0'),\n",
       " Text(0.04302453885057993, 0.453125, 'squared_error = 0.0\\nsamples = 1\\nvalue = 55000.0'),\n",
       " Text(0.04338761512780001, 0.453125, 'squared_error = 0.0\\nsamples = 1\\nvalue = 58000.0'),\n",
       " Text(0.04493068930598537, 0.578125, 'X[0] <= 3300.0\\nsquared_error = 41200014.75\\nsamples = 12\\nvalue = 57731.5'),\n",
       " Text(0.04474915116737533, 0.546875, 'X[4] <= 11.0\\nsquared_error = 40333312.0\\nsamples = 9\\nvalue = 59642.0'),\n",
       " Text(0.04429530582085022, 0.515625, 'X[0] <= 1061.5\\nsquared_error = 7918367.347\\nsamples = 7\\nvalue = 62285.714'),\n",
       " Text(0.04393222954363014, 0.484375, 'X[0] <= 534.0\\nsquared_error = 2250000.0\\nsamples = 2\\nvalue = 58500.0'),\n",
       " Text(0.043750691405020095, 0.453125, 'squared_error = 0.0\\nsamples = 1\\nvalue = 60000.0'),\n",
       " Text(0.04411376768224018, 0.453125, 'squared_error = 0.0\\nsamples = 1\\nvalue = 57000.0'),\n",
       " Text(0.044658382098070305, 0.484375, 'X[2] <= 2.5\\nsquared_error = 2160000.0\\nsamples = 5\\nvalue = 63800.0'),\n",
       " Text(0.04447684395946026, 0.453125, 'X[0] <= 2504.5\\nsquared_error = 2000000.0\\nsamples = 3\\nvalue = 63000.0'),\n",
       " Text(0.04429530582085022, 0.421875, 'squared_error = 0.0\\nsamples = 2\\nvalue = 62000.0'),\n",
       " Text(0.044658382098070305, 0.421875, 'squared_error = 0.0\\nsamples = 1\\nvalue = 65000.0'),\n",
       " Text(0.04483992023668035, 0.453125, 'squared_error = 0.0\\nsamples = 2\\nvalue = 65000.0'),\n",
       " Text(0.04520299651390043, 0.515625, 'X[0] <= 2074.0\\nsquared_error = 43705321.0\\nsamples = 2\\nvalue = 50389.0'),\n",
       " Text(0.04502145837529039, 0.484375, 'squared_error = 0.0\\nsamples = 1\\nvalue = 43778.0'),\n",
       " Text(0.04538453465251047, 0.484375, 'squared_error = 0.0\\nsamples = 1\\nvalue = 57000.0'),\n",
       " Text(0.045112227444595414, 0.546875, 'squared_error = 0.0\\nsamples = 3\\nvalue = 52000.0'),\n",
       " Text(0.0463829944148657, 0.609375, 'X[4] <= 4.5\\nsquared_error = 27261909.467\\nsamples = 13\\nvalue = 46229.615'),\n",
       " Text(0.04565684186042554, 0.578125, 'X[0] <= 5607.0\\nsquared_error = 20666666.667\\nsamples = 3\\nvalue = 40000.0'),\n",
       " Text(0.0454753037218155, 0.546875, 'squared_error = 0.0\\nsamples = 1\\nvalue = 46000.0'),\n",
       " Text(0.04583837999903558, 0.546875, 'X[0] <= 6642.5\\nsquared_error = 4000000.0\\nsamples = 2\\nvalue = 37000.0'),\n",
       " Text(0.04565684186042554, 0.515625, 'squared_error = 0.0\\nsamples = 1\\nvalue = 39000.0'),\n",
       " Text(0.046019918137645624, 0.515625, 'squared_error = 0.0\\nsamples = 1\\nvalue = 35000.0'),\n",
       " Text(0.04710914696930587, 0.578125, 'X[2] <= 2.5\\nsquared_error = 14105320.25\\nsamples = 10\\nvalue = 48098.5'),\n",
       " Text(0.04656453255347574, 0.546875, 'X[0] <= 6559.5\\nsquared_error = 8000000.0\\nsamples = 3\\nvalue = 52000.0'),\n",
       " Text(0.0463829944148657, 0.515625, 'squared_error = 0.0\\nsamples = 2\\nvalue = 54000.0'),\n",
       " Text(0.046746070692085785, 0.515625, 'squared_error = 0.0\\nsamples = 1\\nvalue = 48000.0'),\n",
       " Text(0.047653761385135995, 0.546875, 'X[4] <= 7.0\\nsquared_error = 7402476.531\\nsamples = 7\\nvalue = 46426.429'),\n",
       " Text(0.04710914696930587, 0.515625, 'X[3] <= 117.5\\nsquared_error = 2750000.0\\nsamples = 4\\nvalue = 48500.0'),\n",
       " Text(0.04692760883069583, 0.484375, 'squared_error = 0.0\\nsamples = 2\\nvalue = 50000.0'),\n",
       " Text(0.04729068510791591, 0.484375, 'X[0] <= 6400.0\\nsquared_error = 1000000.0\\nsamples = 2\\nvalue = 47000.0'),\n",
       " Text(0.04710914696930587, 0.453125, 'squared_error = 0.0\\nsamples = 1\\nvalue = 48000.0'),\n",
       " Text(0.04747222324652595, 0.453125, 'squared_error = 0.0\\nsamples = 1\\nvalue = 46000.0'),\n",
       " Text(0.04819837580096612, 0.515625, 'X[3] <= 117.5\\nsquared_error = 228938.889\\nsamples = 3\\nvalue = 43661.667'),\n",
       " Text(0.04801683766235608, 0.484375, 'X[0] <= 5700.0\\nsquared_error = 257556.25\\nsamples = 2\\nvalue = 43492.5'),\n",
       " Text(0.04783529952374604, 0.453125, 'squared_error = 0.0\\nsamples = 1\\nvalue = 44000.0'),\n",
       " Text(0.04819837580096612, 0.453125, 'squared_error = 0.0\\nsamples = 1\\nvalue = 42985.0'),\n",
       " Text(0.048379913939576163, 0.484375, 'squared_error = 0.0\\nsamples = 1\\nvalue = 44000.0'),\n",
       " Text(0.04874299021679625, 0.640625, 'X[0] <= 7623.0\\nsquared_error = 82199183.673\\nsamples = 7\\nvalue = 62371.429'),\n",
       " Text(0.048561452078186206, 0.609375, 'squared_error = 0.0\\nsamples = 2\\nvalue = 75000.0'),\n",
       " Text(0.04892452835540629, 0.609375, 'X[2] <= 2.5\\nsquared_error = 25769600.0\\nsamples = 5\\nvalue = 57320.0'),\n",
       " Text(0.048561452078186206, 0.578125, 'X[0] <= 7879.0\\nsquared_error = 8968888.889\\nsamples = 3\\nvalue = 53866.667'),\n",
       " Text(0.048379913939576163, 0.546875, 'squared_error = 0.0\\nsamples = 1\\nvalue = 58000.0'),\n",
       " Text(0.04874299021679625, 0.546875, 'X[3] <= 117.5\\nsquared_error = 640000.0\\nsamples = 2\\nvalue = 51800.0'),\n",
       " Text(0.048561452078186206, 0.515625, 'squared_error = 0.0\\nsamples = 1\\nvalue = 52600.0'),\n",
       " Text(0.04892452835540629, 0.515625, 'squared_error = 0.0\\nsamples = 1\\nvalue = 51000.0'),\n",
       " Text(0.049287604632626374, 0.578125, 'X[3] <= 117.5\\nsquared_error = 6250000.0\\nsamples = 2\\nvalue = 62500.0'),\n",
       " Text(0.04910606649401633, 0.546875, 'squared_error = 0.0\\nsamples = 1\\nvalue = 65000.0'),\n",
       " Text(0.049469142771236416, 0.546875, 'squared_error = 0.0\\nsamples = 1\\nvalue = 60000.0'),\n",
       " Text(0.05276519460037499, 0.703125, 'X[4] <= 4.5\\nsquared_error = 48631185.184\\nsamples = 53\\nvalue = 46890.283'),\n",
       " Text(0.05092144788011675, 0.671875, 'X[0] <= 13743.5\\nsquared_error = 22344106.359\\nsamples = 16\\nvalue = 41875.125'),\n",
       " Text(0.050195295325676584, 0.640625, 'X[0] <= 12908.0\\nsquared_error = 27583333.333\\nsamples = 6\\nvalue = 37900.0'),\n",
       " Text(0.0498322190484565, 0.609375, 'X[0] <= 9711.5\\nsquared_error = 9530000.0\\nsamples = 4\\nvalue = 41100.0'),\n",
       " Text(0.04965068090984646, 0.578125, 'squared_error = 0.0\\nsamples = 1\\nvalue = 46400.0'),\n",
       " Text(0.05001375718706654, 0.578125, 'X[0] <= 11365.5\\nsquared_error = 222222.222\\nsamples = 3\\nvalue = 39333.333'),\n",
       " Text(0.0498322190484565, 0.546875, 'squared_error = 0.0\\nsamples = 2\\nvalue = 39000.0'),\n",
       " Text(0.050195295325676584, 0.546875, 'squared_error = 0.0\\nsamples = 1\\nvalue = 40000.0'),\n",
       " Text(0.05055837160289667, 0.609375, 'X[3] <= 117.5\\nsquared_error = 2250000.0\\nsamples = 2\\nvalue = 31500.0'),\n",
       " Text(0.050376833464286626, 0.578125, 'squared_error = 0.0\\nsamples = 1\\nvalue = 33000.0'),\n",
       " Text(0.05073990974150671, 0.578125, 'squared_error = 0.0\\nsamples = 1\\nvalue = 30000.0'),\n",
       " Text(0.05164760043455692, 0.640625, 'X[3] <= 117.5\\nsquared_error = 4031016.16\\nsamples = 10\\nvalue = 44260.2'),\n",
       " Text(0.051284524157336836, 0.609375, 'X[0] <= 16307.0\\nsquared_error = 3260000.0\\nsamples = 5\\nvalue = 42800.0'),\n",
       " Text(0.051102986018726794, 0.578125, 'squared_error = 0.0\\nsamples = 1\\nvalue = 39500.0'),\n",
       " Text(0.05146606229594688, 0.578125, 'X[0] <= 22413.5\\nsquared_error = 671875.0\\nsamples = 4\\nvalue = 43625.0'),\n",
       " Text(0.051284524157336836, 0.546875, 'X[2] <= 2.5\\nsquared_error = 562500.0\\nsamples = 2\\nvalue = 44250.0'),\n",
       " Text(0.051102986018726794, 0.515625, 'squared_error = 0.0\\nsamples = 1\\nvalue = 43500.0'),\n",
       " Text(0.05146606229594688, 0.515625, 'squared_error = 0.0\\nsamples = 1\\nvalue = 45000.0'),\n",
       " Text(0.05164760043455692, 0.546875, 'squared_error = 0.0\\nsamples = 2\\nvalue = 43000.0'),\n",
       " Text(0.052010676711777004, 0.609375, 'X[0] <= 14482.5\\nsquared_error = 537664.24\\nsamples = 5\\nvalue = 45720.4'),\n",
       " Text(0.05182913857316696, 0.578125, 'squared_error = 0.0\\nsamples = 1\\nvalue = 47000.0'),\n",
       " Text(0.052192214850387046, 0.578125, 'X[0] <= 16118.5\\nsquared_error = 160400.25\\nsamples = 4\\nvalue = 45400.5'),\n",
       " Text(0.052010676711777004, 0.546875, 'squared_error = 0.0\\nsamples = 2\\nvalue = 45801.0'),\n",
       " Text(0.05237375298899709, 0.546875, 'squared_error = 0.0\\nsamples = 2\\nvalue = 45000.0'),\n",
       " Text(0.05460894132063323, 0.671875, 'X[2] <= 2.5\\nsquared_error = 44418778.919\\nsamples = 37\\nvalue = 49059.0'),\n",
       " Text(0.053099905543437256, 0.640625, 'X[0] <= 20246.0\\nsquared_error = 49838818.0\\nsamples = 8\\nvalue = 55141.0'),\n",
       " Text(0.052918367404827214, 0.609375, 'X[0] <= 10792.0\\nsquared_error = 3713346.122\\nsamples = 7\\nvalue = 52561.143'),\n",
       " Text(0.05273682926621717, 0.578125, 'squared_error = 0.0\\nsamples = 1\\nvalue = 56500.0'),\n",
       " Text(0.053099905543437256, 0.578125, 'X[0] <= 12161.0\\nsquared_error = 1315510.222\\nsamples = 6\\nvalue = 51904.667'),\n",
       " Text(0.05273682926621717, 0.546875, 'X[0] <= 11792.0\\nsquared_error = 250000.0\\nsamples = 2\\nvalue = 50500.0'),\n",
       " Text(0.05255529112760713, 0.515625, 'squared_error = 0.0\\nsamples = 1\\nvalue = 50000.0'),\n",
       " Text(0.052918367404827214, 0.515625, 'squared_error = 0.0\\nsamples = 1\\nvalue = 51000.0'),\n",
       " Text(0.05346298182065734, 0.546875, 'X[0] <= 13907.0\\nsquared_error = 368449.0\\nsamples = 4\\nvalue = 52607.0'),\n",
       " Text(0.0532814436820473, 0.515625, 'squared_error = 0.0\\nsamples = 2\\nvalue = 52000.0'),\n",
       " Text(0.05364451995926738, 0.515625, 'squared_error = 0.0\\nsamples = 2\\nvalue = 53214.0'),\n",
       " Text(0.0532814436820473, 0.609375, 'squared_error = 0.0\\nsamples = 1\\nvalue = 73200.0'),\n",
       " Text(0.0561179770978292, 0.640625, 'X[3] <= 117.5\\nsquared_error = 29904268.371\\nsamples = 29\\nvalue = 47381.207'),\n",
       " Text(0.05523297867210525, 0.609375, 'X[4] <= 12.0\\nsquared_error = 24972188.965\\nsamples = 16\\nvalue = 44659.688'),\n",
       " Text(0.05464297972162261, 0.578125, 'X[0] <= 11788.5\\nsquared_error = 20187500.0\\nsamples = 12\\nvalue = 43250.0'),\n",
       " Text(0.05418913437509751, 0.546875, 'X[0] <= 10842.0\\nsquared_error = 15250000.0\\nsamples = 6\\nvalue = 45500.0'),\n",
       " Text(0.054007596236487466, 0.515625, 'X[0] <= 9429.5\\nsquared_error = 7687500.0\\nsamples = 4\\nvalue = 43250.0'),\n",
       " Text(0.053826058097877424, 0.484375, 'squared_error = 0.0\\nsamples = 2\\nvalue = 46000.0'),\n",
       " Text(0.05418913437509751, 0.484375, 'X[0] <= 10130.5\\nsquared_error = 250000.0\\nsamples = 2\\nvalue = 40500.0'),\n",
       " Text(0.054007596236487466, 0.453125, 'squared_error = 0.0\\nsamples = 1\\nvalue = 41000.0'),\n",
       " Text(0.05437067251370755, 0.453125, 'squared_error = 0.0\\nsamples = 1\\nvalue = 40000.0'),\n",
       " Text(0.05437067251370755, 0.515625, 'squared_error = 0.0\\nsamples = 2\\nvalue = 50000.0'),\n",
       " Text(0.05509682506814772, 0.546875, 'X[4] <= 7.0\\nsquared_error = 15000000.0\\nsamples = 6\\nvalue = 41000.0'),\n",
       " Text(0.054733748790927635, 0.515625, 'X[0] <= 19733.5\\nsquared_error = 3555555.556\\nsamples = 3\\nvalue = 44333.333'),\n",
       " Text(0.05455221065231759, 0.484375, 'squared_error = 0.0\\nsamples = 2\\nvalue = 43000.0'),\n",
       " Text(0.05491528692953768, 0.484375, 'squared_error = 0.0\\nsamples = 1\\nvalue = 47000.0'),\n",
       " Text(0.055459901345367796, 0.515625, 'X[0] <= 15092.0\\nsquared_error = 4222222.222\\nsamples = 3\\nvalue = 37666.667'),\n",
       " Text(0.055278363206757754, 0.484375, 'squared_error = 0.0\\nsamples = 1\\nvalue = 40000.0'),\n",
       " Text(0.05564143948397784, 0.484375, 'X[0] <= 19451.5\\nsquared_error = 2250000.0\\nsamples = 2\\nvalue = 36500.0'),\n",
       " Text(0.055459901345367796, 0.453125, 'squared_error = 0.0\\nsamples = 1\\nvalue = 35000.0'),\n",
       " Text(0.05582297762258788, 0.453125, 'squared_error = 0.0\\nsamples = 1\\nvalue = 38000.0'),\n",
       " Text(0.05582297762258788, 0.578125, 'X[0] <= 16300.0\\nsquared_error = 15479629.688\\nsamples = 4\\nvalue = 48888.75'),\n",
       " Text(0.05564143948397784, 0.546875, 'squared_error = 0.0\\nsamples = 1\\nvalue = 55555.0'),\n",
       " Text(0.05600451576119792, 0.546875, 'X[0] <= 41539.0\\nsquared_error = 888888.889\\nsamples = 3\\nvalue = 46666.667'),\n",
       " Text(0.05582297762258788, 0.515625, 'squared_error = 0.0\\nsamples = 1\\nvalue = 48000.0'),\n",
       " Text(0.056186053899807964, 0.515625, 'squared_error = 0.0\\nsamples = 2\\nvalue = 46000.0'),\n",
       " Text(0.05700297552355316, 0.609375, 'X[0] <= 12082.0\\nsquared_error = 15639053.254\\nsamples = 13\\nvalue = 50730.769'),\n",
       " Text(0.05654913017702805, 0.578125, 'X[0] <= 10058.5\\nsquared_error = 7562500.0\\nsamples = 2\\nvalue = 44750.0'),\n",
       " Text(0.056367592038418006, 0.546875, 'squared_error = 0.0\\nsamples = 1\\nvalue = 42000.0'),\n",
       " Text(0.05673066831563809, 0.546875, 'squared_error = 0.0\\nsamples = 1\\nvalue = 47500.0'),\n",
       " Text(0.05745682087007826, 0.578125, 'X[0] <= 16812.5\\nsquared_error = 9421487.603\\nsamples = 11\\nvalue = 51818.182'),\n",
       " Text(0.057093744592858174, 0.546875, 'X[4] <= 11.0\\nsquared_error = 12805555.556\\nsamples = 6\\nvalue = 50833.333'),\n",
       " Text(0.05691220645424813, 0.515625, 'squared_error = 0.0\\nsamples = 2\\nvalue = 55000.0'),\n",
       " Text(0.057275282731468216, 0.515625, 'X[1] <= 1.5\\nsquared_error = 6187500.0\\nsamples = 4\\nvalue = 48750.0'),\n",
       " Text(0.057093744592858174, 0.484375, 'X[0] <= 15722.5\\nsquared_error = 2250000.0\\nsamples = 2\\nvalue = 46500.0'),\n",
       " Text(0.05691220645424813, 0.453125, 'squared_error = 0.0\\nsamples = 1\\nvalue = 48000.0'),\n",
       " Text(0.057275282731468216, 0.453125, 'squared_error = 0.0\\nsamples = 1\\nvalue = 45000.0'),\n",
       " Text(0.05745682087007826, 0.484375, 'squared_error = 0.0\\nsamples = 2\\nvalue = 51000.0'),\n",
       " Text(0.05781989714729834, 0.546875, 'X[4] <= 11.0\\nsquared_error = 2800000.0\\nsamples = 5\\nvalue = 53000.0'),\n",
       " Text(0.0576383590086883, 0.515625, 'squared_error = 0.0\\nsamples = 2\\nvalue = 51000.0'),\n",
       " Text(0.058001435285908384, 0.515625, 'X[0] <= 17728.0\\nsquared_error = 222222.222\\nsamples = 3\\nvalue = 54333.333'),\n",
       " Text(0.05781989714729834, 0.484375, 'squared_error = 0.0\\nsamples = 1\\nvalue = 55000.0'),\n",
       " Text(0.058182973424518426, 0.484375, 'squared_error = 0.0\\nsamples = 2\\nvalue = 54000.0'),\n",
       " Text(0.06867885619626542, 0.734375, 'X[0] <= 8015.0\\nsquared_error = 68236473.196\\nsamples = 196\\nvalue = 39194.653'),\n",
       " Text(0.06090604550366906, 0.703125, 'X[2] <= 4.5\\nsquared_error = 74178757.987\\nsamples = 34\\nvalue = 46738.206'),\n",
       " Text(0.059816816672008805, 0.671875, 'X[3] <= 117.5\\nsquared_error = 72175885.581\\nsamples = 22\\nvalue = 49786.318'),\n",
       " Text(0.058909125978958594, 0.640625, 'X[0] <= 3250.0\\nsquared_error = 63495857.265\\nsamples = 7\\nvalue = 43499.857'),\n",
       " Text(0.05872758784034855, 0.609375, 'squared_error = 0.0\\nsamples = 1\\nvalue = 57999.0'),\n",
       " Text(0.059090664117568636, 0.609375, 'X[0] <= 6415.0\\nsquared_error = 33201388.889\\nsamples = 6\\nvalue = 41083.333'),\n",
       " Text(0.058909125978958594, 0.578125, 'X[0] <= 4369.0\\nsquared_error = 30960000.0\\nsamples = 5\\nvalue = 42300.0'),\n",
       " Text(0.05854604970173851, 0.546875, 'X[4] <= 7.0\\nsquared_error = 20055555.556\\nsamples = 3\\nvalue = 40166.667'),\n",
       " Text(0.05836451156312847, 0.515625, 'squared_error = 0.0\\nsamples = 1\\nvalue = 46500.0'),\n",
       " Text(0.05872758784034855, 0.515625, 'squared_error = 0.0\\nsamples = 2\\nvalue = 37000.0'),\n",
       " Text(0.05927220225617868, 0.546875, 'X[0] <= 4834.5\\nsquared_error = 30250000.0\\nsamples = 2\\nvalue = 45500.0'),\n",
       " Text(0.059090664117568636, 0.515625, 'squared_error = 0.0\\nsamples = 1\\nvalue = 51000.0'),\n",
       " Text(0.05945374039478872, 0.515625, 'squared_error = 0.0\\nsamples = 1\\nvalue = 40000.0'),\n",
       " Text(0.05927220225617868, 0.578125, 'squared_error = 0.0\\nsamples = 1\\nvalue = 35000.0'),\n",
       " Text(0.060724507365059015, 0.640625, 'X[0] <= 7940.0\\nsquared_error = 49177600.0\\nsamples = 15\\nvalue = 52720.0'),\n",
       " Text(0.06054296922644897, 0.609375, 'X[0] <= 7769.0\\nsquared_error = 51794556.213\\nsamples = 13\\nvalue = 51907.692'),\n",
       " Text(0.06036143108783893, 0.578125, 'X[0] <= 1204.5\\nsquared_error = 48947500.0\\nsamples = 12\\nvalue = 52650.0'),\n",
       " Text(0.05999835481061885, 0.546875, 'X[3] <= 130.0\\nsquared_error = 6250000.0\\nsamples = 2\\nvalue = 57500.0'),\n",
       " Text(0.059816816672008805, 0.515625, 'squared_error = 0.0\\nsamples = 1\\nvalue = 55000.0'),\n",
       " Text(0.06017989294922889, 0.515625, 'squared_error = 0.0\\nsamples = 1\\nvalue = 60000.0'),\n",
       " Text(0.060724507365059015, 0.546875, 'X[0] <= 2454.5\\nsquared_error = 51841600.0\\nsamples = 10\\nvalue = 51680.0'),\n",
       " Text(0.06054296922644897, 0.515625, 'squared_error = 0.0\\nsamples = 1\\nvalue = 35000.0'),\n",
       " Text(0.06090604550366906, 0.515625, 'X[4] <= 5.5\\nsquared_error = 23253333.333\\nsamples = 9\\nvalue = 53533.333'),\n",
       " Text(0.060270662018533906, 0.484375, 'X[0] <= 5150.0\\nsquared_error = 4222222.222\\nsamples = 3\\nvalue = 47333.333'),\n",
       " Text(0.060089123879923864, 0.453125, 'squared_error = 0.0\\nsamples = 1\\nvalue = 50000.0'),\n",
       " Text(0.06045220015714395, 0.453125, 'X[3] <= 130.0\\nsquared_error = 1000000.0\\nsamples = 2\\nvalue = 46000.0'),\n",
       " Text(0.060270662018533906, 0.421875, 'squared_error = 0.0\\nsamples = 1\\nvalue = 47000.0'),\n",
       " Text(0.06063373829575399, 0.421875, 'squared_error = 0.0\\nsamples = 1\\nvalue = 45000.0'),\n",
       " Text(0.0615414289888042, 0.484375, 'X[0] <= 7579.0\\nsquared_error = 3938888.889\\nsamples = 6\\nvalue = 56633.333'),\n",
       " Text(0.06135989085019416, 0.453125, 'X[0] <= 4750.0\\nsquared_error = 3062400.0\\nsamples = 5\\nvalue = 57160.0'),\n",
       " Text(0.060996814572974074, 0.421875, 'X[0] <= 3500.0\\nsquared_error = 160000.0\\nsamples = 2\\nvalue = 55400.0'),\n",
       " Text(0.06081527643436403, 0.390625, 'squared_error = 0.0\\nsamples = 1\\nvalue = 55000.0'),\n",
       " Text(0.061178352711584116, 0.390625, 'squared_error = 0.0\\nsamples = 1\\nvalue = 55800.0'),\n",
       " Text(0.06172296712741424, 0.421875, 'X[0] <= 6250.0\\nsquared_error = 1555555.556\\nsamples = 3\\nvalue = 58333.333'),\n",
       " Text(0.0615414289888042, 0.390625, 'squared_error = 0.0\\nsamples = 1\\nvalue = 60000.0'),\n",
       " Text(0.061904505266024284, 0.390625, 'X[4] <= 11.0\\nsquared_error = 250000.0\\nsamples = 2\\nvalue = 57500.0'),\n",
       " Text(0.06172296712741424, 0.359375, 'squared_error = 0.0\\nsamples = 1\\nvalue = 58000.0'),\n",
       " Text(0.062086043404634327, 0.359375, 'squared_error = 0.0\\nsamples = 1\\nvalue = 57000.0'),\n",
       " Text(0.06172296712741424, 0.453125, 'squared_error = 0.0\\nsamples = 1\\nvalue = 54000.0'),\n",
       " Text(0.060724507365059015, 0.578125, 'squared_error = 0.0\\nsamples = 1\\nvalue = 43000.0'),\n",
       " Text(0.06090604550366906, 0.609375, 'squared_error = 0.0\\nsamples = 2\\nvalue = 58000.0'),\n",
       " Text(0.06199527433532931, 0.671875, 'X[4] <= 12.0\\nsquared_error = 29589166.667\\nsamples = 12\\nvalue = 41150.0'),\n",
       " Text(0.06145065991949918, 0.640625, 'X[0] <= 6720.0\\nsquared_error = 17672343.75\\nsamples = 8\\nvalue = 38662.5'),\n",
       " Text(0.06126912178088914, 0.609375, 'squared_error = 0.0\\nsamples = 2\\nvalue = 36000.0'),\n",
       " Text(0.061632198058109225, 0.609375, 'X[4] <= 4.0\\nsquared_error = 20412500.0\\nsamples = 6\\nvalue = 39550.0'),\n",
       " Text(0.06145065991949918, 0.578125, 'squared_error = 0.0\\nsamples = 1\\nvalue = 48500.0'),\n",
       " Text(0.06181373619671927, 0.578125, 'X[0] <= 7750.0\\nsquared_error = 5270400.0\\nsamples = 5\\nvalue = 37760.0'),\n",
       " Text(0.061632198058109225, 0.546875, 'X[4] <= 6.5\\nsquared_error = 320000.0\\nsamples = 3\\nvalue = 39600.0'),\n",
       " Text(0.06145065991949918, 0.515625, 'squared_error = 0.0\\nsamples = 1\\nvalue = 38800.0'),\n",
       " Text(0.06181373619671927, 0.515625, 'squared_error = 0.0\\nsamples = 2\\nvalue = 40000.0'),\n",
       " Text(0.06199527433532931, 0.546875, 'squared_error = 0.0\\nsamples = 2\\nvalue = 35000.0'),\n",
       " Text(0.06253988875115943, 0.640625, 'X[0] <= 7750.0\\nsquared_error = 16296875.0\\nsamples = 4\\nvalue = 46125.0'),\n",
       " Text(0.06235835061254939, 0.609375, 'X[0] <= 4947.0\\nsquared_error = 5055555.556\\nsamples = 3\\nvalue = 48166.667'),\n",
       " Text(0.06217681247393935, 0.578125, 'squared_error = 0.0\\nsamples = 1\\nvalue = 45000.0'),\n",
       " Text(0.06253988875115943, 0.578125, 'X[0] <= 6250.0\\nsquared_error = 62500.0\\nsamples = 2\\nvalue = 49750.0'),\n",
       " Text(0.06235835061254939, 0.546875, 'squared_error = 0.0\\nsamples = 1\\nvalue = 49500.0'),\n",
       " Text(0.06272142688976948, 0.546875, 'squared_error = 0.0\\nsamples = 1\\nvalue = 50000.0'),\n",
       " Text(0.06272142688976948, 0.609375, 'squared_error = 0.0\\nsamples = 1\\nvalue = 40000.0'),\n",
       " Text(0.07645166688886178, 0.703125, 'X[0] <= 21081.5\\nsquared_error = 52539693.542\\nsamples = 162\\nvalue = 37611.438'),\n",
       " Text(0.07383851047957271, 0.671875, 'X[0] <= 20588.5\\nsquared_error = 50479324.747\\nsamples = 99\\nvalue = 39698.333'),\n",
       " Text(0.07143100274292781, 0.640625, 'X[0] <= 17864.5\\nsquared_error = 49082470.529\\nsamples = 91\\nvalue = 39267.418'),\n",
       " Text(0.06815906144782338, 0.609375, 'X[0] <= 17664.5\\nsquared_error = 50516736.113\\nsamples = 82\\nvalue = 39802.378'),\n",
       " Text(0.06797752330921335, 0.578125, 'X[4] <= 5.5\\nsquared_error = 48060677.305\\nsamples = 81\\nvalue = 39608.58'),\n",
       " Text(0.0648318077511112, 0.546875, 'X[0] <= 15310.5\\nsquared_error = 23763333.333\\nsamples = 18\\nvalue = 37066.667'),\n",
       " Text(0.06358373304816717, 0.515625, 'X[3] <= 130.0\\nsquared_error = 8734722.222\\nsamples = 12\\nvalue = 39516.667'),\n",
       " Text(0.06272142688976948, 0.484375, 'X[0] <= 10600.0\\nsquared_error = 11936734.694\\nsamples = 7\\nvalue = 38742.857'),\n",
       " Text(0.06226758154324437, 0.453125, 'X[0] <= 9115.0\\nsquared_error = 16000000.0\\nsamples = 2\\nvalue = 41000.0'),\n",
       " Text(0.062086043404634327, 0.421875, 'squared_error = 0.0\\nsamples = 1\\nvalue = 37000.0'),\n",
       " Text(0.06244911968185441, 0.421875, 'squared_error = 0.0\\nsamples = 1\\nvalue = 45000.0'),\n",
       " Text(0.06317527223629459, 0.453125, 'X[0] <= 13415.0\\nsquared_error = 7458400.0\\nsamples = 5\\nvalue = 37840.0'),\n",
       " Text(0.0628121959590745, 0.421875, 'X[2] <= 4.5\\nsquared_error = 642222.222\\nsamples = 3\\nvalue = 36133.333'),\n",
       " Text(0.06263065782046445, 0.390625, 'squared_error = 0.0\\nsamples = 2\\nvalue = 36700.0'),\n",
       " Text(0.06299373409768454, 0.390625, 'squared_error = 0.0\\nsamples = 1\\nvalue = 35000.0'),\n",
       " Text(0.06353834851351467, 0.421875, 'X[0] <= 14250.0\\nsquared_error = 6760000.0\\nsamples = 2\\nvalue = 40400.0'),\n",
       " Text(0.06335681037490462, 0.390625, 'squared_error = 0.0\\nsamples = 1\\nvalue = 43000.0'),\n",
       " Text(0.0637198866521247, 0.390625, 'squared_error = 0.0\\nsamples = 1\\nvalue = 37800.0'),\n",
       " Text(0.06444603920656487, 0.484375, 'X[0] <= 11374.0\\nsquared_error = 2240000.0\\nsamples = 5\\nvalue = 40600.0'),\n",
       " Text(0.06408296292934479, 0.453125, 'X[0] <= 9781.5\\nsquared_error = 1000000.0\\nsamples = 2\\nvalue = 39000.0'),\n",
       " Text(0.06390142479073475, 0.421875, 'squared_error = 0.0\\nsamples = 1\\nvalue = 40000.0'),\n",
       " Text(0.06426450106795484, 0.421875, 'squared_error = 0.0\\nsamples = 1\\nvalue = 38000.0'),\n",
       " Text(0.06480911548378496, 0.453125, 'X[2] <= 4.5\\nsquared_error = 222222.222\\nsamples = 3\\nvalue = 41666.667'),\n",
       " Text(0.06462757734517491, 0.421875, 'squared_error = 0.0\\nsamples = 1\\nvalue = 41000.0'),\n",
       " Text(0.06499065362239499, 0.421875, 'squared_error = 0.0\\nsamples = 2\\nvalue = 42000.0'),\n",
       " Text(0.06607988245405524, 0.515625, 'X[4] <= 4.0\\nsquared_error = 17805555.556\\nsamples = 6\\nvalue = 32166.667'),\n",
       " Text(0.06571680617683516, 0.484375, 'X[1] <= 1.5\\nsquared_error = 1500000.0\\nsamples = 4\\nvalue = 35000.0'),\n",
       " Text(0.06553526803822513, 0.453125, 'X[0] <= 16454.5\\nsquared_error = 1000000.0\\nsamples = 2\\nvalue = 36000.0'),\n",
       " Text(0.06535372989961508, 0.421875, 'squared_error = 0.0\\nsamples = 1\\nvalue = 35000.0'),\n",
       " Text(0.06571680617683516, 0.421875, 'squared_error = 0.0\\nsamples = 1\\nvalue = 37000.0'),\n",
       " Text(0.06589834431544521, 0.453125, 'squared_error = 0.0\\nsamples = 2\\nvalue = 34000.0'),\n",
       " Text(0.06644295873127533, 0.484375, 'X[0] <= 16037.5\\nsquared_error = 2250000.0\\nsamples = 2\\nvalue = 26500.0'),\n",
       " Text(0.0662614205926653, 0.453125, 'squared_error = 0.0\\nsamples = 1\\nvalue = 25000.0'),\n",
       " Text(0.06662449686988538, 0.453125, 'squared_error = 0.0\\nsamples = 1\\nvalue = 28000.0'),\n",
       " Text(0.07112323886731547, 0.546875, 'X[4] <= 6.5\\nsquared_error = 52629227.753\\nsamples = 63\\nvalue = 40334.841'),\n",
       " Text(0.0689731465381528, 0.515625, 'X[0] <= 11930.0\\nsquared_error = 41641306.122\\nsamples = 35\\nvalue = 42042.857'),\n",
       " Text(0.06773641796887188, 0.484375, 'X[0] <= 10854.5\\nsquared_error = 41530585.938\\nsamples = 16\\nvalue = 39606.25'),\n",
       " Text(0.06698757314710546, 0.453125, 'X[2] <= 4.5\\nsquared_error = 43276859.504\\nsamples = 11\\nvalue = 41863.636'),\n",
       " Text(0.0663068051273178, 0.421875, 'X[3] <= 117.5\\nsquared_error = 16888888.889\\nsamples = 3\\nvalue = 50333.333'),\n",
       " Text(0.06612526698870776, 0.390625, 'squared_error = 0.0\\nsamples = 1\\nvalue = 45000.0'),\n",
       " Text(0.06648834326592784, 0.390625, 'X[0] <= 10400.0\\nsquared_error = 4000000.0\\nsamples = 2\\nvalue = 53000.0'),\n",
       " Text(0.0663068051273178, 0.359375, 'squared_error = 0.0\\nsamples = 1\\nvalue = 55000.0'),\n",
       " Text(0.06666988140453789, 0.359375, 'squared_error = 0.0\\nsamples = 1\\nvalue = 51000.0'),\n",
       " Text(0.06766834116689312, 0.421875, 'X[0] <= 8843.5\\nsquared_error = 16183593.75\\nsamples = 8\\nvalue = 38687.5'),\n",
       " Text(0.06721449582036801, 0.390625, 'X[1] <= 1.5\\nsquared_error = 222222.222\\nsamples = 3\\nvalue = 36333.333'),\n",
       " Text(0.06703295768175797, 0.359375, 'squared_error = 0.0\\nsamples = 1\\nvalue = 37000.0'),\n",
       " Text(0.06739603395897806, 0.359375, 'squared_error = 0.0\\nsamples = 2\\nvalue = 36000.0'),\n",
       " Text(0.06812218651341823, 0.390625, 'X[0] <= 10002.5\\nsquared_error = 20440000.0\\nsamples = 5\\nvalue = 40100.0'),\n",
       " Text(0.06775911023619814, 0.359375, 'X[0] <= 9500.0\\nsquared_error = 5555555.556\\nsamples = 3\\nvalue = 42666.667'),\n",
       " Text(0.06757757209758809, 0.328125, 'squared_error = 0.0\\nsamples = 1\\nvalue = 46000.0'),\n",
       " Text(0.06794064837480818, 0.328125, 'squared_error = 0.0\\nsamples = 2\\nvalue = 41000.0'),\n",
       " Text(0.06848526279063831, 0.359375, 'X[0] <= 10247.0\\nsquared_error = 18062500.0\\nsamples = 2\\nvalue = 36250.0'),\n",
       " Text(0.06830372465202826, 0.328125, 'squared_error = 0.0\\nsamples = 1\\nvalue = 32000.0'),\n",
       " Text(0.06866680092924834, 0.328125, 'squared_error = 0.0\\nsamples = 1\\nvalue = 40500.0'),\n",
       " Text(0.06848526279063831, 0.453125, 'X[0] <= 11077.5\\nsquared_error = 1814400.0\\nsamples = 5\\nvalue = 34640.0'),\n",
       " Text(0.06830372465202826, 0.421875, 'squared_error = 0.0\\nsamples = 1\\nvalue = 32000.0'),\n",
       " Text(0.06866680092924834, 0.421875, 'X[3] <= 117.5\\nsquared_error = 90000.0\\nsamples = 4\\nvalue = 35300.0'),\n",
       " Text(0.06848526279063831, 0.390625, 'squared_error = 0.0\\nsamples = 2\\nvalue = 35600.0'),\n",
       " Text(0.0688483390678584, 0.390625, 'squared_error = 0.0\\nsamples = 2\\nvalue = 35000.0'),\n",
       " Text(0.0702098751074337, 0.484375, 'X[3] <= 117.5\\nsquared_error = 32524709.141\\nsamples = 19\\nvalue = 44094.737'),\n",
       " Text(0.06921141534507848, 0.453125, 'X[0] <= 13044.0\\nsquared_error = 24887755.102\\nsamples = 7\\nvalue = 40928.571'),\n",
       " Text(0.06902987720646843, 0.421875, 'squared_error = 0.0\\nsamples = 2\\nvalue = 46000.0'),\n",
       " Text(0.06939295348368851, 0.421875, 'X[0] <= 13641.0\\nsquared_error = 20440000.0\\nsamples = 5\\nvalue = 38900.0'),\n",
       " Text(0.06921141534507848, 0.390625, 'squared_error = 0.0\\nsamples = 1\\nvalue = 33000.0'),\n",
       " Text(0.06957449162229856, 0.390625, 'X[0] <= 17028.0\\nsquared_error = 14671875.0\\nsamples = 4\\nvalue = 40375.0'),\n",
       " Text(0.06939295348368851, 0.359375, 'X[2] <= 4.5\\nsquared_error = 4222222.222\\nsamples = 3\\nvalue = 42333.333'),\n",
       " Text(0.06921141534507848, 0.328125, 'squared_error = 0.0\\nsamples = 1\\nvalue = 45000.0'),\n",
       " Text(0.06957449162229856, 0.328125, 'X[0] <= 15584.0\\nsquared_error = 1000000.0\\nsamples = 2\\nvalue = 41000.0'),\n",
       " Text(0.06939295348368851, 0.296875, 'squared_error = 0.0\\nsamples = 1\\nvalue = 40000.0'),\n",
       " Text(0.0697560297609086, 0.296875, 'squared_error = 0.0\\nsamples = 1\\nvalue = 42000.0'),\n",
       " Text(0.0697560297609086, 0.359375, 'squared_error = 0.0\\nsamples = 1\\nvalue = 34500.0'),\n",
       " Text(0.07120833486978893, 0.453125, 'X[1] <= 1.5\\nsquared_error = 27720763.889\\nsamples = 12\\nvalue = 45941.667'),\n",
       " Text(0.0710267967311789, 0.421875, 'X[0] <= 17300.0\\nsquared_error = 22356900.0\\nsamples = 10\\nvalue = 47290.0'),\n",
       " Text(0.07084525859256885, 0.390625, 'X[0] <= 16278.5\\nsquared_error = 18280000.0\\nsamples = 9\\nvalue = 48100.0'),\n",
       " Text(0.07048218231534877, 0.359375, 'X[0] <= 15167.0\\nsquared_error = 3296875.0\\nsamples = 4\\nvalue = 48875.0'),\n",
       " Text(0.07030064417673873, 0.328125, 'X[0] <= 13648.5\\nsquared_error = 55555.556\\nsamples = 3\\nvalue = 47833.333'),\n",
       " Text(0.07011910603812868, 0.296875, 'squared_error = 0.0\\nsamples = 1\\nvalue = 47500.0'),\n",
       " Text(0.07048218231534877, 0.296875, 'squared_error = 0.0\\nsamples = 2\\nvalue = 48000.0'),\n",
       " Text(0.07066372045395881, 0.328125, 'squared_error = 0.0\\nsamples = 1\\nvalue = 52000.0'),\n",
       " Text(0.07120833486978893, 0.359375, 'X[2] <= 4.5\\nsquared_error = 29401600.0\\nsamples = 5\\nvalue = 47480.0'),\n",
       " Text(0.0710267967311789, 0.328125, 'squared_error = 0.0\\nsamples = 1\\nvalue = 42000.0'),\n",
       " Text(0.07138987300839897, 0.328125, 'squared_error = 27367500.0\\nsamples = 4\\nvalue = 48850.0'),\n",
       " Text(0.07120833486978893, 0.390625, 'squared_error = 0.0\\nsamples = 1\\nvalue = 40000.0'),\n",
       " Text(0.07138987300839897, 0.421875, 'squared_error = 0.0\\nsamples = 2\\nvalue = 39200.0'),\n",
       " Text(0.07327333119647816, 0.515625, 'X[4] <= 12.0\\nsquared_error = 58159172.29\\nsamples = 28\\nvalue = 38199.821'),\n",
       " Text(0.07211602556283914, 0.484375, 'X[3] <= 117.5\\nsquared_error = 14565696.0\\nsamples = 5\\nvalue = 29132.0'),\n",
       " Text(0.0719344874242291, 0.453125, 'X[0] <= 10600.0\\nsquared_error = 4800.0\\nsamples = 4\\nvalue = 31040.0'),\n",
       " Text(0.07175294928561905, 0.421875, 'squared_error = 0.0\\nsamples = 2\\nvalue = 31000.0'),\n",
       " Text(0.07211602556283914, 0.421875, 'X[4] <= 7.5\\nsquared_error = 6400.0\\nsamples = 2\\nvalue = 31080.0'),\n",
       " Text(0.0719344874242291, 0.390625, 'squared_error = 0.0\\nsamples = 1\\nvalue = 31000.0'),\n",
       " Text(0.07229756370144919, 0.390625, 'squared_error = 0.0\\nsamples = 1\\nvalue = 31160.0'),\n",
       " Text(0.07229756370144919, 0.453125, 'squared_error = 0.0\\nsamples = 1\\nvalue = 21500.0'),\n",
       " Text(0.07443063683011718, 0.484375, 'X[0] <= 12346.0\\nsquared_error = 45875043.384\\nsamples = 23\\nvalue = 40171.087'),\n",
       " Text(0.07347756160241446, 0.453125, 'X[0] <= 12096.0\\nsquared_error = 43292665.234\\nsamples = 8\\nvalue = 42329.375'),\n",
       " Text(0.07329602346380441, 0.421875, 'X[0] <= 11285.5\\nsquared_error = 16992653.061\\nsamples = 7\\nvalue = 40314.286'),\n",
       " Text(0.07266063997866927, 0.390625, 'X[0] <= 9750.0\\nsquared_error = 17250000.0\\nsamples = 4\\nvalue = 42500.0'),\n",
       " Text(0.07229756370144919, 0.359375, 'X[2] <= 4.5\\nsquared_error = 20250000.0\\nsamples = 2\\nvalue = 40500.0'),\n",
       " Text(0.07211602556283914, 0.328125, 'squared_error = 0.0\\nsamples = 1\\nvalue = 45000.0'),\n",
       " Text(0.07247910184005922, 0.328125, 'squared_error = 0.0\\nsamples = 1\\nvalue = 36000.0'),\n",
       " Text(0.07302371625588935, 0.359375, 'X[2] <= 4.5\\nsquared_error = 6250000.0\\nsamples = 2\\nvalue = 44500.0'),\n",
       " Text(0.0728421781172793, 0.328125, 'squared_error = 0.0\\nsamples = 1\\nvalue = 42000.0'),\n",
       " Text(0.07320525439449939, 0.328125, 'squared_error = 0.0\\nsamples = 1\\nvalue = 47000.0'),\n",
       " Text(0.07393140694893956, 0.390625, 'X[2] <= 4.5\\nsquared_error = 1786666.667\\nsamples = 3\\nvalue = 37400.0'),\n",
       " Text(0.07374986881032952, 0.359375, 'X[3] <= 117.5\\nsquared_error = 1210000.0\\nsamples = 2\\nvalue = 38100.0'),\n",
       " Text(0.07356833067171947, 0.328125, 'squared_error = 0.0\\nsamples = 1\\nvalue = 39200.0'),\n",
       " Text(0.07393140694893956, 0.328125, 'squared_error = 0.0\\nsamples = 1\\nvalue = 37000.0'),\n",
       " Text(0.0741129450875496, 0.359375, 'squared_error = 0.0\\nsamples = 1\\nvalue = 36000.0'),\n",
       " Text(0.0736590997410245, 0.421875, 'squared_error = 0.0\\nsamples = 1\\nvalue = 56435.0'),\n",
       " Text(0.0753837120578199, 0.453125, 'X[0] <= 16389.0\\nsquared_error = 43442933.333\\nsamples = 15\\nvalue = 39020.0'),\n",
       " Text(0.07502063578059981, 0.421875, 'X[0] <= 15350.0\\nsquared_error = 24449467.456\\nsamples = 13\\nvalue = 38176.923'),\n",
       " Text(0.07483909764198977, 0.390625, 'X[0] <= 13386.5\\nsquared_error = 17826942.149\\nsamples = 11\\nvalue = 39481.818'),\n",
       " Text(0.07447602136476969, 0.359375, 'X[0] <= 12584.5\\nsquared_error = 2000000.0\\nsamples = 3\\nvalue = 36000.0'),\n",
       " Text(0.07429448322615964, 0.328125, 'squared_error = 0.0\\nsamples = 1\\nvalue = 38000.0'),\n",
       " Text(0.07465755950337973, 0.328125, 'squared_error = 0.0\\nsamples = 2\\nvalue = 35000.0'),\n",
       " Text(0.07520217391920986, 0.359375, 'X[0] <= 13650.0\\nsquared_error = 17511093.75\\nsamples = 8\\nvalue = 40787.5'),\n",
       " Text(0.07502063578059981, 0.328125, 'squared_error = 0.0\\nsamples = 1\\nvalue = 50200.0'),\n",
       " Text(0.0753837120578199, 0.328125, 'X[3] <= 117.5\\nsquared_error = 5548163.265\\nsamples = 7\\nvalue = 39442.857'),\n",
       " Text(0.07502063578059981, 0.296875, 'X[2] <= 4.5\\nsquared_error = 3051875.0\\nsamples = 4\\nvalue = 37775.0'),\n",
       " Text(0.07483909764198977, 0.265625, 'X[0] <= 14500.0\\nsquared_error = 888888.889\\nsamples = 3\\nvalue = 38666.667'),\n",
       " Text(0.07465755950337973, 0.234375, 'squared_error = 0.0\\nsamples = 2\\nvalue = 38000.0'),\n",
       " Text(0.07502063578059981, 0.234375, 'squared_error = 0.0\\nsamples = 1\\nvalue = 40000.0'),\n",
       " Text(0.07520217391920986, 0.265625, 'squared_error = 0.0\\nsamples = 1\\nvalue = 35100.0'),\n",
       " Text(0.07574678833503998, 0.296875, 'X[0] <= 14400.0\\nsquared_error = 222222.222\\nsamples = 3\\nvalue = 41666.667'),\n",
       " Text(0.07556525019642994, 0.265625, 'squared_error = 0.0\\nsamples = 1\\nvalue = 41000.0'),\n",
       " Text(0.07592832647365003, 0.265625, 'squared_error = 0.0\\nsamples = 2\\nvalue = 42000.0'),\n",
       " Text(0.07520217391920986, 0.390625, 'squared_error = 0.0\\nsamples = 2\\nvalue = 31000.0'),\n",
       " Text(0.07574678833503998, 0.421875, 'X[0] <= 17012.5\\nsquared_error = 132250000.0\\nsamples = 2\\nvalue = 44500.0'),\n",
       " Text(0.07556525019642994, 0.390625, 'squared_error = 0.0\\nsamples = 1\\nvalue = 56000.0'),\n",
       " Text(0.07592832647365003, 0.390625, 'squared_error = 0.0\\nsamples = 1\\nvalue = 33000.0'),\n",
       " Text(0.06834059958643343, 0.578125, 'squared_error = 0.0\\nsamples = 1\\nvalue = 55500.0'),\n",
       " Text(0.07470294403803224, 0.609375, 'X[3] <= 117.5\\nsquared_error = 9650577.778\\nsamples = 9\\nvalue = 34393.333'),\n",
       " Text(0.07424909869150713, 0.578125, 'X[2] <= 4.5\\nsquared_error = 3067500.0\\nsamples = 4\\nvalue = 31350.0'),\n",
       " Text(0.0740675605528971, 0.546875, 'X[0] <= 18500.0\\nsquared_error = 222222.222\\nsamples = 3\\nvalue = 32333.333'),\n",
       " Text(0.07388602241428704, 0.515625, 'squared_error = 0.0\\nsamples = 1\\nvalue = 33000.0'),\n",
       " Text(0.07424909869150713, 0.515625, 'squared_error = 0.0\\nsamples = 2\\nvalue = 32000.0'),\n",
       " Text(0.07443063683011718, 0.546875, 'squared_error = 0.0\\nsamples = 1\\nvalue = 28400.0'),\n",
       " Text(0.07515678938455735, 0.578125, 'X[0] <= 20296.0\\nsquared_error = 1579936.0\\nsamples = 5\\nvalue = 36828.0'),\n",
       " Text(0.07479371310733726, 0.546875, 'X[0] <= 19500.0\\nsquared_error = 1602222.222\\nsamples = 3\\nvalue = 37466.667'),\n",
       " Text(0.07461217496872721, 0.515625, 'squared_error = 0.0\\nsamples = 1\\nvalue = 35900.0'),\n",
       " Text(0.0749752512459473, 0.515625, 'X[2] <= 4.5\\nsquared_error = 562500.0\\nsamples = 2\\nvalue = 38250.0'),\n",
       " Text(0.07479371310733726, 0.484375, 'squared_error = 0.0\\nsamples = 1\\nvalue = 39000.0'),\n",
       " Text(0.07515678938455735, 0.484375, 'squared_error = 0.0\\nsamples = 1\\nvalue = 37500.0'),\n",
       " Text(0.07551986566177743, 0.546875, 'X[4] <= 9.5\\nsquared_error = 16900.0\\nsamples = 2\\nvalue = 35870.0'),\n",
       " Text(0.07533832752316738, 0.515625, 'squared_error = 0.0\\nsamples = 1\\nvalue = 35740.0'),\n",
       " Text(0.07570140380038747, 0.515625, 'squared_error = 0.0\\nsamples = 1\\nvalue = 36000.0'),\n",
       " Text(0.0762460182162176, 0.640625, 'X[0] <= 20808.5\\nsquared_error = 40230000.0\\nsamples = 8\\nvalue = 44600.0'),\n",
       " Text(0.07588294193899751, 0.609375, 'X[0] <= 20744.0\\nsquared_error = 888888.889\\nsamples = 3\\nvalue = 51666.667'),\n",
       " Text(0.07570140380038747, 0.578125, 'squared_error = 0.0\\nsamples = 2\\nvalue = 51000.0'),\n",
       " Text(0.07606448007760755, 0.578125, 'squared_error = 0.0\\nsamples = 1\\nvalue = 53000.0'),\n",
       " Text(0.07660909449343768, 0.609375, 'X[2] <= 4.5\\nsquared_error = 15894400.0\\nsamples = 5\\nvalue = 40360.0'),\n",
       " Text(0.07642755635482763, 0.578125, 'X[3] <= 130.0\\nsquared_error = 7227500.0\\nsamples = 4\\nvalue = 41950.0'),\n",
       " Text(0.0762460182162176, 0.546875, 'X[3] <= 117.5\\nsquared_error = 4346666.667\\nsamples = 3\\nvalue = 40800.0'),\n",
       " Text(0.07606448007760755, 0.515625, 'squared_error = 0.0\\nsamples = 1\\nvalue = 43000.0'),\n",
       " Text(0.07642755635482763, 0.515625, 'squared_error = 2890000.0\\nsamples = 2\\nvalue = 39700.0'),\n",
       " Text(0.07660909449343768, 0.546875, 'squared_error = 0.0\\nsamples = 1\\nvalue = 45400.0'),\n",
       " Text(0.07679063263204772, 0.578125, 'squared_error = 0.0\\nsamples = 1\\nvalue = 34000.0'),\n",
       " Text(0.07906482329815086, 0.671875, 'X[0] <= 21335.5\\nsquared_error = 38179131.491\\nsamples = 63\\nvalue = 34332.032'),\n",
       " Text(0.07831952414315417, 0.640625, 'X[4] <= 5.5\\nsquared_error = 2000000.0\\nsamples = 3\\nvalue = 26000.0'),\n",
       " Text(0.07813798600454412, 0.609375, 'squared_error = 0.0\\nsamples = 2\\nvalue = 25000.0'),\n",
       " Text(0.0785010622817642, 0.609375, 'squared_error = 0.0\\nsamples = 1\\nvalue = 28000.0'),\n",
       " Text(0.07981012245314756, 0.640625, 'X[0] <= 67342.5\\nsquared_error = 36343393.532\\nsamples = 60\\nvalue = 34748.633'),\n",
       " Text(0.07886413855898429, 0.609375, 'X[0] <= 22328.0\\nsquared_error = 34005213.912\\nsamples = 57\\nvalue = 35192.982'),\n",
       " Text(0.07751678518648789, 0.578125, 'X[2] <= 4.5\\nsquared_error = 29186938.776\\nsamples = 7\\nvalue = 39085.714'),\n",
       " Text(0.07697217077065777, 0.546875, 'X[4] <= 11.0\\nsquared_error = 20750000.0\\nsamples = 4\\nvalue = 42500.0'),\n",
       " Text(0.07679063263204772, 0.515625, 'squared_error = 0.0\\nsamples = 1\\nvalue = 35000.0'),\n",
       " Text(0.0771537089092678, 0.515625, 'X[0] <= 22137.5\\nsquared_error = 2666666.667\\nsamples = 3\\nvalue = 45000.0'),\n",
       " Text(0.07697217077065777, 0.484375, 'X[3] <= 117.5\\nsquared_error = 1000000.0\\nsamples = 2\\nvalue = 44000.0'),\n",
       " Text(0.07679063263204772, 0.453125, 'squared_error = 0.0\\nsamples = 1\\nvalue = 45000.0'),\n",
       " Text(0.0771537089092678, 0.453125, 'squared_error = 0.0\\nsamples = 1\\nvalue = 43000.0'),\n",
       " Text(0.07733524704787785, 0.484375, 'squared_error = 0.0\\nsamples = 1\\nvalue = 47000.0'),\n",
       " Text(0.07806139960231802, 0.546875, 'X[4] <= 11.0\\nsquared_error = 4168888.889\\nsamples = 3\\nvalue = 34533.333'),\n",
       " Text(0.07787986146370797, 0.515625, 'X[0] <= 21778.5\\nsquared_error = 1440000.0\\nsamples = 2\\nvalue = 35800.0'),\n",
       " Text(0.07769832332509793, 0.484375, 'squared_error = 0.0\\nsamples = 1\\nvalue = 34600.0'),\n",
       " Text(0.07806139960231802, 0.484375, 'squared_error = 0.0\\nsamples = 1\\nvalue = 37000.0'),\n",
       " Text(0.07824293774092805, 0.515625, 'squared_error = 0.0\\nsamples = 1\\nvalue = 32000.0'),\n",
       " Text(0.0802114919314807, 0.578125, 'X[0] <= 23271.0\\nsquared_error = 32261296.0\\nsamples = 50\\nvalue = 34648.0'),\n",
       " Text(0.07878755215675819, 0.546875, 'X[0] <= 23221.5\\nsquared_error = 19551020.408\\nsamples = 7\\nvalue = 30142.857'),\n",
       " Text(0.07860601401814814, 0.515625, 'X[0] <= 23193.5\\nsquared_error = 2560000.0\\nsamples = 5\\nvalue = 32800.0'),\n",
       " Text(0.0784244758795381, 0.484375, 'X[1] <= 1.5\\nsquared_error = 750000.0\\nsamples = 4\\nvalue = 33500.0'),\n",
       " Text(0.07824293774092805, 0.453125, 'squared_error = 0.0\\nsamples = 3\\nvalue = 34000.0'),\n",
       " Text(0.07860601401814814, 0.453125, 'squared_error = 0.0\\nsamples = 1\\nvalue = 32000.0'),\n",
       " Text(0.07878755215675819, 0.484375, 'squared_error = 0.0\\nsamples = 1\\nvalue = 30000.0'),\n",
       " Text(0.07896909029536822, 0.515625, 'squared_error = 250000.0\\nsamples = 2\\nvalue = 23500.0'),\n",
       " Text(0.08163543170620322, 0.546875, 'X[0] <= 29141.5\\nsquared_error = 30488491.076\\nsamples = 43\\nvalue = 35381.395'),\n",
       " Text(0.07976331965178715, 0.515625, 'X[0] <= 24025.0\\nsquared_error = 24405215.42\\nsamples = 21\\nvalue = 37495.238'),\n",
       " Text(0.07915062843397827, 0.484375, 'X[0] <= 23871.5\\nsquared_error = 6640000.0\\nsamples = 5\\nvalue = 34400.0'),\n",
       " Text(0.07896909029536822, 0.453125, 'X[3] <= 117.5\\nsquared_error = 2250000.0\\nsamples = 4\\nvalue = 35500.0'),\n",
       " Text(0.07878755215675819, 0.421875, 'squared_error = 0.0\\nsamples = 1\\nvalue = 38000.0'),\n",
       " Text(0.07915062843397827, 0.421875, 'X[4] <= 4.5\\nsquared_error = 222222.222\\nsamples = 3\\nvalue = 34666.667'),\n",
       " Text(0.07896909029536822, 0.390625, 'squared_error = 0.0\\nsamples = 1\\nvalue = 34000.0'),\n",
       " Text(0.0793321665725883, 0.390625, 'squared_error = 0.0\\nsamples = 2\\nvalue = 35000.0'),\n",
       " Text(0.0793321665725883, 0.453125, 'squared_error = 0.0\\nsamples = 1\\nvalue = 30000.0'),\n",
       " Text(0.08037601086959605, 0.484375, 'X[3] <= 117.5\\nsquared_error = 26027343.75\\nsamples = 16\\nvalue = 38462.5'),\n",
       " Text(0.07969524284980839, 0.453125, 'X[0] <= 24528.0\\nsquared_error = 15768571.429\\nsamples = 7\\nvalue = 37200.0'),\n",
       " Text(0.07951370471119835, 0.421875, 'squared_error = 0.0\\nsamples = 1\\nvalue = 40000.0'),\n",
       " Text(0.07987678098841844, 0.421875, 'X[0] <= 28862.5\\nsquared_error = 16872222.222\\nsamples = 6\\nvalue = 36733.333'),\n",
       " Text(0.07969524284980839, 0.390625, 'X[0] <= 28699.0\\nsquared_error = 17840000.0\\nsamples = 5\\nvalue = 36100.0'),\n",
       " Text(0.07951370471119835, 0.359375, 'X[4] <= 7.0\\nsquared_error = 15687500.0\\nsamples = 4\\nvalue = 37250.0'),\n",
       " Text(0.0793321665725883, 0.328125, 'squared_error = 0.0\\nsamples = 1\\nvalue = 32000.0'),\n",
       " Text(0.07969524284980839, 0.328125, 'X[0] <= 26438.5\\nsquared_error = 8666666.667\\nsamples = 3\\nvalue = 39000.0'),\n",
       " Text(0.07951370471119835, 0.296875, 'squared_error = 0.0\\nsamples = 1\\nvalue = 42000.0'),\n",
       " Text(0.07987678098841844, 0.296875, 'X[4] <= 12.0\\nsquared_error = 6250000.0\\nsamples = 2\\nvalue = 37500.0'),\n",
       " Text(0.07969524284980839, 0.265625, 'squared_error = 0.0\\nsamples = 1\\nvalue = 40000.0'),\n",
       " Text(0.08005831912702847, 0.265625, 'squared_error = 0.0\\nsamples = 1\\nvalue = 35000.0'),\n",
       " Text(0.07987678098841844, 0.359375, 'squared_error = 0.0\\nsamples = 1\\nvalue = 31500.0'),\n",
       " Text(0.08005831912702847, 0.390625, 'squared_error = 0.0\\nsamples = 1\\nvalue = 39900.0'),\n",
       " Text(0.0810567788893837, 0.453125, 'X[0] <= 26739.0\\nsquared_error = 31802469.136\\nsamples = 9\\nvalue = 39444.444'),\n",
       " Text(0.0806029335428586, 0.421875, 'X[0] <= 24514.5\\nsquared_error = 72222222.222\\nsamples = 3\\nvalue = 41333.333'),\n",
       " Text(0.08042139540424856, 0.390625, 'squared_error = 0.0\\nsamples = 1\\nvalue = 38000.0'),\n",
       " Text(0.08078447168146864, 0.390625, 'squared_error = 100000000.0\\nsamples = 2\\nvalue = 43000.0'),\n",
       " Text(0.08151062423590881, 0.421875, 'X[0] <= 28652.0\\nsquared_error = 8916666.667\\nsamples = 6\\nvalue = 38500.0'),\n",
       " Text(0.08114754795868873, 0.390625, 'X[4] <= 9.5\\nsquared_error = 250000.0\\nsamples = 2\\nvalue = 36500.0'),\n",
       " Text(0.08096600982007869, 0.359375, 'squared_error = 0.0\\nsamples = 1\\nvalue = 36000.0'),\n",
       " Text(0.08132908609729878, 0.359375, 'squared_error = 0.0\\nsamples = 1\\nvalue = 37000.0'),\n",
       " Text(0.0818737005131289, 0.390625, 'X[0] <= 28890.0\\nsquared_error = 10250000.0\\nsamples = 4\\nvalue = 39500.0'),\n",
       " Text(0.08169216237451886, 0.359375, 'squared_error = 0.0\\nsamples = 1\\nvalue = 45000.0'),\n",
       " Text(0.08205523865173894, 0.359375, 'X[4] <= 9.5\\nsquared_error = 222222.222\\nsamples = 3\\nvalue = 37666.667'),\n",
       " Text(0.0818737005131289, 0.328125, 'squared_error = 0.0\\nsamples = 1\\nvalue = 37000.0'),\n",
       " Text(0.08223677679034898, 0.328125, 'squared_error = 0.0\\nsamples = 2\\nvalue = 38000.0'),\n",
       " Text(0.08350754376061927, 0.515625, 'X[3] <= 117.5\\nsquared_error = 27958677.686\\nsamples = 22\\nvalue = 33363.636'),\n",
       " Text(0.08259985306756906, 0.484375, 'X[0] <= 34883.5\\nsquared_error = 30810000.0\\nsamples = 10\\nvalue = 36300.0'),\n",
       " Text(0.08223677679034898, 0.453125, 'X[0] <= 32759.5\\nsquared_error = 2250000.0\\nsamples = 4\\nvalue = 33500.0'),\n",
       " Text(0.08205523865173894, 0.421875, 'squared_error = 0.0\\nsamples = 2\\nvalue = 35000.0'),\n",
       " Text(0.08241831492895903, 0.421875, 'squared_error = 0.0\\nsamples = 2\\nvalue = 32000.0'),\n",
       " Text(0.08296292934478915, 0.453125, 'X[4] <= 7.0\\nsquared_error = 41138888.889\\nsamples = 6\\nvalue = 38166.667'),\n",
       " Text(0.08278139120617911, 0.421875, 'squared_error = 0.0\\nsamples = 1\\nvalue = 45000.0'),\n",
       " Text(0.08314446748339918, 0.421875, 'X[0] <= 50196.5\\nsquared_error = 38160000.0\\nsamples = 5\\nvalue = 36800.0'),\n",
       " Text(0.08296292934478915, 0.390625, 'X[0] <= 42171.5\\nsquared_error = 35687500.0\\nsamples = 4\\nvalue = 35250.0'),\n",
       " Text(0.08278139120617911, 0.359375, 'X[0] <= 37475.0\\nsquared_error = 888888.889\\nsamples = 3\\nvalue = 38666.667'),\n",
       " Text(0.08259985306756906, 0.328125, 'squared_error = 0.0\\nsamples = 2\\nvalue = 38000.0'),\n",
       " Text(0.08296292934478915, 0.328125, 'squared_error = 0.0\\nsamples = 1\\nvalue = 40000.0'),\n",
       " Text(0.08314446748339918, 0.359375, 'squared_error = 0.0\\nsamples = 1\\nvalue = 25000.0'),\n",
       " Text(0.08332600562200923, 0.390625, 'squared_error = 0.0\\nsamples = 1\\nvalue = 43000.0'),\n",
       " Text(0.08441523445366948, 0.484375, 'X[4] <= 4.5\\nsquared_error = 12409722.222\\nsamples = 12\\nvalue = 30916.667'),\n",
       " Text(0.0840521581764494, 0.453125, 'X[0] <= 42330.0\\nsquared_error = 12960000.0\\nsamples = 5\\nvalue = 33800.0'),\n",
       " Text(0.08387062003783935, 0.421875, 'X[3] <= 130.0\\nsquared_error = 2000000.0\\nsamples = 3\\nvalue = 31000.0'),\n",
       " Text(0.08368908189922931, 0.390625, 'squared_error = 0.0\\nsamples = 2\\nvalue = 32000.0'),\n",
       " Text(0.0840521581764494, 0.390625, 'squared_error = 0.0\\nsamples = 1\\nvalue = 29000.0'),\n",
       " Text(0.08423369631505943, 0.421875, 'squared_error = 0.0\\nsamples = 2\\nvalue = 38000.0'),\n",
       " Text(0.08477831073088957, 0.453125, 'X[0] <= 36072.5\\nsquared_error = 1836734.694\\nsamples = 7\\nvalue = 28857.143'),\n",
       " ...]"
      ]
     },
     "execution_count": 112,
     "metadata": {},
     "output_type": "execute_result"
    },
    {
     "data": {
      "image/png": "[encoded data removed]",
      "text/plain": [
       "<Figure size 1080x576 with 1 Axes>"
      ]
     },
     "metadata": {},
     "output_type": "display_data"
    }
   ],
   "source": [
    "tree.plot_tree(dtr)"
   ]
  },
  {
   "cell_type": "markdown",
   "id": "f8f2bb53",
   "metadata": {},
   "source": [
    "### SVR"
   ]
  },
  {
   "cell_type": "code",
   "execution_count": 156,
   "id": "1860bcd2",
   "metadata": {},
   "outputs": [
    {
     "name": "stderr",
     "output_type": "stream",
     "text": [
      "c:\\users\\dell\\appdata\\local\\programs\\python\\python39\\lib\\site-packages\\sklearn\\utils\\validation.py:63: DataConversionWarning: A column-vector y was passed when a 1d array was expected. Please change the shape of y to (n_samples, ), for example using ravel().\n",
      "  return f(*args, **kwargs)\n"
     ]
    },
    {
     "data": {
      "text/plain": [
       "-0.060628221002130944"
      ]
     },
     "execution_count": 156,
     "metadata": {},
     "output_type": "execute_result"
    }
   ],
   "source": [
    "from sklearn.svm import SVR\n",
    "svr=SVR()\n",
    "svr.fit(x_train,y_train)\n",
    "svr.score(x_test,y_test)"
   ]
  },
  {
   "cell_type": "markdown",
   "id": "6ea7d085",
   "metadata": {},
   "source": [
    "### KNeighborsRegressor"
   ]
  },
  {
   "cell_type": "code",
   "execution_count": 157,
   "id": "596dedca",
   "metadata": {},
   "outputs": [
    {
     "data": {
      "text/plain": [
       "0.9042927771996112"
      ]
     },
     "execution_count": 157,
     "metadata": {},
     "output_type": "execute_result"
    }
   ],
   "source": [
    "from sklearn.neighbors import KNeighborsRegressor\n",
    "\n",
    "knn=KNeighborsRegressor()\n",
    "\n",
    "knn.fit(x_train,y_train)\n",
    "knn.score(x_test,y_test)"
   ]
  },
  {
   "cell_type": "markdown",
   "id": "0c4c77a8",
   "metadata": {},
   "source": [
    "### RandomForestRegressor"
   ]
  },
  {
   "cell_type": "code",
   "execution_count": 113,
   "id": "d22d6249",
   "metadata": {},
   "outputs": [
    {
     "data": {
      "text/plain": [
       "0.9711196433829511"
      ]
     },
     "execution_count": 113,
     "metadata": {},
     "output_type": "execute_result"
    }
   ],
   "source": [
    "from sklearn.ensemble import RandomForestRegressor\n",
    "rfr=RandomForestRegressor()\n",
    "rfr.fit(x_train,y_train)\n",
    "rfr.score(x_test,y_test)"
   ]
  },
  {
   "cell_type": "markdown",
   "id": "f77e4e3a",
   "metadata": {},
   "source": [
    "### ExtraTreesRegressor"
   ]
  },
  {
   "cell_type": "code",
   "execution_count": 179,
   "id": "0b1985b6",
   "metadata": {},
   "outputs": [
    {
     "name": "stderr",
     "output_type": "stream",
     "text": [
      "<ipython-input-179-2dc265c29587>:3: DataConversionWarning: A column-vector y was passed when a 1d array was expected. Please change the shape of y to (n_samples,), for example using ravel().\n",
      "  etr.fit(x_train,y_train)\n"
     ]
    },
    {
     "data": {
      "text/plain": [
       "0.9694005597846957"
      ]
     },
     "execution_count": 179,
     "metadata": {},
     "output_type": "execute_result"
    }
   ],
   "source": [
    "from sklearn.ensemble import ExtraTreesRegressor\n",
    "etr=ExtraTreesRegressor()\n",
    "etr.fit(x_train,y_train)\n",
    "etr.score(x_test,y_test)"
   ]
  },
  {
   "cell_type": "markdown",
   "id": "ea5efabe",
   "metadata": {},
   "source": [
    "# with scaled data "
   ]
  },
  {
   "cell_type": "code",
   "execution_count": null,
   "id": "975d290b",
   "metadata": {},
   "outputs": [],
   "source": [
    "[1,2,3,4,5,200]\n"
   ]
  },
  {
   "cell_type": "code",
   "execution_count": 59,
   "id": "f5865b83",
   "metadata": {},
   "outputs": [],
   "source": [
    "from sklearn.preprocessing import StandardScaler\n",
    "\n",
    "sc=StandardScaler()\n",
    "sc.fit(x_train)\n",
    "x_train_sc=sc.transform(x_train)\n",
    "x_test_sc=sc.transform(x_test)"
   ]
  },
  {
   "cell_type": "code",
   "execution_count": 161,
   "id": "d9996cd3",
   "metadata": {},
   "outputs": [
    {
     "data": {
      "text/plain": [
       "0.8006829494196629"
      ]
     },
     "execution_count": 161,
     "metadata": {},
     "output_type": "execute_result"
    }
   ],
   "source": [
    "from sklearn.linear_model import LinearRegression\n",
    "lr=LinearRegression()\n",
    "lr.fit(x_train_sc,y_train)\n",
    "lr.score(x_test_sc,y_test)"
   ]
  },
  {
   "cell_type": "code",
   "execution_count": null,
   "id": "945f074c",
   "metadata": {},
   "outputs": [],
   "source": []
  },
  {
   "cell_type": "code",
   "execution_count": 162,
   "id": "130e03a7",
   "metadata": {},
   "outputs": [
    {
     "data": {
      "text/plain": [
       "0.8006827325299593"
      ]
     },
     "execution_count": 162,
     "metadata": {},
     "output_type": "execute_result"
    }
   ],
   "source": [
    "from sklearn.linear_model import Lasso\n",
    "ls=Lasso()\n",
    "ls.fit(x_train_sc,y_train)\n",
    "ls.score(x_test_sc,y_test)"
   ]
  },
  {
   "cell_type": "code",
   "execution_count": null,
   "id": "a62ff6eb",
   "metadata": {},
   "outputs": [],
   "source": []
  },
  {
   "cell_type": "code",
   "execution_count": 167,
   "id": "f9be2b2b",
   "metadata": {},
   "outputs": [
    {
     "data": {
      "text/plain": [
       "0.8006829662167803"
      ]
     },
     "execution_count": 167,
     "metadata": {},
     "output_type": "execute_result"
    }
   ],
   "source": [
    "from sklearn.linear_model import Ridge\n",
    "rdg=Ridge()\n",
    "rdg.fit(x_train_sc,y_train)\n",
    "rdg.score(x_test_sc,y_test)"
   ]
  },
  {
   "cell_type": "code",
   "execution_count": null,
   "id": "c36be383",
   "metadata": {},
   "outputs": [],
   "source": []
  },
  {
   "cell_type": "code",
   "execution_count": 163,
   "id": "d5588f3f",
   "metadata": {},
   "outputs": [
    {
     "data": {
      "text/plain": [
       "0.9577648952583957"
      ]
     },
     "execution_count": 163,
     "metadata": {},
     "output_type": "execute_result"
    }
   ],
   "source": [
    "from sklearn.tree import DecisionTreeRegressor\n",
    "dtr=DecisionTreeRegressor()\n",
    "dtr.fit(x_train_sc,y_train)\n",
    "dtr.score(x_test_sc,y_test)"
   ]
  },
  {
   "cell_type": "code",
   "execution_count": null,
   "id": "0456543d",
   "metadata": {},
   "outputs": [],
   "source": []
  },
  {
   "cell_type": "code",
   "execution_count": 164,
   "id": "fde665db",
   "metadata": {},
   "outputs": [
    {
     "name": "stderr",
     "output_type": "stream",
     "text": [
      "c:\\users\\dell\\appdata\\local\\programs\\python\\python39\\lib\\site-packages\\sklearn\\utils\\validation.py:63: DataConversionWarning: A column-vector y was passed when a 1d array was expected. Please change the shape of y to (n_samples, ), for example using ravel().\n",
      "  return f(*args, **kwargs)\n"
     ]
    },
    {
     "data": {
      "text/plain": [
       "0.028168752879005776"
      ]
     },
     "execution_count": 164,
     "metadata": {},
     "output_type": "execute_result"
    }
   ],
   "source": [
    "from sklearn.svm import SVR\n",
    "svr=SVR()\n",
    "svr.fit(x_train_sc,y_train)\n",
    "svr.score(x_test_sc,y_test)"
   ]
  },
  {
   "cell_type": "code",
   "execution_count": null,
   "id": "80dfd337",
   "metadata": {},
   "outputs": [],
   "source": []
  },
  {
   "cell_type": "code",
   "execution_count": 165,
   "id": "ff7ff837",
   "metadata": {},
   "outputs": [
    {
     "data": {
      "text/plain": [
       "0.9610930352901891"
      ]
     },
     "execution_count": 165,
     "metadata": {},
     "output_type": "execute_result"
    }
   ],
   "source": [
    "from sklearn.neighbors import KNeighborsRegressor\n",
    "knn=KNeighborsRegressor()\n",
    "knn.fit(x_train_sc,y_train)\n",
    "knn.score(x_test_sc,y_test)"
   ]
  },
  {
   "cell_type": "code",
   "execution_count": null,
   "id": "034073f0",
   "metadata": {},
   "outputs": [],
   "source": []
  },
  {
   "cell_type": "code",
   "execution_count": 60,
   "id": "6ef59da1",
   "metadata": {},
   "outputs": [
    {
     "name": "stderr",
     "output_type": "stream",
     "text": [
      "<ipython-input-60-4cedd03652f8>:3: DataConversionWarning: A column-vector y was passed when a 1d array was expected. Please change the shape of y to (n_samples,), for example using ravel().\n",
      "  rfr2.fit(x_train_sc,y_train)\n"
     ]
    },
    {
     "data": {
      "text/plain": [
       "0.9699418803266026"
      ]
     },
     "execution_count": 60,
     "metadata": {},
     "output_type": "execute_result"
    }
   ],
   "source": [
    "from sklearn.ensemble import RandomForestRegressor\n",
    "rfr2=RandomForestRegressor()\n",
    "rfr2.fit(x_train_sc,y_train)\n",
    "rfr2.score(x_test_sc,y_test)"
   ]
  },
  {
   "cell_type": "code",
   "execution_count": 180,
   "id": "a35b85e0",
   "metadata": {},
   "outputs": [
    {
     "name": "stderr",
     "output_type": "stream",
     "text": [
      "<ipython-input-180-fabf29d4ac57>:3: DataConversionWarning: A column-vector y was passed when a 1d array was expected. Please change the shape of y to (n_samples,), for example using ravel().\n",
      "  etr.fit(x_train_sc,y_train)\n"
     ]
    },
    {
     "data": {
      "text/plain": [
       "0.9692048757761536"
      ]
     },
     "execution_count": 180,
     "metadata": {},
     "output_type": "execute_result"
    }
   ],
   "source": [
    "from sklearn.ensemble import ExtraTreesRegressor\n",
    "etr=ExtraTreesRegressor()\n",
    "etr.fit(x_train_sc,y_train)\n",
    "etr.score(x_test_sc,y_test)"
   ]
  },
  {
   "cell_type": "markdown",
   "id": "ba453454",
   "metadata": {},
   "source": [
    "# you can see here all accuracy of algorithium"
   ]
  },
  {
   "cell_type": "code",
   "execution_count": 128,
   "id": "a45c0243",
   "metadata": {},
   "outputs": [
    {
     "data": {
      "text/html": [
       "<div>\n",
       "<style scoped>\n",
       "    .dataframe tbody tr th:only-of-type {\n",
       "        vertical-align: middle;\n",
       "    }\n",
       "\n",
       "    .dataframe tbody tr th {\n",
       "        vertical-align: top;\n",
       "    }\n",
       "\n",
       "    .dataframe thead th {\n",
       "        text-align: right;\n",
       "    }\n",
       "</style>\n",
       "<table border=\"1\" class=\"dataframe\">\n",
       "  <thead>\n",
       "    <tr style=\"text-align: right;\">\n",
       "      <th></th>\n",
       "      <th>Algorithium</th>\n",
       "      <th>acuracy_no_scl</th>\n",
       "      <th>accuracy_with_scl</th>\n",
       "    </tr>\n",
       "  </thead>\n",
       "  <tbody>\n",
       "    <tr>\n",
       "      <th>0</th>\n",
       "      <td>linear</td>\n",
       "      <td>8006.00</td>\n",
       "      <td>8006.0000</td>\n",
       "    </tr>\n",
       "    <tr>\n",
       "      <th>1</th>\n",
       "      <td>laso</td>\n",
       "      <td>8006.00</td>\n",
       "      <td>8006.0000</td>\n",
       "    </tr>\n",
       "    <tr>\n",
       "      <th>2</th>\n",
       "      <td>ridge</td>\n",
       "      <td>8006.00</td>\n",
       "      <td>8006.0000</td>\n",
       "    </tr>\n",
       "    <tr>\n",
       "      <th>3</th>\n",
       "      <td>decisionTree</td>\n",
       "      <td>9568.00</td>\n",
       "      <td>9577.0000</td>\n",
       "    </tr>\n",
       "    <tr>\n",
       "      <th>4</th>\n",
       "      <td>KNN</td>\n",
       "      <td>9042.00</td>\n",
       "      <td>9610.0000</td>\n",
       "    </tr>\n",
       "    <tr>\n",
       "      <th>5</th>\n",
       "      <td>SVR</td>\n",
       "      <td>-0.06</td>\n",
       "      <td>0.0281</td>\n",
       "    </tr>\n",
       "    <tr>\n",
       "      <th>6</th>\n",
       "      <td>RandomForest</td>\n",
       "      <td>9694.00</td>\n",
       "      <td>9701.0000</td>\n",
       "    </tr>\n",
       "    <tr>\n",
       "      <th>7</th>\n",
       "      <td>ETR</td>\n",
       "      <td>9694.00</td>\n",
       "      <td>9692.0000</td>\n",
       "    </tr>\n",
       "  </tbody>\n",
       "</table>\n",
       "</div>"
      ],
      "text/plain": [
       "    Algorithium  acuracy_no_scl  accuracy_with_scl\n",
       "0        linear         8006.00          8006.0000\n",
       "1          laso         8006.00          8006.0000\n",
       "2         ridge         8006.00          8006.0000\n",
       "3  decisionTree         9568.00          9577.0000\n",
       "4           KNN         9042.00          9610.0000\n",
       "5           SVR           -0.06             0.0281\n",
       "6  RandomForest         9694.00          9701.0000\n",
       "7           ETR         9694.00          9692.0000"
      ]
     },
     "execution_count": 128,
     "metadata": {},
     "output_type": "execute_result"
    }
   ],
   "source": [
    "acuracy=pd.DataFrame({'Algorithium':['linear','laso','ridge','decisionTree','KNN','SVR','RandomForest','ETR'],\n",
    "                     'acuracy_no_scl':[8006,8006,8006,9568,9042,-0.060,9694,9694],\n",
    "                     'accuracy_with_scl':[8006,8006,8006,9577,9610,.0281,9701,9692]})\n",
    "acuracy\n"
   ]
  },
  {
   "cell_type": "code",
   "execution_count": 129,
   "id": "828c7ad2",
   "metadata": {},
   "outputs": [
    {
     "data": {
      "text/html": [
       "<div>\n",
       "<style scoped>\n",
       "    .dataframe tbody tr th:only-of-type {\n",
       "        vertical-align: middle;\n",
       "    }\n",
       "\n",
       "    .dataframe tbody tr th {\n",
       "        vertical-align: top;\n",
       "    }\n",
       "\n",
       "    .dataframe thead th {\n",
       "        text-align: right;\n",
       "    }\n",
       "</style>\n",
       "<table border=\"1\" class=\"dataframe\">\n",
       "  <thead>\n",
       "    <tr style=\"text-align: right;\">\n",
       "      <th></th>\n",
       "      <th>Algorithium</th>\n",
       "      <th>acuracy_no_scl</th>\n",
       "      <th>accuracy_with_scl</th>\n",
       "    </tr>\n",
       "  </thead>\n",
       "  <tbody>\n",
       "    <tr>\n",
       "      <th>6</th>\n",
       "      <td>RandomForest</td>\n",
       "      <td>9694.00</td>\n",
       "      <td>9701.0000</td>\n",
       "    </tr>\n",
       "    <tr>\n",
       "      <th>7</th>\n",
       "      <td>ETR</td>\n",
       "      <td>9694.00</td>\n",
       "      <td>9692.0000</td>\n",
       "    </tr>\n",
       "    <tr>\n",
       "      <th>4</th>\n",
       "      <td>KNN</td>\n",
       "      <td>9042.00</td>\n",
       "      <td>9610.0000</td>\n",
       "    </tr>\n",
       "    <tr>\n",
       "      <th>3</th>\n",
       "      <td>decisionTree</td>\n",
       "      <td>9568.00</td>\n",
       "      <td>9577.0000</td>\n",
       "    </tr>\n",
       "    <tr>\n",
       "      <th>0</th>\n",
       "      <td>linear</td>\n",
       "      <td>8006.00</td>\n",
       "      <td>8006.0000</td>\n",
       "    </tr>\n",
       "    <tr>\n",
       "      <th>1</th>\n",
       "      <td>laso</td>\n",
       "      <td>8006.00</td>\n",
       "      <td>8006.0000</td>\n",
       "    </tr>\n",
       "    <tr>\n",
       "      <th>2</th>\n",
       "      <td>ridge</td>\n",
       "      <td>8006.00</td>\n",
       "      <td>8006.0000</td>\n",
       "    </tr>\n",
       "    <tr>\n",
       "      <th>5</th>\n",
       "      <td>SVR</td>\n",
       "      <td>-0.06</td>\n",
       "      <td>0.0281</td>\n",
       "    </tr>\n",
       "  </tbody>\n",
       "</table>\n",
       "</div>"
      ],
      "text/plain": [
       "    Algorithium  acuracy_no_scl  accuracy_with_scl\n",
       "6  RandomForest         9694.00          9701.0000\n",
       "7           ETR         9694.00          9692.0000\n",
       "4           KNN         9042.00          9610.0000\n",
       "3  decisionTree         9568.00          9577.0000\n",
       "0        linear         8006.00          8006.0000\n",
       "1          laso         8006.00          8006.0000\n",
       "2         ridge         8006.00          8006.0000\n",
       "5           SVR           -0.06             0.0281"
      ]
     },
     "execution_count": 129,
     "metadata": {},
     "output_type": "execute_result"
    }
   ],
   "source": [
    "acuracy.sort_values(by='accuracy_with_scl',ascending=False)"
   ]
  },
  {
   "cell_type": "markdown",
   "id": "61cdda51",
   "metadata": {},
   "source": [
    "# HYPER PARAMETER TUNING\n",
    "hypere parametere just for undertanding , because i have already good accuracy"
   ]
  },
  {
   "cell_type": "code",
   "execution_count": 171,
   "id": "eb4d2f14",
   "metadata": {},
   "outputs": [],
   "source": [
    "from sklearn.model_selection import RandomizedSearchCV"
   ]
  },
  {
   "cell_type": "code",
   "execution_count": null,
   "id": "97a30c34",
   "metadata": {},
   "outputs": [],
   "source": [
    "RandomForestRegressor()"
   ]
  },
  {
   "cell_type": "code",
   "execution_count": 185,
   "id": "e17cda96",
   "metadata": {},
   "outputs": [],
   "source": [
    "n_estimators=[int(x) for x in np.linspace(start=100,stop=500,num=12)]\n",
    "max_features=['auto','sqrt']\n",
    "max_depth=[int(x) for x in np.linspace(start=5,stop=3,num=6)]\n",
    "min_samples_split=[2,5,10,12,100]\n",
    "min_samples_leaf=[1,2,5,10]"
   ]
  },
  {
   "cell_type": "code",
   "execution_count": 188,
   "id": "eecfaf36",
   "metadata": {},
   "outputs": [],
   "source": [
    "random_grid={'n_estimators':n_estimators,\n",
    "            'max_features':max_features,\n",
    "            'max_depth':max_depth,\n",
    "            'min_samples_split':min_samples_split,\n",
    "            'min_samples_leaf':min_samples_leaf}"
   ]
  },
  {
   "cell_type": "code",
   "execution_count": 189,
   "id": "1cb22687",
   "metadata": {},
   "outputs": [],
   "source": [
    "rdm_rand_forest=RandomizedSearchCV(estimator=rfr2,param_distributions=random_grid,n_iter=10,cv=5,verbose=2,scoring='neg_mean_squared_error')"
   ]
  },
  {
   "cell_type": "code",
   "execution_count": 190,
   "id": "8dd9eab0",
   "metadata": {},
   "outputs": [
    {
     "name": "stdout",
     "output_type": "stream",
     "text": [
      "Fitting 5 folds for each of 10 candidates, totalling 50 fits\n"
     ]
    },
    {
     "name": "stderr",
     "output_type": "stream",
     "text": [
      "c:\\users\\dell\\appdata\\local\\programs\\python\\python39\\lib\\site-packages\\sklearn\\model_selection\\_validation.py:598: DataConversionWarning: A column-vector y was passed when a 1d array was expected. Please change the shape of y to (n_samples,), for example using ravel().\n",
      "  estimator.fit(X_train, y_train, **fit_params)\n"
     ]
    },
    {
     "name": "stdout",
     "output_type": "stream",
     "text": [
      "[CV] END max_depth=4, max_features=auto, min_samples_leaf=10, min_samples_split=12, n_estimators=318; total time=   2.8s\n"
     ]
    },
    {
     "name": "stderr",
     "output_type": "stream",
     "text": [
      "c:\\users\\dell\\appdata\\local\\programs\\python\\python39\\lib\\site-packages\\sklearn\\model_selection\\_validation.py:598: DataConversionWarning: A column-vector y was passed when a 1d array was expected. Please change the shape of y to (n_samples,), for example using ravel().\n",
      "  estimator.fit(X_train, y_train, **fit_params)\n"
     ]
    },
    {
     "name": "stdout",
     "output_type": "stream",
     "text": [
      "[CV] END max_depth=4, max_features=auto, min_samples_leaf=10, min_samples_split=12, n_estimators=318; total time=   2.6s\n"
     ]
    },
    {
     "name": "stderr",
     "output_type": "stream",
     "text": [
      "c:\\users\\dell\\appdata\\local\\programs\\python\\python39\\lib\\site-packages\\sklearn\\model_selection\\_validation.py:598: DataConversionWarning: A column-vector y was passed when a 1d array was expected. Please change the shape of y to (n_samples,), for example using ravel().\n",
      "  estimator.fit(X_train, y_train, **fit_params)\n"
     ]
    },
    {
     "name": "stdout",
     "output_type": "stream",
     "text": [
      "[CV] END max_depth=4, max_features=auto, min_samples_leaf=10, min_samples_split=12, n_estimators=318; total time=   2.7s\n"
     ]
    },
    {
     "name": "stderr",
     "output_type": "stream",
     "text": [
      "c:\\users\\dell\\appdata\\local\\programs\\python\\python39\\lib\\site-packages\\sklearn\\model_selection\\_validation.py:598: DataConversionWarning: A column-vector y was passed when a 1d array was expected. Please change the shape of y to (n_samples,), for example using ravel().\n",
      "  estimator.fit(X_train, y_train, **fit_params)\n"
     ]
    },
    {
     "name": "stdout",
     "output_type": "stream",
     "text": [
      "[CV] END max_depth=4, max_features=auto, min_samples_leaf=10, min_samples_split=12, n_estimators=318; total time=   2.6s\n"
     ]
    },
    {
     "name": "stderr",
     "output_type": "stream",
     "text": [
      "c:\\users\\dell\\appdata\\local\\programs\\python\\python39\\lib\\site-packages\\sklearn\\model_selection\\_validation.py:598: DataConversionWarning: A column-vector y was passed when a 1d array was expected. Please change the shape of y to (n_samples,), for example using ravel().\n",
      "  estimator.fit(X_train, y_train, **fit_params)\n"
     ]
    },
    {
     "name": "stdout",
     "output_type": "stream",
     "text": [
      "[CV] END max_depth=4, max_features=auto, min_samples_leaf=10, min_samples_split=12, n_estimators=318; total time=   2.6s\n"
     ]
    },
    {
     "name": "stderr",
     "output_type": "stream",
     "text": [
      "c:\\users\\dell\\appdata\\local\\programs\\python\\python39\\lib\\site-packages\\sklearn\\model_selection\\_validation.py:598: DataConversionWarning: A column-vector y was passed when a 1d array was expected. Please change the shape of y to (n_samples,), for example using ravel().\n",
      "  estimator.fit(X_train, y_train, **fit_params)\n"
     ]
    },
    {
     "name": "stdout",
     "output_type": "stream",
     "text": [
      "[CV] END max_depth=3, max_features=auto, min_samples_leaf=5, min_samples_split=5, n_estimators=172; total time=   1.2s\n"
     ]
    },
    {
     "name": "stderr",
     "output_type": "stream",
     "text": [
      "c:\\users\\dell\\appdata\\local\\programs\\python\\python39\\lib\\site-packages\\sklearn\\model_selection\\_validation.py:598: DataConversionWarning: A column-vector y was passed when a 1d array was expected. Please change the shape of y to (n_samples,), for example using ravel().\n",
      "  estimator.fit(X_train, y_train, **fit_params)\n"
     ]
    },
    {
     "name": "stdout",
     "output_type": "stream",
     "text": [
      "[CV] END max_depth=3, max_features=auto, min_samples_leaf=5, min_samples_split=5, n_estimators=172; total time=   1.2s\n"
     ]
    },
    {
     "name": "stderr",
     "output_type": "stream",
     "text": [
      "c:\\users\\dell\\appdata\\local\\programs\\python\\python39\\lib\\site-packages\\sklearn\\model_selection\\_validation.py:598: DataConversionWarning: A column-vector y was passed when a 1d array was expected. Please change the shape of y to (n_samples,), for example using ravel().\n",
      "  estimator.fit(X_train, y_train, **fit_params)\n"
     ]
    },
    {
     "name": "stdout",
     "output_type": "stream",
     "text": [
      "[CV] END max_depth=3, max_features=auto, min_samples_leaf=5, min_samples_split=5, n_estimators=172; total time=   1.3s\n"
     ]
    },
    {
     "name": "stderr",
     "output_type": "stream",
     "text": [
      "c:\\users\\dell\\appdata\\local\\programs\\python\\python39\\lib\\site-packages\\sklearn\\model_selection\\_validation.py:598: DataConversionWarning: A column-vector y was passed when a 1d array was expected. Please change the shape of y to (n_samples,), for example using ravel().\n",
      "  estimator.fit(X_train, y_train, **fit_params)\n"
     ]
    },
    {
     "name": "stdout",
     "output_type": "stream",
     "text": [
      "[CV] END max_depth=3, max_features=auto, min_samples_leaf=5, min_samples_split=5, n_estimators=172; total time=   1.2s\n"
     ]
    },
    {
     "name": "stderr",
     "output_type": "stream",
     "text": [
      "c:\\users\\dell\\appdata\\local\\programs\\python\\python39\\lib\\site-packages\\sklearn\\model_selection\\_validation.py:598: DataConversionWarning: A column-vector y was passed when a 1d array was expected. Please change the shape of y to (n_samples,), for example using ravel().\n",
      "  estimator.fit(X_train, y_train, **fit_params)\n"
     ]
    },
    {
     "name": "stdout",
     "output_type": "stream",
     "text": [
      "[CV] END max_depth=3, max_features=auto, min_samples_leaf=5, min_samples_split=5, n_estimators=172; total time=   1.3s\n"
     ]
    },
    {
     "name": "stderr",
     "output_type": "stream",
     "text": [
      "c:\\users\\dell\\appdata\\local\\programs\\python\\python39\\lib\\site-packages\\sklearn\\model_selection\\_validation.py:598: DataConversionWarning: A column-vector y was passed when a 1d array was expected. Please change the shape of y to (n_samples,), for example using ravel().\n",
      "  estimator.fit(X_train, y_train, **fit_params)\n"
     ]
    },
    {
     "name": "stdout",
     "output_type": "stream",
     "text": [
      "[CV] END max_depth=4, max_features=auto, min_samples_leaf=10, min_samples_split=5, n_estimators=354; total time=   2.9s\n"
     ]
    },
    {
     "name": "stderr",
     "output_type": "stream",
     "text": [
      "c:\\users\\dell\\appdata\\local\\programs\\python\\python39\\lib\\site-packages\\sklearn\\model_selection\\_validation.py:598: DataConversionWarning: A column-vector y was passed when a 1d array was expected. Please change the shape of y to (n_samples,), for example using ravel().\n",
      "  estimator.fit(X_train, y_train, **fit_params)\n"
     ]
    },
    {
     "name": "stdout",
     "output_type": "stream",
     "text": [
      "[CV] END max_depth=4, max_features=auto, min_samples_leaf=10, min_samples_split=5, n_estimators=354; total time=   2.9s\n"
     ]
    },
    {
     "name": "stderr",
     "output_type": "stream",
     "text": [
      "c:\\users\\dell\\appdata\\local\\programs\\python\\python39\\lib\\site-packages\\sklearn\\model_selection\\_validation.py:598: DataConversionWarning: A column-vector y was passed when a 1d array was expected. Please change the shape of y to (n_samples,), for example using ravel().\n",
      "  estimator.fit(X_train, y_train, **fit_params)\n"
     ]
    },
    {
     "name": "stdout",
     "output_type": "stream",
     "text": [
      "[CV] END max_depth=4, max_features=auto, min_samples_leaf=10, min_samples_split=5, n_estimators=354; total time=   2.9s\n"
     ]
    },
    {
     "name": "stderr",
     "output_type": "stream",
     "text": [
      "c:\\users\\dell\\appdata\\local\\programs\\python\\python39\\lib\\site-packages\\sklearn\\model_selection\\_validation.py:598: DataConversionWarning: A column-vector y was passed when a 1d array was expected. Please change the shape of y to (n_samples,), for example using ravel().\n",
      "  estimator.fit(X_train, y_train, **fit_params)\n"
     ]
    },
    {
     "name": "stdout",
     "output_type": "stream",
     "text": [
      "[CV] END max_depth=4, max_features=auto, min_samples_leaf=10, min_samples_split=5, n_estimators=354; total time=   3.2s\n"
     ]
    },
    {
     "name": "stderr",
     "output_type": "stream",
     "text": [
      "c:\\users\\dell\\appdata\\local\\programs\\python\\python39\\lib\\site-packages\\sklearn\\model_selection\\_validation.py:598: DataConversionWarning: A column-vector y was passed when a 1d array was expected. Please change the shape of y to (n_samples,), for example using ravel().\n",
      "  estimator.fit(X_train, y_train, **fit_params)\n"
     ]
    },
    {
     "name": "stdout",
     "output_type": "stream",
     "text": [
      "[CV] END max_depth=4, max_features=auto, min_samples_leaf=10, min_samples_split=5, n_estimators=354; total time=   3.8s\n"
     ]
    },
    {
     "name": "stderr",
     "output_type": "stream",
     "text": [
      "c:\\users\\dell\\appdata\\local\\programs\\python\\python39\\lib\\site-packages\\sklearn\\model_selection\\_validation.py:598: DataConversionWarning: A column-vector y was passed when a 1d array was expected. Please change the shape of y to (n_samples,), for example using ravel().\n",
      "  estimator.fit(X_train, y_train, **fit_params)\n"
     ]
    },
    {
     "name": "stdout",
     "output_type": "stream",
     "text": [
      "[CV] END max_depth=3, max_features=sqrt, min_samples_leaf=1, min_samples_split=12, n_estimators=500; total time=   2.9s\n"
     ]
    },
    {
     "name": "stderr",
     "output_type": "stream",
     "text": [
      "c:\\users\\dell\\appdata\\local\\programs\\python\\python39\\lib\\site-packages\\sklearn\\model_selection\\_validation.py:598: DataConversionWarning: A column-vector y was passed when a 1d array was expected. Please change the shape of y to (n_samples,), for example using ravel().\n",
      "  estimator.fit(X_train, y_train, **fit_params)\n"
     ]
    },
    {
     "name": "stdout",
     "output_type": "stream",
     "text": [
      "[CV] END max_depth=3, max_features=sqrt, min_samples_leaf=1, min_samples_split=12, n_estimators=500; total time=   2.3s\n"
     ]
    },
    {
     "name": "stderr",
     "output_type": "stream",
     "text": [
      "c:\\users\\dell\\appdata\\local\\programs\\python\\python39\\lib\\site-packages\\sklearn\\model_selection\\_validation.py:598: DataConversionWarning: A column-vector y was passed when a 1d array was expected. Please change the shape of y to (n_samples,), for example using ravel().\n",
      "  estimator.fit(X_train, y_train, **fit_params)\n"
     ]
    },
    {
     "name": "stdout",
     "output_type": "stream",
     "text": [
      "[CV] END max_depth=3, max_features=sqrt, min_samples_leaf=1, min_samples_split=12, n_estimators=500; total time=   3.0s\n"
     ]
    },
    {
     "name": "stderr",
     "output_type": "stream",
     "text": [
      "c:\\users\\dell\\appdata\\local\\programs\\python\\python39\\lib\\site-packages\\sklearn\\model_selection\\_validation.py:598: DataConversionWarning: A column-vector y was passed when a 1d array was expected. Please change the shape of y to (n_samples,), for example using ravel().\n",
      "  estimator.fit(X_train, y_train, **fit_params)\n"
     ]
    },
    {
     "name": "stdout",
     "output_type": "stream",
     "text": [
      "[CV] END max_depth=3, max_features=sqrt, min_samples_leaf=1, min_samples_split=12, n_estimators=500; total time=   2.5s\n"
     ]
    },
    {
     "name": "stderr",
     "output_type": "stream",
     "text": [
      "c:\\users\\dell\\appdata\\local\\programs\\python\\python39\\lib\\site-packages\\sklearn\\model_selection\\_validation.py:598: DataConversionWarning: A column-vector y was passed when a 1d array was expected. Please change the shape of y to (n_samples,), for example using ravel().\n",
      "  estimator.fit(X_train, y_train, **fit_params)\n"
     ]
    },
    {
     "name": "stdout",
     "output_type": "stream",
     "text": [
      "[CV] END max_depth=3, max_features=sqrt, min_samples_leaf=1, min_samples_split=12, n_estimators=500; total time=   2.3s\n"
     ]
    },
    {
     "name": "stderr",
     "output_type": "stream",
     "text": [
      "c:\\users\\dell\\appdata\\local\\programs\\python\\python39\\lib\\site-packages\\sklearn\\model_selection\\_validation.py:598: DataConversionWarning: A column-vector y was passed when a 1d array was expected. Please change the shape of y to (n_samples,), for example using ravel().\n",
      "  estimator.fit(X_train, y_train, **fit_params)\n"
     ]
    },
    {
     "name": "stdout",
     "output_type": "stream",
     "text": [
      "[CV] END max_depth=4, max_features=auto, min_samples_leaf=10, min_samples_split=10, n_estimators=172; total time=   1.4s\n"
     ]
    },
    {
     "name": "stderr",
     "output_type": "stream",
     "text": [
      "c:\\users\\dell\\appdata\\local\\programs\\python\\python39\\lib\\site-packages\\sklearn\\model_selection\\_validation.py:598: DataConversionWarning: A column-vector y was passed when a 1d array was expected. Please change the shape of y to (n_samples,), for example using ravel().\n",
      "  estimator.fit(X_train, y_train, **fit_params)\n"
     ]
    },
    {
     "name": "stdout",
     "output_type": "stream",
     "text": [
      "[CV] END max_depth=4, max_features=auto, min_samples_leaf=10, min_samples_split=10, n_estimators=172; total time=   1.4s\n"
     ]
    },
    {
     "name": "stderr",
     "output_type": "stream",
     "text": [
      "c:\\users\\dell\\appdata\\local\\programs\\python\\python39\\lib\\site-packages\\sklearn\\model_selection\\_validation.py:598: DataConversionWarning: A column-vector y was passed when a 1d array was expected. Please change the shape of y to (n_samples,), for example using ravel().\n",
      "  estimator.fit(X_train, y_train, **fit_params)\n"
     ]
    },
    {
     "name": "stdout",
     "output_type": "stream",
     "text": [
      "[CV] END max_depth=4, max_features=auto, min_samples_leaf=10, min_samples_split=10, n_estimators=172; total time=   1.4s\n"
     ]
    },
    {
     "name": "stderr",
     "output_type": "stream",
     "text": [
      "c:\\users\\dell\\appdata\\local\\programs\\python\\python39\\lib\\site-packages\\sklearn\\model_selection\\_validation.py:598: DataConversionWarning: A column-vector y was passed when a 1d array was expected. Please change the shape of y to (n_samples,), for example using ravel().\n",
      "  estimator.fit(X_train, y_train, **fit_params)\n"
     ]
    },
    {
     "name": "stdout",
     "output_type": "stream",
     "text": [
      "[CV] END max_depth=4, max_features=auto, min_samples_leaf=10, min_samples_split=10, n_estimators=172; total time=   1.4s\n"
     ]
    },
    {
     "name": "stderr",
     "output_type": "stream",
     "text": [
      "c:\\users\\dell\\appdata\\local\\programs\\python\\python39\\lib\\site-packages\\sklearn\\model_selection\\_validation.py:598: DataConversionWarning: A column-vector y was passed when a 1d array was expected. Please change the shape of y to (n_samples,), for example using ravel().\n",
      "  estimator.fit(X_train, y_train, **fit_params)\n"
     ]
    },
    {
     "name": "stdout",
     "output_type": "stream",
     "text": [
      "[CV] END max_depth=4, max_features=auto, min_samples_leaf=10, min_samples_split=10, n_estimators=172; total time=   1.4s\n"
     ]
    },
    {
     "name": "stderr",
     "output_type": "stream",
     "text": [
      "c:\\users\\dell\\appdata\\local\\programs\\python\\python39\\lib\\site-packages\\sklearn\\model_selection\\_validation.py:598: DataConversionWarning: A column-vector y was passed when a 1d array was expected. Please change the shape of y to (n_samples,), for example using ravel().\n",
      "  estimator.fit(X_train, y_train, **fit_params)\n"
     ]
    },
    {
     "name": "stdout",
     "output_type": "stream",
     "text": [
      "[CV] END max_depth=3, max_features=auto, min_samples_leaf=1, min_samples_split=5, n_estimators=354; total time=   2.5s\n"
     ]
    },
    {
     "name": "stderr",
     "output_type": "stream",
     "text": [
      "c:\\users\\dell\\appdata\\local\\programs\\python\\python39\\lib\\site-packages\\sklearn\\model_selection\\_validation.py:598: DataConversionWarning: A column-vector y was passed when a 1d array was expected. Please change the shape of y to (n_samples,), for example using ravel().\n",
      "  estimator.fit(X_train, y_train, **fit_params)\n"
     ]
    },
    {
     "name": "stdout",
     "output_type": "stream",
     "text": [
      "[CV] END max_depth=3, max_features=auto, min_samples_leaf=1, min_samples_split=5, n_estimators=354; total time=   2.4s\n"
     ]
    },
    {
     "name": "stderr",
     "output_type": "stream",
     "text": [
      "c:\\users\\dell\\appdata\\local\\programs\\python\\python39\\lib\\site-packages\\sklearn\\model_selection\\_validation.py:598: DataConversionWarning: A column-vector y was passed when a 1d array was expected. Please change the shape of y to (n_samples,), for example using ravel().\n",
      "  estimator.fit(X_train, y_train, **fit_params)\n"
     ]
    },
    {
     "name": "stdout",
     "output_type": "stream",
     "text": [
      "[CV] END max_depth=3, max_features=auto, min_samples_leaf=1, min_samples_split=5, n_estimators=354; total time=   2.5s\n"
     ]
    },
    {
     "name": "stderr",
     "output_type": "stream",
     "text": [
      "c:\\users\\dell\\appdata\\local\\programs\\python\\python39\\lib\\site-packages\\sklearn\\model_selection\\_validation.py:598: DataConversionWarning: A column-vector y was passed when a 1d array was expected. Please change the shape of y to (n_samples,), for example using ravel().\n",
      "  estimator.fit(X_train, y_train, **fit_params)\n"
     ]
    },
    {
     "name": "stdout",
     "output_type": "stream",
     "text": [
      "[CV] END max_depth=3, max_features=auto, min_samples_leaf=1, min_samples_split=5, n_estimators=354; total time=   2.5s\n"
     ]
    },
    {
     "name": "stderr",
     "output_type": "stream",
     "text": [
      "c:\\users\\dell\\appdata\\local\\programs\\python\\python39\\lib\\site-packages\\sklearn\\model_selection\\_validation.py:598: DataConversionWarning: A column-vector y was passed when a 1d array was expected. Please change the shape of y to (n_samples,), for example using ravel().\n",
      "  estimator.fit(X_train, y_train, **fit_params)\n"
     ]
    },
    {
     "name": "stdout",
     "output_type": "stream",
     "text": [
      "[CV] END max_depth=3, max_features=auto, min_samples_leaf=1, min_samples_split=5, n_estimators=354; total time=   2.5s\n"
     ]
    },
    {
     "name": "stderr",
     "output_type": "stream",
     "text": [
      "c:\\users\\dell\\appdata\\local\\programs\\python\\python39\\lib\\site-packages\\sklearn\\model_selection\\_validation.py:598: DataConversionWarning: A column-vector y was passed when a 1d array was expected. Please change the shape of y to (n_samples,), for example using ravel().\n",
      "  estimator.fit(X_train, y_train, **fit_params)\n"
     ]
    },
    {
     "name": "stdout",
     "output_type": "stream",
     "text": [
      "[CV] END max_depth=5, max_features=auto, min_samples_leaf=5, min_samples_split=10, n_estimators=390; total time=   3.8s\n"
     ]
    },
    {
     "name": "stderr",
     "output_type": "stream",
     "text": [
      "c:\\users\\dell\\appdata\\local\\programs\\python\\python39\\lib\\site-packages\\sklearn\\model_selection\\_validation.py:598: DataConversionWarning: A column-vector y was passed when a 1d array was expected. Please change the shape of y to (n_samples,), for example using ravel().\n",
      "  estimator.fit(X_train, y_train, **fit_params)\n"
     ]
    },
    {
     "name": "stdout",
     "output_type": "stream",
     "text": [
      "[CV] END max_depth=5, max_features=auto, min_samples_leaf=5, min_samples_split=10, n_estimators=390; total time=   3.7s\n"
     ]
    },
    {
     "name": "stderr",
     "output_type": "stream",
     "text": [
      "c:\\users\\dell\\appdata\\local\\programs\\python\\python39\\lib\\site-packages\\sklearn\\model_selection\\_validation.py:598: DataConversionWarning: A column-vector y was passed when a 1d array was expected. Please change the shape of y to (n_samples,), for example using ravel().\n",
      "  estimator.fit(X_train, y_train, **fit_params)\n"
     ]
    },
    {
     "name": "stdout",
     "output_type": "stream",
     "text": [
      "[CV] END max_depth=5, max_features=auto, min_samples_leaf=5, min_samples_split=10, n_estimators=390; total time=   3.7s\n"
     ]
    },
    {
     "name": "stderr",
     "output_type": "stream",
     "text": [
      "c:\\users\\dell\\appdata\\local\\programs\\python\\python39\\lib\\site-packages\\sklearn\\model_selection\\_validation.py:598: DataConversionWarning: A column-vector y was passed when a 1d array was expected. Please change the shape of y to (n_samples,), for example using ravel().\n",
      "  estimator.fit(X_train, y_train, **fit_params)\n"
     ]
    },
    {
     "name": "stdout",
     "output_type": "stream",
     "text": [
      "[CV] END max_depth=5, max_features=auto, min_samples_leaf=5, min_samples_split=10, n_estimators=390; total time=   3.7s\n"
     ]
    },
    {
     "name": "stderr",
     "output_type": "stream",
     "text": [
      "c:\\users\\dell\\appdata\\local\\programs\\python\\python39\\lib\\site-packages\\sklearn\\model_selection\\_validation.py:598: DataConversionWarning: A column-vector y was passed when a 1d array was expected. Please change the shape of y to (n_samples,), for example using ravel().\n",
      "  estimator.fit(X_train, y_train, **fit_params)\n"
     ]
    },
    {
     "name": "stdout",
     "output_type": "stream",
     "text": [
      "[CV] END max_depth=5, max_features=auto, min_samples_leaf=5, min_samples_split=10, n_estimators=390; total time=   3.7s\n"
     ]
    },
    {
     "name": "stderr",
     "output_type": "stream",
     "text": [
      "c:\\users\\dell\\appdata\\local\\programs\\python\\python39\\lib\\site-packages\\sklearn\\model_selection\\_validation.py:598: DataConversionWarning: A column-vector y was passed when a 1d array was expected. Please change the shape of y to (n_samples,), for example using ravel().\n",
      "  estimator.fit(X_train, y_train, **fit_params)\n"
     ]
    },
    {
     "name": "stdout",
     "output_type": "stream",
     "text": [
      "[CV] END max_depth=3, max_features=sqrt, min_samples_leaf=1, min_samples_split=12, n_estimators=354; total time=   1.6s\n"
     ]
    },
    {
     "name": "stderr",
     "output_type": "stream",
     "text": [
      "c:\\users\\dell\\appdata\\local\\programs\\python\\python39\\lib\\site-packages\\sklearn\\model_selection\\_validation.py:598: DataConversionWarning: A column-vector y was passed when a 1d array was expected. Please change the shape of y to (n_samples,), for example using ravel().\n",
      "  estimator.fit(X_train, y_train, **fit_params)\n"
     ]
    },
    {
     "name": "stdout",
     "output_type": "stream",
     "text": [
      "[CV] END max_depth=3, max_features=sqrt, min_samples_leaf=1, min_samples_split=12, n_estimators=354; total time=   1.6s\n"
     ]
    },
    {
     "name": "stderr",
     "output_type": "stream",
     "text": [
      "c:\\users\\dell\\appdata\\local\\programs\\python\\python39\\lib\\site-packages\\sklearn\\model_selection\\_validation.py:598: DataConversionWarning: A column-vector y was passed when a 1d array was expected. Please change the shape of y to (n_samples,), for example using ravel().\n",
      "  estimator.fit(X_train, y_train, **fit_params)\n"
     ]
    },
    {
     "name": "stdout",
     "output_type": "stream",
     "text": [
      "[CV] END max_depth=3, max_features=sqrt, min_samples_leaf=1, min_samples_split=12, n_estimators=354; total time=   1.6s\n"
     ]
    },
    {
     "name": "stderr",
     "output_type": "stream",
     "text": [
      "c:\\users\\dell\\appdata\\local\\programs\\python\\python39\\lib\\site-packages\\sklearn\\model_selection\\_validation.py:598: DataConversionWarning: A column-vector y was passed when a 1d array was expected. Please change the shape of y to (n_samples,), for example using ravel().\n",
      "  estimator.fit(X_train, y_train, **fit_params)\n"
     ]
    },
    {
     "name": "stdout",
     "output_type": "stream",
     "text": [
      "[CV] END max_depth=3, max_features=sqrt, min_samples_leaf=1, min_samples_split=12, n_estimators=354; total time=   1.6s\n"
     ]
    },
    {
     "name": "stderr",
     "output_type": "stream",
     "text": [
      "c:\\users\\dell\\appdata\\local\\programs\\python\\python39\\lib\\site-packages\\sklearn\\model_selection\\_validation.py:598: DataConversionWarning: A column-vector y was passed when a 1d array was expected. Please change the shape of y to (n_samples,), for example using ravel().\n",
      "  estimator.fit(X_train, y_train, **fit_params)\n"
     ]
    },
    {
     "name": "stdout",
     "output_type": "stream",
     "text": [
      "[CV] END max_depth=3, max_features=sqrt, min_samples_leaf=1, min_samples_split=12, n_estimators=354; total time=   1.6s\n"
     ]
    },
    {
     "name": "stderr",
     "output_type": "stream",
     "text": [
      "c:\\users\\dell\\appdata\\local\\programs\\python\\python39\\lib\\site-packages\\sklearn\\model_selection\\_validation.py:598: DataConversionWarning: A column-vector y was passed when a 1d array was expected. Please change the shape of y to (n_samples,), for example using ravel().\n",
      "  estimator.fit(X_train, y_train, **fit_params)\n"
     ]
    },
    {
     "name": "stdout",
     "output_type": "stream",
     "text": [
      "[CV] END max_depth=4, max_features=auto, min_samples_leaf=10, min_samples_split=12, n_estimators=245; total time=   2.3s\n"
     ]
    },
    {
     "name": "stderr",
     "output_type": "stream",
     "text": [
      "c:\\users\\dell\\appdata\\local\\programs\\python\\python39\\lib\\site-packages\\sklearn\\model_selection\\_validation.py:598: DataConversionWarning: A column-vector y was passed when a 1d array was expected. Please change the shape of y to (n_samples,), for example using ravel().\n",
      "  estimator.fit(X_train, y_train, **fit_params)\n"
     ]
    },
    {
     "name": "stdout",
     "output_type": "stream",
     "text": [
      "[CV] END max_depth=4, max_features=auto, min_samples_leaf=10, min_samples_split=12, n_estimators=245; total time=   2.0s\n"
     ]
    },
    {
     "name": "stderr",
     "output_type": "stream",
     "text": [
      "c:\\users\\dell\\appdata\\local\\programs\\python\\python39\\lib\\site-packages\\sklearn\\model_selection\\_validation.py:598: DataConversionWarning: A column-vector y was passed when a 1d array was expected. Please change the shape of y to (n_samples,), for example using ravel().\n",
      "  estimator.fit(X_train, y_train, **fit_params)\n"
     ]
    },
    {
     "name": "stdout",
     "output_type": "stream",
     "text": [
      "[CV] END max_depth=4, max_features=auto, min_samples_leaf=10, min_samples_split=12, n_estimators=245; total time=   2.0s\n"
     ]
    },
    {
     "name": "stderr",
     "output_type": "stream",
     "text": [
      "c:\\users\\dell\\appdata\\local\\programs\\python\\python39\\lib\\site-packages\\sklearn\\model_selection\\_validation.py:598: DataConversionWarning: A column-vector y was passed when a 1d array was expected. Please change the shape of y to (n_samples,), for example using ravel().\n",
      "  estimator.fit(X_train, y_train, **fit_params)\n"
     ]
    },
    {
     "name": "stdout",
     "output_type": "stream",
     "text": [
      "[CV] END max_depth=4, max_features=auto, min_samples_leaf=10, min_samples_split=12, n_estimators=245; total time=   2.5s\n"
     ]
    },
    {
     "name": "stderr",
     "output_type": "stream",
     "text": [
      "c:\\users\\dell\\appdata\\local\\programs\\python\\python39\\lib\\site-packages\\sklearn\\model_selection\\_validation.py:598: DataConversionWarning: A column-vector y was passed when a 1d array was expected. Please change the shape of y to (n_samples,), for example using ravel().\n",
      "  estimator.fit(X_train, y_train, **fit_params)\n"
     ]
    },
    {
     "name": "stdout",
     "output_type": "stream",
     "text": [
      "[CV] END max_depth=4, max_features=auto, min_samples_leaf=10, min_samples_split=12, n_estimators=245; total time=   2.6s\n"
     ]
    },
    {
     "name": "stderr",
     "output_type": "stream",
     "text": [
      "c:\\users\\dell\\appdata\\local\\programs\\python\\python39\\lib\\site-packages\\sklearn\\model_selection\\_validation.py:598: DataConversionWarning: A column-vector y was passed when a 1d array was expected. Please change the shape of y to (n_samples,), for example using ravel().\n",
      "  estimator.fit(X_train, y_train, **fit_params)\n"
     ]
    },
    {
     "name": "stdout",
     "output_type": "stream",
     "text": [
      "[CV] END max_depth=4, max_features=auto, min_samples_leaf=1, min_samples_split=2, n_estimators=209; total time=   2.1s\n"
     ]
    },
    {
     "name": "stderr",
     "output_type": "stream",
     "text": [
      "c:\\users\\dell\\appdata\\local\\programs\\python\\python39\\lib\\site-packages\\sklearn\\model_selection\\_validation.py:598: DataConversionWarning: A column-vector y was passed when a 1d array was expected. Please change the shape of y to (n_samples,), for example using ravel().\n",
      "  estimator.fit(X_train, y_train, **fit_params)\n"
     ]
    },
    {
     "name": "stdout",
     "output_type": "stream",
     "text": [
      "[CV] END max_depth=4, max_features=auto, min_samples_leaf=1, min_samples_split=2, n_estimators=209; total time=   2.4s\n"
     ]
    },
    {
     "name": "stderr",
     "output_type": "stream",
     "text": [
      "c:\\users\\dell\\appdata\\local\\programs\\python\\python39\\lib\\site-packages\\sklearn\\model_selection\\_validation.py:598: DataConversionWarning: A column-vector y was passed when a 1d array was expected. Please change the shape of y to (n_samples,), for example using ravel().\n",
      "  estimator.fit(X_train, y_train, **fit_params)\n"
     ]
    },
    {
     "name": "stdout",
     "output_type": "stream",
     "text": [
      "[CV] END max_depth=4, max_features=auto, min_samples_leaf=1, min_samples_split=2, n_estimators=209; total time=   2.0s\n"
     ]
    },
    {
     "name": "stderr",
     "output_type": "stream",
     "text": [
      "c:\\users\\dell\\appdata\\local\\programs\\python\\python39\\lib\\site-packages\\sklearn\\model_selection\\_validation.py:598: DataConversionWarning: A column-vector y was passed when a 1d array was expected. Please change the shape of y to (n_samples,), for example using ravel().\n",
      "  estimator.fit(X_train, y_train, **fit_params)\n"
     ]
    },
    {
     "name": "stdout",
     "output_type": "stream",
     "text": [
      "[CV] END max_depth=4, max_features=auto, min_samples_leaf=1, min_samples_split=2, n_estimators=209; total time=   1.7s\n"
     ]
    },
    {
     "name": "stderr",
     "output_type": "stream",
     "text": [
      "c:\\users\\dell\\appdata\\local\\programs\\python\\python39\\lib\\site-packages\\sklearn\\model_selection\\_validation.py:598: DataConversionWarning: A column-vector y was passed when a 1d array was expected. Please change the shape of y to (n_samples,), for example using ravel().\n",
      "  estimator.fit(X_train, y_train, **fit_params)\n"
     ]
    },
    {
     "name": "stdout",
     "output_type": "stream",
     "text": [
      "[CV] END max_depth=4, max_features=auto, min_samples_leaf=1, min_samples_split=2, n_estimators=209; total time=   1.7s\n"
     ]
    },
    {
     "name": "stderr",
     "output_type": "stream",
     "text": [
      "c:\\users\\dell\\appdata\\local\\programs\\python\\python39\\lib\\site-packages\\sklearn\\model_selection\\_search.py:880: DataConversionWarning: A column-vector y was passed when a 1d array was expected. Please change the shape of y to (n_samples,), for example using ravel().\n",
      "  self.best_estimator_.fit(X, y, **fit_params)\n"
     ]
    },
    {
     "data": {
      "text/plain": [
       "RandomizedSearchCV(cv=5, estimator=RandomForestRegressor(),\n",
       "                   param_distributions={'max_depth': [5, 4, 4, 3, 3, 3],\n",
       "                                        'max_features': ['auto', 'sqrt'],\n",
       "                                        'min_samples_leaf': [1, 2, 5, 10],\n",
       "                                        'min_samples_split': [2, 5, 10, 12,\n",
       "                                                              100],\n",
       "                                        'n_estimators': [100, 136, 172, 209,\n",
       "                                                         245, 281, 318, 354,\n",
       "                                                         390, 427, 463, 500]},\n",
       "                   scoring='neg_mean_squared_error', verbose=2)"
      ]
     },
     "execution_count": 190,
     "metadata": {},
     "output_type": "execute_result"
    }
   ],
   "source": [
    "rdm_rand_forest.fit(x_train_sc,y_train)"
   ]
  },
  {
   "cell_type": "code",
   "execution_count": 114,
   "id": "7fe3d579",
   "metadata": {},
   "outputs": [],
   "source": [
    "y_pred =  rfr.predict(x_test)\n",
    "\n"
   ]
  },
  {
   "cell_type": "code",
   "execution_count": 115,
   "id": "805bdea9",
   "metadata": {},
   "outputs": [
    {
     "data": {
      "text/plain": [
       "array([ 52255.14,  29860.  ,  85316.97, ..., 306149.8 ,  25000.  ,\n",
       "       450000.  ])"
      ]
     },
     "execution_count": 115,
     "metadata": {},
     "output_type": "execute_result"
    }
   ],
   "source": [
    "y_pred"
   ]
  },
  {
   "cell_type": "code",
   "execution_count": 116,
   "id": "97da1f3f",
   "metadata": {},
   "outputs": [
    {
     "data": {
      "text/plain": [
       "(6526,)"
      ]
     },
     "execution_count": 116,
     "metadata": {},
     "output_type": "execute_result"
    }
   ],
   "source": [
    "y_pred.shape            # by machine"
   ]
  },
  {
   "cell_type": "code",
   "execution_count": 118,
   "id": "2e52451c",
   "metadata": {},
   "outputs": [
    {
     "data": {
      "text/plain": [
       "(6526,)"
      ]
     },
     "execution_count": 118,
     "metadata": {},
     "output_type": "execute_result"
    }
   ],
   "source": [
    "y_test.shape            # actually"
   ]
  },
  {
   "cell_type": "code",
   "execution_count": 122,
   "id": "24de0708",
   "metadata": {},
   "outputs": [
    {
     "data": {
      "text/plain": [
       "27836     14227.0\n",
       "11507     35000.0\n",
       "31232    123000.0\n",
       "10214     18000.0\n",
       "15704     87000.0\n",
       "6873      38000.0\n",
       "29878     87000.0\n",
       "27683     18000.0\n",
       "17993     18000.0\n",
       "31374     80000.0\n",
       "Name: price, dtype: float64"
      ]
     },
     "execution_count": 122,
     "metadata": {},
     "output_type": "execute_result"
    }
   ],
   "source": [
    "y_test[10:20]"
   ]
  },
  {
   "cell_type": "code",
   "execution_count": 123,
   "id": "3937e352",
   "metadata": {},
   "outputs": [
    {
     "name": "stdout",
     "output_type": "stream",
     "text": [
      "14227.0\n",
      "35000.0\n",
      "123000.0\n",
      "18000.0\n",
      "87000.0\n",
      "44023.0\n",
      "87000.0\n",
      "18000.0\n",
      "18000.0\n",
      "80000.0\n"
     ]
    }
   ],
   "source": [
    "for i in y_pred[10:20]:\n",
    "    print(i)"
   ]
  },
  {
   "cell_type": "markdown",
   "id": "d8101b6d",
   "metadata": {},
   "source": [
    "# model testing "
   ]
  },
  {
   "cell_type": "code",
   "execution_count": 61,
   "id": "2e9c675e",
   "metadata": {},
   "outputs": [
    {
     "data": {
      "text/plain": [
       "0.9699418803266026"
      ]
     },
     "execution_count": 61,
     "metadata": {},
     "output_type": "execute_result"
    }
   ],
   "source": [
    "rfr2.score(x_test_sc,y_test)         #     this is my best model\n",
    "# randomforest with scaled dataa"
   ]
  },
  {
   "cell_type": "code",
   "execution_count": 64,
   "id": "7b528610",
   "metadata": {},
   "outputs": [
    {
     "data": {
      "text/plain": [
       "0.9699418803266026"
      ]
     },
     "execution_count": 64,
     "metadata": {},
     "output_type": "execute_result"
    }
   ],
   "source": [
    "from sklearn.metrics import r2_score\n",
    "r2_score(y_test,y_pred)"
   ]
  },
  {
   "cell_type": "code",
   "execution_count": 65,
   "id": "63ee1b74",
   "metadata": {},
   "outputs": [
    {
     "data": {
      "text/plain": [
       "36005813.08726671"
      ]
     },
     "execution_count": 65,
     "metadata": {},
     "output_type": "execute_result"
    }
   ],
   "source": [
    "from sklearn.metrics import mean_squared_error\n",
    "mse=mean_squared_error(y_test,y_pred)\n",
    "mse"
   ]
  },
  {
   "cell_type": "code",
   "execution_count": 66,
   "id": "15842729",
   "metadata": {},
   "outputs": [
    {
     "data": {
      "text/plain": [
       "6000.484404384925"
      ]
     },
     "execution_count": 66,
     "metadata": {},
     "output_type": "execute_result"
    }
   ],
   "source": [
    "np.sqrt(mse)"
   ]
  },
  {
   "cell_type": "code",
   "execution_count": 67,
   "id": "d841a9f0",
   "metadata": {},
   "outputs": [
    {
     "name": "stderr",
     "output_type": "stream",
     "text": [
      "c:\\users\\dell\\appdata\\local\\programs\\python\\python39\\lib\\site-packages\\sklearn\\model_selection\\_validation.py:598: DataConversionWarning: A column-vector y was passed when a 1d array was expected. Please change the shape of y to (n_samples,), for example using ravel().\n",
      "  estimator.fit(X_train, y_train, **fit_params)\n",
      "c:\\users\\dell\\appdata\\local\\programs\\python\\python39\\lib\\site-packages\\sklearn\\model_selection\\_validation.py:598: DataConversionWarning: A column-vector y was passed when a 1d array was expected. Please change the shape of y to (n_samples,), for example using ravel().\n",
      "  estimator.fit(X_train, y_train, **fit_params)\n",
      "c:\\users\\dell\\appdata\\local\\programs\\python\\python39\\lib\\site-packages\\sklearn\\model_selection\\_validation.py:598: DataConversionWarning: A column-vector y was passed when a 1d array was expected. Please change the shape of y to (n_samples,), for example using ravel().\n",
      "  estimator.fit(X_train, y_train, **fit_params)\n",
      "c:\\users\\dell\\appdata\\local\\programs\\python\\python39\\lib\\site-packages\\sklearn\\model_selection\\_validation.py:598: DataConversionWarning: A column-vector y was passed when a 1d array was expected. Please change the shape of y to (n_samples,), for example using ravel().\n",
      "  estimator.fit(X_train, y_train, **fit_params)\n",
      "c:\\users\\dell\\appdata\\local\\programs\\python\\python39\\lib\\site-packages\\sklearn\\model_selection\\_validation.py:598: DataConversionWarning: A column-vector y was passed when a 1d array was expected. Please change the shape of y to (n_samples,), for example using ravel().\n",
      "  estimator.fit(X_train, y_train, **fit_params)\n"
     ]
    },
    {
     "name": "stdout",
     "output_type": "stream",
     "text": [
      "cross validation value :-  [0.96553529 0.96806312 0.97071516 0.96422045 0.96812097]\n",
      "\n",
      "<built-in method mean of numpy.ndarray object at 0x0000025D0FEB9DB0>\n"
     ]
    }
   ],
   "source": [
    "@@@@@@@@@@@@@@@@@@@@\n",
    "from sklearn.model_selection import cross_val_score\n",
    "cross_validation=cross_val_score(rfr2,x_train,y_train)\n",
    "print('cross validation value :- ',cross_validation)\n",
    "print()\n",
    "print(cross_validation.mean())"
   ]
  },
  {
   "cell_type": "code",
   "execution_count": 68,
   "id": "a803ec60",
   "metadata": {},
   "outputs": [
    {
     "data": {
      "text/plain": [
       "0.9673309987598697"
      ]
     },
     "execution_count": 68,
     "metadata": {},
     "output_type": "execute_result"
    }
   ],
   "source": [
    "cross_validation.mean()         # cross validation mean average score"
   ]
  },
  {
   "cell_type": "code",
   "execution_count": 214,
   "id": "518500c1",
   "metadata": {},
   "outputs": [
    {
     "data": {
      "text/plain": [
       "array([123000.,  41000.,  55000., ...,  22000.,  55005.,  32000.])"
      ]
     },
     "execution_count": 214,
     "metadata": {},
     "output_type": "execute_result"
    }
   ],
   "source": [
    "y_pred"
   ]
  },
  {
   "cell_type": "code",
   "execution_count": 72,
   "id": "7ec7da52",
   "metadata": {},
   "outputs": [],
   "source": [
    "y_pred2=rfr.predict(x_test)"
   ]
  },
  {
   "cell_type": "code",
   "execution_count": 73,
   "id": "f09f927b",
   "metadata": {},
   "outputs": [
    {
     "name": "stderr",
     "output_type": "stream",
     "text": [
      "<ipython-input-73-59d45f2a2c78>:1: SettingWithCopyWarning: \n",
      "A value is trying to be set on a copy of a slice from a DataFrame.\n",
      "Try using .loc[row_indexer,col_indexer] = value instead\n",
      "\n",
      "See the caveats in the documentation: https://pandas.pydata.org/pandas-docs/stable/user_guide/indexing.html#returning-a-view-versus-a-copy\n",
      "  y_test['predicted_value_without_scl']=y_pred2\n"
     ]
    }
   ],
   "source": [
    "y_test['predicted_value_without_scl']=y_pred2"
   ]
  },
  {
   "cell_type": "code",
   "execution_count": 74,
   "id": "d14822bc",
   "metadata": {},
   "outputs": [
    {
     "data": {
      "text/html": [
       "<div>\n",
       "<style scoped>\n",
       "    .dataframe tbody tr th:only-of-type {\n",
       "        vertical-align: middle;\n",
       "    }\n",
       "\n",
       "    .dataframe tbody tr th {\n",
       "        vertical-align: top;\n",
       "    }\n",
       "\n",
       "    .dataframe thead th {\n",
       "        text-align: right;\n",
       "    }\n",
       "</style>\n",
       "<table border=\"1\" class=\"dataframe\">\n",
       "  <thead>\n",
       "    <tr style=\"text-align: right;\">\n",
       "      <th></th>\n",
       "      <th>price</th>\n",
       "      <th>predicted_value</th>\n",
       "      <th>predicted_value_without_scl</th>\n",
       "    </tr>\n",
       "  </thead>\n",
       "  <tbody>\n",
       "    <tr>\n",
       "      <th>17856</th>\n",
       "      <td>123000.0</td>\n",
       "      <td>123000.0</td>\n",
       "      <td>123000.0</td>\n",
       "    </tr>\n",
       "    <tr>\n",
       "      <th>19588</th>\n",
       "      <td>41000.0</td>\n",
       "      <td>41000.0</td>\n",
       "      <td>41000.0</td>\n",
       "    </tr>\n",
       "    <tr>\n",
       "      <th>25791</th>\n",
       "      <td>55000.0</td>\n",
       "      <td>55000.0</td>\n",
       "      <td>55000.0</td>\n",
       "    </tr>\n",
       "    <tr>\n",
       "      <th>6401</th>\n",
       "      <td>75000.0</td>\n",
       "      <td>107693.0</td>\n",
       "      <td>106245.0</td>\n",
       "    </tr>\n",
       "    <tr>\n",
       "      <th>17820</th>\n",
       "      <td>10000.0</td>\n",
       "      <td>10000.0</td>\n",
       "      <td>10000.0</td>\n",
       "    </tr>\n",
       "    <tr>\n",
       "      <th>...</th>\n",
       "      <td>...</td>\n",
       "      <td>...</td>\n",
       "      <td>...</td>\n",
       "    </tr>\n",
       "    <tr>\n",
       "      <th>19824</th>\n",
       "      <td>32000.0</td>\n",
       "      <td>32000.0</td>\n",
       "      <td>32000.0</td>\n",
       "    </tr>\n",
       "    <tr>\n",
       "      <th>27216</th>\n",
       "      <td>20000.0</td>\n",
       "      <td>20000.0</td>\n",
       "      <td>20000.0</td>\n",
       "    </tr>\n",
       "    <tr>\n",
       "      <th>17580</th>\n",
       "      <td>22000.0</td>\n",
       "      <td>22000.0</td>\n",
       "      <td>22000.0</td>\n",
       "    </tr>\n",
       "    <tr>\n",
       "      <th>25602</th>\n",
       "      <td>55005.0</td>\n",
       "      <td>55005.0</td>\n",
       "      <td>55005.0</td>\n",
       "    </tr>\n",
       "    <tr>\n",
       "      <th>19435</th>\n",
       "      <td>32000.0</td>\n",
       "      <td>32000.0</td>\n",
       "      <td>32000.0</td>\n",
       "    </tr>\n",
       "  </tbody>\n",
       "</table>\n",
       "<p>5801 rows × 3 columns</p>\n",
       "</div>"
      ],
      "text/plain": [
       "          price  predicted_value  predicted_value_without_scl\n",
       "17856  123000.0         123000.0                     123000.0\n",
       "19588   41000.0          41000.0                      41000.0\n",
       "25791   55000.0          55000.0                      55000.0\n",
       "6401    75000.0         107693.0                     106245.0\n",
       "17820   10000.0          10000.0                      10000.0\n",
       "...         ...              ...                          ...\n",
       "19824   32000.0          32000.0                      32000.0\n",
       "27216   20000.0          20000.0                      20000.0\n",
       "17580   22000.0          22000.0                      22000.0\n",
       "25602   55005.0          55005.0                      55005.0\n",
       "19435   32000.0          32000.0                      32000.0\n",
       "\n",
       "[5801 rows x 3 columns]"
      ]
     },
     "execution_count": 74,
     "metadata": {},
     "output_type": "execute_result"
    }
   ],
   "source": [
    "y_test"
   ]
  },
  {
   "cell_type": "markdown",
   "id": "9b110f6a",
   "metadata": {},
   "source": [
    "# superb 😄😄😃😁😎😎 you can see now my model is absolute good "
   ]
  },
  {
   "cell_type": "code",
   "execution_count": 219,
   "id": "fbf28a40",
   "metadata": {},
   "outputs": [
    {
     "data": {
      "text/plain": [
       "<seaborn.axisgrid.FacetGrid at 0x216a96ddf40>"
      ]
     },
     "execution_count": 219,
     "metadata": {},
     "output_type": "execute_result"
    },
    {
     "data": {
      "image/png": "[encoded data removed]",
      "text/plain": [
       "<Figure size 360x360 with 1 Axes>"
      ]
     },
     "metadata": {},
     "output_type": "display_data"
    }
   ],
   "source": [
    "sns.relplot(x='price',y='predicted_value',data=y_test)"
   ]
  },
  {
   "cell_type": "code",
   "execution_count": 220,
   "id": "f0b5b184",
   "metadata": {},
   "outputs": [
    {
     "data": {
      "text/plain": [
       "<seaborn.axisgrid.FacetGrid at 0x216aca3cdf0>"
      ]
     },
     "execution_count": 220,
     "metadata": {},
     "output_type": "execute_result"
    },
    {
     "data": {
      "image/png": "[encoded data removed]",
      "text/plain": [
       "<Figure size 360x360 with 1 Axes>"
      ]
     },
     "metadata": {},
     "output_type": "display_data"
    }
   ],
   "source": [
    "sns.relplot(x='price',y='predicted_value',data=y_test,kind='line')"
   ]
  },
  {
   "cell_type": "code",
   "execution_count": 221,
   "id": "b042accf",
   "metadata": {},
   "outputs": [
    {
     "name": "stderr",
     "output_type": "stream",
     "text": [
      "c:\\users\\dell\\appdata\\local\\programs\\python\\python39\\lib\\site-packages\\seaborn\\distributions.py:2557: FutureWarning: `distplot` is a deprecated function and will be removed in a future version. Please adapt your code to use either `displot` (a figure-level function with similar flexibility) or `histplot` (an axes-level function for histograms).\n",
      "  warnings.warn(msg, FutureWarning)\n"
     ]
    },
    {
     "data": {
      "text/plain": [
       "<AxesSubplot:xlabel='price', ylabel='Density'>"
      ]
     },
     "execution_count": 221,
     "metadata": {},
     "output_type": "execute_result"
    },
    {
     "data": {
      "image/png": "[encoded data removed]",
      "text/plain": [
       "<Figure size 720x576 with 1 Axes>"
      ]
     },
     "metadata": {},
     "output_type": "display_data"
    }
   ],
   "source": [
    "sns.distplot(y_test['price'])"
   ]
  },
  {
   "cell_type": "code",
   "execution_count": 222,
   "id": "91017ea5",
   "metadata": {},
   "outputs": [
    {
     "name": "stderr",
     "output_type": "stream",
     "text": [
      "c:\\users\\dell\\appdata\\local\\programs\\python\\python39\\lib\\site-packages\\seaborn\\distributions.py:2557: FutureWarning: `distplot` is a deprecated function and will be removed in a future version. Please adapt your code to use either `displot` (a figure-level function with similar flexibility) or `histplot` (an axes-level function for histograms).\n",
      "  warnings.warn(msg, FutureWarning)\n"
     ]
    },
    {
     "data": {
      "text/plain": [
       "<AxesSubplot:xlabel='predicted_value', ylabel='Density'>"
      ]
     },
     "execution_count": 222,
     "metadata": {},
     "output_type": "execute_result"
    },
    {
     "data": {
      "image/png": "[encoded data removed]",
      "text/plain": [
       "<Figure size 720x576 with 1 Axes>"
      ]
     },
     "metadata": {},
     "output_type": "display_data"
    }
   ],
   "source": [
    "sns.distplot(y_test['predicted_value'])"
   ]
  },
  {
   "cell_type": "code",
   "execution_count": 228,
   "id": "1b2a0df3",
   "metadata": {},
   "outputs": [
    {
     "name": "stderr",
     "output_type": "stream",
     "text": [
      "c:\\users\\dell\\appdata\\local\\programs\\python\\python39\\lib\\site-packages\\seaborn\\distributions.py:2557: FutureWarning: `distplot` is a deprecated function and will be removed in a future version. Please adapt your code to use either `displot` (a figure-level function with similar flexibility) or `histplot` (an axes-level function for histograms).\n",
      "  warnings.warn(msg, FutureWarning)\n",
      "c:\\users\\dell\\appdata\\local\\programs\\python\\python39\\lib\\site-packages\\seaborn\\distributions.py:2557: FutureWarning: `distplot` is a deprecated function and will be removed in a future version. Please adapt your code to use either `displot` (a figure-level function with similar flexibility) or `histplot` (an axes-level function for histograms).\n",
      "  warnings.warn(msg, FutureWarning)\n"
     ]
    },
    {
     "data": {
      "text/plain": [
       "Text(0.5, 1.0, 'There is no difference ')"
      ]
     },
     "execution_count": 228,
     "metadata": {},
     "output_type": "execute_result"
    },
    {
     "data": {
      "image/png": "[encoded data removed]",
      "text/plain": [
       "<Figure size 720x576 with 1 Axes>"
      ]
     },
     "metadata": {},
     "output_type": "display_data"
    }
   ],
   "source": [
    "sns.distplot(y_test['predicted_value'],kde_kws={'lw':6,'color':'r'},label=['predicted_value'])\n",
    "sns.distplot(y_test['price'],kde_kws={'lw':3,'color':'b'},label=['original_value'])\n",
    "plt.legend()\n",
    "plt.title('There is no difference ',fontsize=22,color='r')"
   ]
  },
  {
   "cell_type": "markdown",
   "id": "a5140e91",
   "metadata": {},
   "source": [
    "# SAVE THE MODEL"
   ]
  },
  {
   "cell_type": "code",
   "execution_count": 124,
   "id": "1a7a0ebd",
   "metadata": {},
   "outputs": [],
   "source": [
    "import pickle"
   ]
  },
  {
   "cell_type": "code",
   "execution_count": 125,
   "id": "3bbe26c7",
   "metadata": {},
   "outputs": [],
   "source": [
    "pickle.dump(rfr,open('bike_price_prediction.pkl','wb'))"
   ]
  },
  {
   "cell_type": "code",
   "execution_count": 126,
   "id": "f7a5f428",
   "metadata": {},
   "outputs": [],
   "source": [
    "model2 =  pickle.load(open('bike_price_prediction.pkl','rb'))"
   ]
  },
  {
   "cell_type": "code",
   "execution_count": 128,
   "id": "8c795f2d",
   "metadata": {},
   "outputs": [],
   "source": [
    "import numpy as np"
   ]
  },
  {
   "cell_type": "code",
   "execution_count": 130,
   "id": "447bd3e9",
   "metadata": {},
   "outputs": [
    {
     "data": {
      "text/html": [
       "<div>\n",
       "<style scoped>\n",
       "    .dataframe tbody tr th:only-of-type {\n",
       "        vertical-align: middle;\n",
       "    }\n",
       "\n",
       "    .dataframe tbody tr th {\n",
       "        vertical-align: top;\n",
       "    }\n",
       "\n",
       "    .dataframe thead th {\n",
       "        text-align: right;\n",
       "    }\n",
       "</style>\n",
       "<table border=\"1\" class=\"dataframe\">\n",
       "  <thead>\n",
       "    <tr style=\"text-align: right;\">\n",
       "      <th></th>\n",
       "      <th>0</th>\n",
       "      <th>1</th>\n",
       "      <th>2</th>\n",
       "      <th>3</th>\n",
       "      <th>4</th>\n",
       "    </tr>\n",
       "  </thead>\n",
       "  <tbody>\n",
       "    <tr>\n",
       "      <th>0</th>\n",
       "      <td>2500</td>\n",
       "      <td>2</td>\n",
       "      <td>3</td>\n",
       "      <td>25</td>\n",
       "      <td>1</td>\n",
       "    </tr>\n",
       "  </tbody>\n",
       "</table>\n",
       "</div>"
      ],
      "text/plain": [
       "      0  1  2   3  4\n",
       "0  2500  2  3  25  1"
      ]
     },
     "execution_count": 130,
     "metadata": {},
     "output_type": "execute_result"
    }
   ],
   "source": [
    "pd.DataFrame(np.array([[2500,2,3,25,1]]))"
   ]
  },
  {
   "cell_type": "code",
   "execution_count": 134,
   "id": "9cabb93a",
   "metadata": {},
   "outputs": [
    {
     "data": {
      "text/plain": [
       "array([43378.])"
      ]
     },
     "execution_count": 134,
     "metadata": {},
     "output_type": "execute_result"
    }
   ],
   "source": [
    "model2.predict([[2852,2,1,100,4]])"
   ]
  },
  {
   "cell_type": "code",
   "execution_count": 131,
   "id": "04243598",
   "metadata": {},
   "outputs": [
    {
     "data": {
      "text/html": [
       "<div>\n",
       "<style scoped>\n",
       "    .dataframe tbody tr th:only-of-type {\n",
       "        vertical-align: middle;\n",
       "    }\n",
       "\n",
       "    .dataframe tbody tr th {\n",
       "        vertical-align: top;\n",
       "    }\n",
       "\n",
       "    .dataframe thead th {\n",
       "        text-align: right;\n",
       "    }\n",
       "</style>\n",
       "<table border=\"1\" class=\"dataframe\">\n",
       "  <thead>\n",
       "    <tr style=\"text-align: right;\">\n",
       "      <th></th>\n",
       "      <th>kms_driven</th>\n",
       "      <th>owner</th>\n",
       "      <th>age</th>\n",
       "      <th>power</th>\n",
       "      <th>brand</th>\n",
       "    </tr>\n",
       "  </thead>\n",
       "  <tbody>\n",
       "    <tr>\n",
       "      <th>6009</th>\n",
       "      <td>21062.0</td>\n",
       "      <td>1</td>\n",
       "      <td>10.0</td>\n",
       "      <td>135.0</td>\n",
       "      <td>3.0</td>\n",
       "    </tr>\n",
       "    <tr>\n",
       "      <th>30297</th>\n",
       "      <td>13858.0</td>\n",
       "      <td>2</td>\n",
       "      <td>11.0</td>\n",
       "      <td>350.0</td>\n",
       "      <td>1.0</td>\n",
       "    </tr>\n",
       "    <tr>\n",
       "      <th>21490</th>\n",
       "      <td>36000.0</td>\n",
       "      <td>1</td>\n",
       "      <td>15.0</td>\n",
       "      <td>150.0</td>\n",
       "      <td>3.0</td>\n",
       "    </tr>\n",
       "    <tr>\n",
       "      <th>22626</th>\n",
       "      <td>140.0</td>\n",
       "      <td>1</td>\n",
       "      <td>3.0</td>\n",
       "      <td>160.0</td>\n",
       "      <td>6.0</td>\n",
       "    </tr>\n",
       "    <tr>\n",
       "      <th>20614</th>\n",
       "      <td>65000.0</td>\n",
       "      <td>1</td>\n",
       "      <td>12.0</td>\n",
       "      <td>150.0</td>\n",
       "      <td>5.0</td>\n",
       "    </tr>\n",
       "  </tbody>\n",
       "</table>\n",
       "</div>"
      ],
      "text/plain": [
       "       kms_driven  owner   age  power  brand\n",
       "6009      21062.0      1  10.0  135.0    3.0\n",
       "30297     13858.0      2  11.0  350.0    1.0\n",
       "21490     36000.0      1  15.0  150.0    3.0\n",
       "22626       140.0      1   3.0  160.0    6.0\n",
       "20614     65000.0      1  12.0  150.0    5.0"
      ]
     },
     "execution_count": 131,
     "metadata": {},
     "output_type": "execute_result"
    }
   ],
   "source": [
    "x_train.head()"
   ]
  },
  {
   "cell_type": "code",
   "execution_count": 127,
   "id": "1c0b56ea",
   "metadata": {},
   "outputs": [
    {
     "data": {
      "text/html": [
       "<div>\n",
       "<style scoped>\n",
       "    .dataframe tbody tr th:only-of-type {\n",
       "        vertical-align: middle;\n",
       "    }\n",
       "\n",
       "    .dataframe tbody tr th {\n",
       "        vertical-align: top;\n",
       "    }\n",
       "\n",
       "    .dataframe thead th {\n",
       "        text-align: right;\n",
       "    }\n",
       "</style>\n",
       "<table border=\"1\" class=\"dataframe\">\n",
       "  <thead>\n",
       "    <tr style=\"text-align: right;\">\n",
       "      <th></th>\n",
       "      <th>bike_name</th>\n",
       "      <th>price</th>\n",
       "      <th>kms_driven</th>\n",
       "      <th>owner</th>\n",
       "      <th>age</th>\n",
       "      <th>power</th>\n",
       "      <th>brand</th>\n",
       "    </tr>\n",
       "  </thead>\n",
       "  <tbody>\n",
       "    <tr>\n",
       "      <th>0</th>\n",
       "      <td>TVS Star City Plus Dual Tone 110cc</td>\n",
       "      <td>35000.0</td>\n",
       "      <td>17654.0</td>\n",
       "      <td>1</td>\n",
       "      <td>3.0</td>\n",
       "      <td>110.0</td>\n",
       "      <td>8.0</td>\n",
       "    </tr>\n",
       "    <tr>\n",
       "      <th>1</th>\n",
       "      <td>Royal Enfield Classic 350cc</td>\n",
       "      <td>119900.0</td>\n",
       "      <td>11000.0</td>\n",
       "      <td>1</td>\n",
       "      <td>4.0</td>\n",
       "      <td>350.0</td>\n",
       "      <td>1.0</td>\n",
       "    </tr>\n",
       "    <tr>\n",
       "      <th>2</th>\n",
       "      <td>Triumph Daytona 675R</td>\n",
       "      <td>600000.0</td>\n",
       "      <td>110.0</td>\n",
       "      <td>1</td>\n",
       "      <td>8.0</td>\n",
       "      <td>675.0</td>\n",
       "      <td>13.0</td>\n",
       "    </tr>\n",
       "    <tr>\n",
       "      <th>3</th>\n",
       "      <td>TVS Apache RTR 180cc</td>\n",
       "      <td>65000.0</td>\n",
       "      <td>16329.0</td>\n",
       "      <td>1</td>\n",
       "      <td>4.0</td>\n",
       "      <td>180.0</td>\n",
       "      <td>8.0</td>\n",
       "    </tr>\n",
       "    <tr>\n",
       "      <th>4</th>\n",
       "      <td>Yamaha FZ S V 2.0 150cc-Ltd. Edition</td>\n",
       "      <td>80000.0</td>\n",
       "      <td>10000.0</td>\n",
       "      <td>1</td>\n",
       "      <td>3.0</td>\n",
       "      <td>150.0</td>\n",
       "      <td>5.0</td>\n",
       "    </tr>\n",
       "  </tbody>\n",
       "</table>\n",
       "</div>"
      ],
      "text/plain": [
       "                              bike_name     price  kms_driven  owner  age  \\\n",
       "0    TVS Star City Plus Dual Tone 110cc   35000.0     17654.0      1  3.0   \n",
       "1           Royal Enfield Classic 350cc  119900.0     11000.0      1  4.0   \n",
       "2                  Triumph Daytona 675R  600000.0       110.0      1  8.0   \n",
       "3                  TVS Apache RTR 180cc   65000.0     16329.0      1  4.0   \n",
       "4  Yamaha FZ S V 2.0 150cc-Ltd. Edition   80000.0     10000.0      1  3.0   \n",
       "\n",
       "   power  brand  \n",
       "0  110.0    8.0  \n",
       "1  350.0    1.0  \n",
       "2  675.0   13.0  \n",
       "3  180.0    8.0  \n",
       "4  150.0    5.0  "
      ]
     },
     "execution_count": 127,
     "metadata": {},
     "output_type": "execute_result"
    }
   ],
   "source": [
    "df.head()"
   ]
  },
  {
   "cell_type": "code",
   "execution_count": 3,
   "id": "fa5eafe4",
   "metadata": {},
   "outputs": [],
   "source": [
    "prediction=model2.predict([[2500,2,3,25,1]])"
   ]
  },
  {
   "cell_type": "code",
   "execution_count": 4,
   "id": "91f11061",
   "metadata": {},
   "outputs": [
    {
     "data": {
      "text/plain": [
       "array([138550.])"
      ]
     },
     "execution_count": 4,
     "metadata": {},
     "output_type": "execute_result"
    }
   ],
   "source": [
    "prediction"
   ]
  },
  {
   "cell_type": "code",
   "execution_count": 7,
   "id": "3e1b630c",
   "metadata": {},
   "outputs": [
    {
     "data": {
      "text/plain": [
       "'138550.0'"
      ]
     },
     "execution_count": 7,
     "metadata": {},
     "output_type": "execute_result"
    }
   ],
   "source": [
    "str(round(prediction[0],2))"
   ]
  },
  {
   "cell_type": "code",
   "execution_count": 4,
   "id": "1290a3d2",
   "metadata": {},
   "outputs": [
    {
     "data": {
      "text/plain": [
       "array([130010.77380952])"
      ]
     },
     "execution_count": 4,
     "metadata": {},
     "output_type": "execute_result"
    }
   ],
   "source": [
    "model2.predict([[11000,1,4,350,1]])"
   ]
  },
  {
   "cell_type": "markdown",
   "id": "4a539f6a",
   "metadata": {},
   "source": [
    "# THANK YOU ✌🤞🌹✌🤞😎"
   ]
  },
  {
   "cell_type": "code",
   "execution_count": null,
   "id": "80795ef5",
   "metadata": {},
   "outputs": [],
   "source": []
  }
 ],
 "metadata": {
  "kernelspec": {
   "display_name": "Python 3 (ipykernel)",
   "language": "python",
   "name": "python3"
  },
  "language_info": {
   "codemirror_mode": {
    "name": "ipython",
    "version": 3
   },
   "file_extension": ".py",
   "mimetype": "text/x-python",
   "name": "python",
   "nbconvert_exporter": "python",
   "pygments_lexer": "ipython3",
   "version": "3.10.6"
  }
 },
 "nbformat": 4,
 "nbformat_minor": 5
}
